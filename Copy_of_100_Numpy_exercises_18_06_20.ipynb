{
  "nbformat": 4,
  "nbformat_minor": 0,
  "metadata": {
    "colab": {
      "name": "Copy of 100_Numpy_exercises.ipynb",
      "provenance": [],
      "collapsed_sections": [
        "KnwIw4vknhKQ",
        "D_0mKb34nhKR",
        "GSnDjAS2nhKS",
        "Yu-hHFgDnhKT",
        "AZFGflKunhKU",
        "lOPM9UaunhKV",
        "C6iHX9uUnhKX",
        "TpJ51NiwnhKY",
        "lv__5ibynhKl",
        "CYU3zQmQnhKm",
        "qUREQgnGnhKn"
      ],
      "include_colab_link": true
    },
    "kernelspec": {
      "name": "python3",
      "display_name": "Python 3"
    }
  },
  "cells": [
    {
      "cell_type": "markdown",
      "metadata": {
        "id": "view-in-github",
        "colab_type": "text"
      },
      "source": [
        "<a href=\"https://colab.research.google.com/github/konicaRu/numpy-100/blob/master/Copy_of_100_Numpy_exercises_18_06_20.ipynb\" target=\"_parent\"><img src=\"https://colab.research.google.com/assets/colab-badge.svg\" alt=\"Open In Colab\"/></a>"
      ]
    },
    {
      "cell_type": "markdown",
      "metadata": {
        "id": "uY7Oy6CJnhHu",
        "colab_type": "text"
      },
      "source": [
        "# 100 numpy exercises\n",
        "\n",
        "This is a collection of exercises that have been collected in the numpy mailing list, on stack overflow\n",
        "and in the numpy documentation. The goal of this collection is to offer a quick reference for both old\n",
        "and new users but also to provide a set of exercises for those who teach.\n",
        "\n",
        "\n",
        "If you find an error or think you've a better way to solve some of them, feel\n",
        "free to open an issue at <https://github.com/rougier/numpy-100>."
      ]
    },
    {
      "cell_type": "markdown",
      "metadata": {
        "id": "A2I2Cj_anhHv",
        "colab_type": "text"
      },
      "source": [
        "File automatically generated. See the documentation to update questions/answers/hints programmatically."
      ]
    },
    {
      "cell_type": "markdown",
      "metadata": {
        "id": "81d0qZoRnhHv",
        "colab_type": "text"
      },
      "source": [
        "Run the `initialize.py` module, then for each question you can query the\n",
        "answer or an hint with `hint(n)` or `answer(n)` for `n` question number."
      ]
    },
    {
      "cell_type": "code",
      "metadata": {
        "id": "uMP-NHLmnhHw",
        "colab_type": "code",
        "colab": {}
      },
      "source": [
        "%run initialise.py"
      ],
      "execution_count": null,
      "outputs": []
    },
    {
      "cell_type": "markdown",
      "metadata": {
        "id": "89hwC3c8nhHy",
        "colab_type": "text"
      },
      "source": [
        "#### 1. Import the numpy package under the name `np` (★☆☆)"
      ]
    },
    {
      "cell_type": "code",
      "metadata": {
        "id": "SH28Qo1vnhHz",
        "colab_type": "code",
        "colab": {}
      },
      "source": [
        "import numpy as np"
      ],
      "execution_count": 1,
      "outputs": []
    },
    {
      "cell_type": "markdown",
      "metadata": {
        "id": "qch7_hn9nueu",
        "colab_type": "text"
      },
      "source": [
        ""
      ]
    },
    {
      "cell_type": "markdown",
      "metadata": {
        "id": "uOc8GihvnhH0",
        "colab_type": "text"
      },
      "source": [
        "#### 2. Print the numpy version and the configuration (★☆☆)"
      ]
    },
    {
      "cell_type": "markdown",
      "metadata": {
        "id": "uuvndxJB-jk-",
        "colab_type": "text"
      },
      "source": [
        ""
      ]
    },
    {
      "cell_type": "code",
      "metadata": {
        "id": "0rOrNWBPnhH1",
        "colab_type": "code",
        "colab": {
          "base_uri": "https://localhost:8080/",
          "height": 470
        },
        "outputId": "2aa56bd8-2ac2-4c35-b12a-66c082d8a289"
      },
      "source": [
        "print(np.__version__)\n",
        "np.show_config()"
      ],
      "execution_count": null,
      "outputs": [
        {
          "output_type": "stream",
          "text": [
            "1.18.4\n",
            "blas_mkl_info:\n",
            "  NOT AVAILABLE\n",
            "blis_info:\n",
            "  NOT AVAILABLE\n",
            "openblas_info:\n",
            "    libraries = ['openblas', 'openblas']\n",
            "    library_dirs = ['/usr/local/lib']\n",
            "    language = c\n",
            "    define_macros = [('HAVE_CBLAS', None)]\n",
            "blas_opt_info:\n",
            "    libraries = ['openblas', 'openblas']\n",
            "    library_dirs = ['/usr/local/lib']\n",
            "    language = c\n",
            "    define_macros = [('HAVE_CBLAS', None)]\n",
            "lapack_mkl_info:\n",
            "  NOT AVAILABLE\n",
            "openblas_lapack_info:\n",
            "    libraries = ['openblas', 'openblas']\n",
            "    library_dirs = ['/usr/local/lib']\n",
            "    language = c\n",
            "    define_macros = [('HAVE_CBLAS', None)]\n",
            "lapack_opt_info:\n",
            "    libraries = ['openblas', 'openblas']\n",
            "    library_dirs = ['/usr/local/lib']\n",
            "    language = c\n",
            "    define_macros = [('HAVE_CBLAS', None)]\n"
          ],
          "name": "stdout"
        }
      ]
    },
    {
      "cell_type": "markdown",
      "metadata": {
        "id": "pFLVtoNLnhH3",
        "colab_type": "text"
      },
      "source": [
        "#### 3. Create a null vector of size 10 (★☆☆)"
      ]
    },
    {
      "cell_type": "code",
      "metadata": {
        "id": "8FclYtGynhH3",
        "colab_type": "code",
        "colab": {
          "base_uri": "https://localhost:8080/",
          "height": 34
        },
        "outputId": "ee28465a-976a-417f-980d-0accc2c7c869"
      },
      "source": [
        "a = np.zeros(10)"
      ],
      "execution_count": null,
      "outputs": [
        {
          "output_type": "execute_result",
          "data": {
            "text/plain": [
              "array([0., 0., 0., 0., 0., 0., 0., 0., 0., 0.])"
            ]
          },
          "metadata": {
            "tags": []
          },
          "execution_count": 5
        }
      ]
    },
    {
      "cell_type": "markdown",
      "metadata": {
        "id": "8CKbAXw5nhH5",
        "colab_type": "text"
      },
      "source": [
        "#### 4. How to find the memory size of any array (★☆☆)"
      ]
    },
    {
      "cell_type": "code",
      "metadata": {
        "id": "Pe7OhnwDnhH6",
        "colab_type": "code",
        "colab": {
          "base_uri": "https://localhost:8080/",
          "height": 34
        },
        "outputId": "9a316114-2bb4-4956-d780-bbe8b9c233b9"
      },
      "source": [
        "a = np.zeros(10)\n",
        "np.size(a)\n",
        "a.itemsize"
      ],
      "execution_count": null,
      "outputs": [
        {
          "output_type": "execute_result",
          "data": {
            "text/plain": [
              "10"
            ]
          },
          "metadata": {
            "tags": []
          },
          "execution_count": 10
        }
      ]
    },
    {
      "cell_type": "markdown",
      "metadata": {
        "id": "6FUpPTBOnhH7",
        "colab_type": "text"
      },
      "source": [
        "#### 5. How to get the documentation of the numpy add function from the command line? (★☆☆)"
      ]
    },
    {
      "cell_type": "code",
      "metadata": {
        "id": "EJQZDOtsnhH8",
        "colab_type": "code",
        "colab": {}
      },
      "source": [
        "np.info(np.add)"
      ],
      "execution_count": null,
      "outputs": []
    },
    {
      "cell_type": "code",
      "metadata": {
        "id": "n0itKM9OedBR",
        "colab_type": "code",
        "colab": {}
      },
      "source": [
        "python -c \"import numpy; numpy.info(numpy.add)\""
      ],
      "execution_count": null,
      "outputs": []
    },
    {
      "cell_type": "markdown",
      "metadata": {
        "id": "8NPOUVFEectj",
        "colab_type": "text"
      },
      "source": [
        ""
      ]
    },
    {
      "cell_type": "markdown",
      "metadata": {
        "id": "2Re5TlFvnhH-",
        "colab_type": "text"
      },
      "source": [
        "#### 6. Create a null vector of size 10 but the fifth value which is 1 (★☆☆)"
      ]
    },
    {
      "cell_type": "code",
      "metadata": {
        "id": "RwprvEHqnhH-",
        "colab_type": "code",
        "colab": {
          "base_uri": "https://localhost:8080/",
          "height": 34
        },
        "outputId": "3b044791-d00c-41b8-f1a8-73828ab992c8"
      },
      "source": [
        "b = np.zeros(10)\n",
        "b[4] = 1\n",
        "print(b)\n"
      ],
      "execution_count": null,
      "outputs": [
        {
          "output_type": "stream",
          "text": [
            "[0. 0. 0. 0. 1. 0. 0. 0. 0. 0.]\n"
          ],
          "name": "stdout"
        }
      ]
    },
    {
      "cell_type": "markdown",
      "metadata": {
        "id": "3taJB2Z-nhIA",
        "colab_type": "text"
      },
      "source": [
        "#### 7. Create a vector with values ranging from 10 to 49 (★☆☆)"
      ]
    },
    {
      "cell_type": "code",
      "metadata": {
        "id": "ZJ6c_pvXnhIB",
        "colab_type": "code",
        "colab": {
          "base_uri": "https://localhost:8080/",
          "height": 67
        },
        "outputId": "6209553c-407e-4006-b22b-f5709f26327d"
      },
      "source": [
        "np.arange(10, 50)"
      ],
      "execution_count": null,
      "outputs": [
        {
          "output_type": "execute_result",
          "data": {
            "text/plain": [
              "array([10, 11, 12, 13, 14, 15, 16, 17, 18, 19, 20, 21, 22, 23, 24, 25, 26,\n",
              "       27, 28, 29, 30, 31, 32, 33, 34, 35, 36, 37, 38, 39, 40, 41, 42, 43,\n",
              "       44, 45, 46, 47, 48, 49])"
            ]
          },
          "metadata": {
            "tags": []
          },
          "execution_count": 23
        }
      ]
    },
    {
      "cell_type": "markdown",
      "metadata": {
        "id": "rWIXsY3ZnhIC",
        "colab_type": "text"
      },
      "source": [
        "#### 8. Reverse a vector (first element becomes last) (★☆☆)"
      ]
    },
    {
      "cell_type": "code",
      "metadata": {
        "id": "xuCaV2pMnhID",
        "colab_type": "code",
        "colab": {
          "base_uri": "https://localhost:8080/",
          "height": 67
        },
        "outputId": "a9e4645d-4b7c-47e6-9be7-f57acebf3fd2"
      },
      "source": [
        "a = np.arange(10, 50)\n",
        "a[::-1]"
      ],
      "execution_count": null,
      "outputs": [
        {
          "output_type": "execute_result",
          "data": {
            "text/plain": [
              "array([49, 48, 47, 46, 45, 44, 43, 42, 41, 40, 39, 38, 37, 36, 35, 34, 33,\n",
              "       32, 31, 30, 29, 28, 27, 26, 25, 24, 23, 22, 21, 20, 19, 18, 17, 16,\n",
              "       15, 14, 13, 12, 11, 10])"
            ]
          },
          "metadata": {
            "tags": []
          },
          "execution_count": 25
        }
      ]
    },
    {
      "cell_type": "markdown",
      "metadata": {
        "id": "rDpCnZf-nhIF",
        "colab_type": "text"
      },
      "source": [
        "#### 9. Create a 3x3 matrix with values ranging from 0 to 8 (★☆☆)"
      ]
    },
    {
      "cell_type": "code",
      "metadata": {
        "id": "IOprb7VenhIF",
        "colab_type": "code",
        "colab": {}
      },
      "source": [
        ""
      ],
      "execution_count": null,
      "outputs": []
    },
    {
      "cell_type": "code",
      "metadata": {
        "colab_type": "code",
        "id": "rED9Wicng7zp",
        "colab": {
          "base_uri": "https://localhost:8080/",
          "height": 67
        },
        "outputId": "d9f0bbb0-2afa-442d-cf40-86210b0e1106"
      },
      "source": [
        "np.arange(9).reshape(3, 3)"
      ],
      "execution_count": null,
      "outputs": [
        {
          "output_type": "execute_result",
          "data": {
            "text/plain": [
              "array([[0, 1, 2],\n",
              "       [3, 4, 5],\n",
              "       [6, 7, 8]])"
            ]
          },
          "metadata": {
            "tags": []
          },
          "execution_count": 33
        }
      ]
    },
    {
      "cell_type": "code",
      "metadata": {
        "colab_type": "code",
        "id": "6qAWhDDohfyU",
        "colab": {}
      },
      "source": [
        ""
      ],
      "execution_count": null,
      "outputs": []
    },
    {
      "cell_type": "markdown",
      "metadata": {
        "id": "ag1TgBjtnhIH",
        "colab_type": "text"
      },
      "source": [
        "#### 10. Find indices of non-zero elements from [1,2,0,0,4,0] (★☆☆)"
      ]
    },
    {
      "cell_type": "code",
      "metadata": {
        "id": "2xEalQjRnhII",
        "colab_type": "code",
        "colab": {
          "base_uri": "https://localhost:8080/",
          "height": 34
        },
        "outputId": "53389758-ebe1-4e32-a581-372f65e62ffd"
      },
      "source": [
        "c = np.nonzero([1,2,0,0,4,0])\n",
        "print(c)"
      ],
      "execution_count": null,
      "outputs": [
        {
          "output_type": "stream",
          "text": [
            "(array([0, 1, 4]),)\n"
          ],
          "name": "stdout"
        }
      ]
    },
    {
      "cell_type": "markdown",
      "metadata": {
        "id": "GfyprTi4nhIK",
        "colab_type": "text"
      },
      "source": [
        "#### 11. Create a 3x3 identity matrix (★☆☆)"
      ]
    },
    {
      "cell_type": "markdown",
      "metadata": {
        "id": "kPMEbSV2tjMU",
        "colab_type": "text"
      },
      "source": [
        ""
      ]
    },
    {
      "cell_type": "markdown",
      "metadata": {
        "id": "wSSWstiNtiTM",
        "colab_type": "text"
      },
      "source": [
        "Функция eye() возвращает двумерный массив у которого все элементы по диагонали равны 1, а все остальные равны 0.\n",
        "\n",
        "Параметры:\n",
        "N - целое число\n",
        "Задает количество строк выходного массива.\n",
        "M - целое число (необязательный)\n",
        "Задает количество столбцов выходного массива. Если этот параметр не задан то M = N.\n",
        "k - индекс диагонали (необязательный)\n",
        "По умолчанию k = 0, что соответствует главной диагонали. Положительное значение k смещает диагональ вверх, отрицательное - вниз.\n",
        "dtype - тип данных NumPy (необязательный)\n",
        "Определяет тип данных выходного массива.\n",
        "order - 'C' или 'F' (необязательный)\n",
        "Этот параметр определяет в каком порядке массивы должны храниться в памяти: строчном C-стиле или столбчатом стиле Fortran.\n",
        "Возвращает:\n",
        "результат - массив NumPy\n",
        "Массив размером (N, M) с единицами по указанной диагонали и остальными нулевыми элементами."
      ]
    },
    {
      "cell_type": "code",
      "metadata": {
        "id": "czhfvweUtiC4",
        "colab_type": "code",
        "colab": {
          "base_uri": "https://localhost:8080/",
          "height": 67
        },
        "outputId": "36741bcf-c6d8-4e1e-cf37-d21c9f540913"
      },
      "source": [
        "np.eye(3,3,1)"
      ],
      "execution_count": null,
      "outputs": [
        {
          "output_type": "execute_result",
          "data": {
            "text/plain": [
              "array([[0., 1., 0.],\n",
              "       [0., 0., 1.],\n",
              "       [0., 0., 0.]])"
            ]
          },
          "metadata": {
            "tags": []
          },
          "execution_count": 8
        }
      ]
    },
    {
      "cell_type": "markdown",
      "metadata": {
        "id": "j3H51b-2nhIM",
        "colab_type": "text"
      },
      "source": [
        "#### 12. Create a 3x3x3 array with random values (★☆☆)"
      ]
    },
    {
      "cell_type": "code",
      "metadata": {
        "id": "yO3pTuztnhIM",
        "colab_type": "code",
        "colab": {
          "base_uri": "https://localhost:8080/",
          "height": 67
        },
        "outputId": "5aedaccf-ffaa-4913-93cb-4957634bc673"
      },
      "source": [
        "np.random.random((3,3))"
      ],
      "execution_count": null,
      "outputs": [
        {
          "output_type": "execute_result",
          "data": {
            "text/plain": [
              "array([[0.28659538, 0.16367424, 0.39655357],\n",
              "       [0.97001585, 0.63831798, 0.47251308],\n",
              "       [0.51401852, 0.70155427, 0.25431962]])"
            ]
          },
          "metadata": {
            "tags": []
          },
          "execution_count": 18
        }
      ]
    },
    {
      "cell_type": "markdown",
      "metadata": {
        "id": "3JrsAkG8nhIO",
        "colab_type": "text"
      },
      "source": [
        "#### 13. Create a 10x10 array with random values and find the minimum and maximum values (★☆☆)"
      ]
    },
    {
      "cell_type": "code",
      "metadata": {
        "id": "cSTtYGvjnhIO",
        "colab_type": "code",
        "colab": {}
      },
      "source": [
        ""
      ],
      "execution_count": null,
      "outputs": []
    },
    {
      "cell_type": "code",
      "metadata": {
        "colab_type": "code",
        "id": "lBFYUX5yvW_5",
        "colab": {
          "base_uri": "https://localhost:8080/",
          "height": 34
        },
        "outputId": "92099caf-2318-441e-fe9d-166a20525ffe"
      },
      "source": [
        "a = np.random.random((10,10))\n",
        "amin = a.min()\n",
        "amax = a.max()\n",
        "print(amin, amax)"
      ],
      "execution_count": null,
      "outputs": [
        {
          "output_type": "stream",
          "text": [
            "0.0039132124544069 0.9958518477015249\n"
          ],
          "name": "stdout"
        }
      ]
    },
    {
      "cell_type": "markdown",
      "metadata": {
        "id": "NaiSsXFZnhIQ",
        "colab_type": "text"
      },
      "source": [
        "#### 14. Create a random vector of size 30 and find the mean value (★☆☆)"
      ]
    },
    {
      "cell_type": "code",
      "metadata": {
        "id": "EHp4nYJHnhIR",
        "colab_type": "code",
        "colab": {
          "base_uri": "https://localhost:8080/",
          "height": 34
        },
        "outputId": "fbb9cf04-5bfa-4255-9b7e-7e724bdb7e74"
      },
      "source": [
        "a = np.random.random(30)\n",
        "amean = a.mean()\n",
        "print(amean)"
      ],
      "execution_count": null,
      "outputs": [
        {
          "output_type": "stream",
          "text": [
            "0.49500566922238604\n"
          ],
          "name": "stdout"
        }
      ]
    },
    {
      "cell_type": "markdown",
      "metadata": {
        "id": "W9irI7UDnhIS",
        "colab_type": "text"
      },
      "source": [
        "#### 15. Create a 2d array with 1 on the border and 0 inside (★☆☆)"
      ]
    },
    {
      "cell_type": "code",
      "metadata": {
        "id": "eoIVSv4-nhIT",
        "colab_type": "code",
        "colab": {
          "base_uri": "https://localhost:8080/",
          "height": 185
        },
        "outputId": "cedcffea-3c8a-4243-e465-cbd058f1252e"
      },
      "source": [
        "A = np.ones((10, 15))\n",
        "A[1:-1,1:-1] = 0\n",
        "print(A)"
      ],
      "execution_count": null,
      "outputs": [
        {
          "output_type": "stream",
          "text": [
            "[[1. 1. 1. 1. 1. 1. 1. 1. 1. 1. 1. 1. 1. 1. 1.]\n",
            " [1. 0. 0. 0. 0. 0. 0. 0. 0. 0. 0. 0. 0. 0. 1.]\n",
            " [1. 0. 0. 0. 0. 0. 0. 0. 0. 0. 0. 0. 0. 0. 1.]\n",
            " [1. 0. 0. 0. 0. 0. 0. 0. 0. 0. 0. 0. 0. 0. 1.]\n",
            " [1. 0. 0. 0. 0. 0. 0. 0. 0. 0. 0. 0. 0. 0. 1.]\n",
            " [1. 0. 0. 0. 0. 0. 0. 0. 0. 0. 0. 0. 0. 0. 1.]\n",
            " [1. 0. 0. 0. 0. 0. 0. 0. 0. 0. 0. 0. 0. 0. 1.]\n",
            " [1. 0. 0. 0. 0. 0. 0. 0. 0. 0. 0. 0. 0. 0. 1.]\n",
            " [1. 0. 0. 0. 0. 0. 0. 0. 0. 0. 0. 0. 0. 0. 1.]\n",
            " [1. 1. 1. 1. 1. 1. 1. 1. 1. 1. 1. 1. 1. 1. 1.]]\n"
          ],
          "name": "stdout"
        }
      ]
    },
    {
      "cell_type": "markdown",
      "metadata": {
        "id": "YBpZ38cDKv3_",
        "colab_type": "text"
      },
      "source": [
        "https://pythonworld.ru/numpy/2.html https://pyprog.pro/index_section_iteration.html"
      ]
    },
    {
      "cell_type": "markdown",
      "metadata": {
        "id": "MJoiUwGmnhIU",
        "colab_type": "text"
      },
      "source": [
        "#### 16. How to add a border (filled with 0's) around an existing array? (★☆☆)\n",
        "Z = np.ones((5,5))\n",
        "Z = np.pad(Z, pad_width=1, mode='constant', constant_values=0)\n",
        "print(Z)"
      ]
    },
    {
      "cell_type": "markdown",
      "metadata": {
        "id": "tklBUVRcnhIW",
        "colab_type": "text"
      },
      "source": [
        "#### 17. What is the result of the following expression? (★☆☆)\n",
        "```python\n",
        "0 * np.nan\n",
        "np.nan == np.nan\n",
        "np.inf > np.nan\n",
        "np.nan - np.nan\n",
        "np.nan in set([np.nan])\n",
        "0.3 == 3 * 0.1\n",
        "```"
      ]
    },
    {
      "cell_type": "markdown",
      "metadata": {
        "id": "ruZXtFPNfi6W",
        "colab_type": "text"
      },
      "source": [
        "http://espressocode.top/numpy-nan_to_num-in-python/"
      ]
    },
    {
      "cell_type": "code",
      "metadata": {
        "id": "lGxmke39nhIW",
        "colab_type": "code",
        "colab": {
          "base_uri": "https://localhost:8080/",
          "height": 118
        },
        "outputId": "95845ca5-3bf9-4c07-e377-860648963054"
      },
      "source": [
        "print(0 * np.nan)\n",
        "print(np.nan < np.inf)\n",
        "print(np.nan == np. inf)\n",
        "print(np.nan - np.inf)\n",
        "print(np.nan in set ([np.nan]))\n",
        "print(0.3 == 3*0.1)\n"
      ],
      "execution_count": null,
      "outputs": [
        {
          "output_type": "stream",
          "text": [
            "nan\n",
            "False\n",
            "False\n",
            "nan\n",
            "True\n",
            "False\n"
          ],
          "name": "stdout"
        }
      ]
    },
    {
      "cell_type": "markdown",
      "metadata": {
        "id": "l79LNjvtnhIY",
        "colab_type": "text"
      },
      "source": [
        "#### 18. Create a 5x5 matrix with values 1,2,3,4 just below the diagonal (★☆☆)"
      ]
    },
    {
      "cell_type": "code",
      "metadata": {
        "id": "5nypKmsanhIa",
        "colab_type": "code",
        "colab": {
          "base_uri": "https://localhost:8080/",
          "height": 84
        },
        "outputId": "38578beb-5893-4581-bc67-1c23575b3b50"
      },
      "source": [
        "a = np.diag(1+np.arange(4),k=0)\n",
        "print(a)\n"
      ],
      "execution_count": null,
      "outputs": [
        {
          "output_type": "stream",
          "text": [
            "[[1 0 0 0]\n",
            " [0 2 0 0]\n",
            " [0 0 3 0]\n",
            " [0 0 0 4]]\n"
          ],
          "name": "stdout"
        }
      ]
    },
    {
      "cell_type": "markdown",
      "metadata": {
        "id": "91KYfXnvnhIc",
        "colab_type": "text"
      },
      "source": [
        "#### 19. Create a 8x8 matrix and fill it with a checkerboard pattern (★☆☆)"
      ]
    },
    {
      "cell_type": "code",
      "metadata": {
        "id": "-P4GizLInhIc",
        "colab_type": "code",
        "colab": {
          "base_uri": "https://localhost:8080/",
          "height": 151
        },
        "outputId": "e2f5ba36-2a38-483e-b82f-138b3d2dfdf3"
      },
      "source": [
        "A = np.zeros((8, 8))\n",
        "A[1::2, ::2] = 1\n",
        "A[::2, 1::2] = 1\n",
        "print(A)"
      ],
      "execution_count": null,
      "outputs": [
        {
          "output_type": "stream",
          "text": [
            "[[0. 1. 0. 1. 0. 1. 0. 1.]\n",
            " [1. 0. 1. 0. 1. 0. 1. 0.]\n",
            " [0. 1. 0. 1. 0. 1. 0. 1.]\n",
            " [1. 0. 1. 0. 1. 0. 1. 0.]\n",
            " [0. 1. 0. 1. 0. 1. 0. 1.]\n",
            " [1. 0. 1. 0. 1. 0. 1. 0.]\n",
            " [0. 1. 0. 1. 0. 1. 0. 1.]\n",
            " [1. 0. 1. 0. 1. 0. 1. 0.]]\n"
          ],
          "name": "stdout"
        }
      ]
    },
    {
      "cell_type": "markdown",
      "metadata": {
        "id": "JehWqhAu2TMB",
        "colab_type": "text"
      },
      "source": [
        "A[1::2, ::2] первое значение строка, бежим строки начиная с первой до конца с шагом два. \n",
        "Второе значение меняем в строках 0 на 1 с шагом 2 "
      ]
    },
    {
      "cell_type": "markdown",
      "metadata": {
        "id": "tnvVDax5nhIe",
        "colab_type": "text"
      },
      "source": [
        "#### 20. Consider a (6,7,8) shape array, what is the index (x,y,z) of the 100th element?"
      ]
    },
    {
      "cell_type": "code",
      "metadata": {
        "id": "LGk0OgzdnhIf",
        "colab_type": "code",
        "colab": {
          "base_uri": "https://localhost:8080/",
          "height": 823
        },
        "outputId": "5a6d18c7-dc6e-4e44-f3ed-0bb319721a45"
      },
      "source": [
        "print(np.ones((6,7,8)))\n",
        "print(np.unravel_index(99,(6,7,8)))"
      ],
      "execution_count": null,
      "outputs": [
        {
          "output_type": "stream",
          "text": [
            "[[[1. 1. 1. 1. 1. 1. 1. 1.]\n",
            "  [1. 1. 1. 1. 1. 1. 1. 1.]\n",
            "  [1. 1. 1. 1. 1. 1. 1. 1.]\n",
            "  [1. 1. 1. 1. 1. 1. 1. 1.]\n",
            "  [1. 1. 1. 1. 1. 1. 1. 1.]\n",
            "  [1. 1. 1. 1. 1. 1. 1. 1.]\n",
            "  [1. 1. 1. 1. 1. 1. 1. 1.]]\n",
            "\n",
            " [[1. 1. 1. 1. 1. 1. 1. 1.]\n",
            "  [1. 1. 1. 1. 1. 1. 1. 1.]\n",
            "  [1. 1. 1. 1. 1. 1. 1. 1.]\n",
            "  [1. 1. 1. 1. 1. 1. 1. 1.]\n",
            "  [1. 1. 1. 1. 1. 1. 1. 1.]\n",
            "  [1. 1. 1. 1. 1. 1. 1. 1.]\n",
            "  [1. 1. 1. 1. 1. 1. 1. 1.]]\n",
            "\n",
            " [[1. 1. 1. 1. 1. 1. 1. 1.]\n",
            "  [1. 1. 1. 1. 1. 1. 1. 1.]\n",
            "  [1. 1. 1. 1. 1. 1. 1. 1.]\n",
            "  [1. 1. 1. 1. 1. 1. 1. 1.]\n",
            "  [1. 1. 1. 1. 1. 1. 1. 1.]\n",
            "  [1. 1. 1. 1. 1. 1. 1. 1.]\n",
            "  [1. 1. 1. 1. 1. 1. 1. 1.]]\n",
            "\n",
            " [[1. 1. 1. 1. 1. 1. 1. 1.]\n",
            "  [1. 1. 1. 1. 1. 1. 1. 1.]\n",
            "  [1. 1. 1. 1. 1. 1. 1. 1.]\n",
            "  [1. 1. 1. 1. 1. 1. 1. 1.]\n",
            "  [1. 1. 1. 1. 1. 1. 1. 1.]\n",
            "  [1. 1. 1. 1. 1. 1. 1. 1.]\n",
            "  [1. 1. 1. 1. 1. 1. 1. 1.]]\n",
            "\n",
            " [[1. 1. 1. 1. 1. 1. 1. 1.]\n",
            "  [1. 1. 1. 1. 1. 1. 1. 1.]\n",
            "  [1. 1. 1. 1. 1. 1. 1. 1.]\n",
            "  [1. 1. 1. 1. 1. 1. 1. 1.]\n",
            "  [1. 1. 1. 1. 1. 1. 1. 1.]\n",
            "  [1. 1. 1. 1. 1. 1. 1. 1.]\n",
            "  [1. 1. 1. 1. 1. 1. 1. 1.]]\n",
            "\n",
            " [[1. 1. 1. 1. 1. 1. 1. 1.]\n",
            "  [1. 1. 1. 1. 1. 1. 1. 1.]\n",
            "  [1. 1. 1. 1. 1. 1. 1. 1.]\n",
            "  [1. 1. 1. 1. 1. 1. 1. 1.]\n",
            "  [1. 1. 1. 1. 1. 1. 1. 1.]\n",
            "  [1. 1. 1. 1. 1. 1. 1. 1.]\n",
            "  [1. 1. 1. 1. 1. 1. 1. 1.]]]\n",
            "(1, 5, 3)\n"
          ],
          "name": "stdout"
        }
      ]
    },
    {
      "cell_type": "markdown",
      "metadata": {
        "id": "PiPIIhXcnhIg",
        "colab_type": "text"
      },
      "source": [
        "#### 21. Create a checkerboard 8x8 matrix using the tile function (★☆☆)"
      ]
    },
    {
      "cell_type": "code",
      "metadata": {
        "id": "FqnSYXL5nhIh",
        "colab_type": "code",
        "colab": {
          "base_uri": "https://localhost:8080/",
          "height": 168
        },
        "outputId": "6424ae57-de2c-4766-a8e4-e68b57cad3b9"
      },
      "source": [
        "print(np.array([[0,1],[[1,0]]]), (4,4))\n",
        "\n",
        "print(np.tile( np.array([[0,1],[1,0]]), (4,4)))\n"
      ],
      "execution_count": null,
      "outputs": [
        {
          "output_type": "stream",
          "text": [
            "[list([0, 1]) list([[1, 0]])] (4, 4)\n",
            "[[0 1 0 1 0 1 0 1]\n",
            " [1 0 1 0 1 0 1 0]\n",
            " [0 1 0 1 0 1 0 1]\n",
            " [1 0 1 0 1 0 1 0]\n",
            " [0 1 0 1 0 1 0 1]\n",
            " [1 0 1 0 1 0 1 0]\n",
            " [0 1 0 1 0 1 0 1]\n",
            " [1 0 1 0 1 0 1 0]]\n"
          ],
          "name": "stdout"
        }
      ]
    },
    {
      "cell_type": "markdown",
      "metadata": {
        "id": "BjLd2DzTtdP2",
        "colab_type": "text"
      },
      "source": [
        "https://pyprog.pro/array_manipulation/tile.html\n",
        "numpy.tile(a, rep)\n",
        "Функция tile() создает массив повторением указанного массива a заданным количеством раз.\n",
        ">>> a = np.array([1, 2])\n",
        ">>> \n",
        ">>> np.tile(a, 2)\n",
        "array([1, 2, 1, 2])\n",
        ">>> \n",
        ">>> np.tile(a, [2, 2])\n",
        "array([[1, 2, 1, 2],\n",
        "       [1, 2, 1, 2]])\n",
        ">>> \n",
        ">>> np.tile(a, [2, 2, 2])\n",
        "array([[[1, 2, 1, 2],\n",
        "        [1, 2, 1, 2]],\n",
        "\n",
        "       [[1, 2, 1, 2],\n",
        "        [1, 2, 1, 2]]])\n",
        ">>> "
      ]
    },
    {
      "cell_type": "markdown",
      "metadata": {
        "id": "Na5CP-GKnhIi",
        "colab_type": "text"
      },
      "source": [
        "#### 22. Normalize a 5x5 random matrix (★☆☆)"
      ]
    },
    {
      "cell_type": "code",
      "metadata": {
        "id": "VLe6JJtwnhIj",
        "colab_type": "code",
        "colab": {
          "base_uri": "https://localhost:8080/",
          "height": 185
        },
        "outputId": "ee6c4e57-04ee-4146-fd24-22970ba2dc19"
      },
      "source": [
        "a = np.random.random((5,5))\n",
        "print(a)\n",
        "c = (a - np.mean (a)) / (np.std (a))\n",
        "print(Z)"
      ],
      "execution_count": null,
      "outputs": [
        {
          "output_type": "stream",
          "text": [
            "[[0.53996652 0.62903731 0.95975574 0.99651238 0.26190351]\n",
            " [0.83688979 0.20353085 0.04606009 0.77325797 0.20074   ]\n",
            " [0.58900536 0.5633814  0.74875577 0.27773472 0.2890488 ]\n",
            " [0.00546738 0.35701696 0.84445795 0.72235422 0.34362571]\n",
            " [0.71190117 0.70368264 0.37896704 0.49562688 0.94666779]]\n",
            "[[ 0.85354909 -1.62786309  0.71820131 -1.10691733  1.71810203]\n",
            " [-0.9342986   0.85214473 -1.27862259  0.15897776  1.65792176]\n",
            " [-0.85710846  1.45042197 -0.64761014  0.09007899  0.33647227]\n",
            " [ 0.19310659 -1.3743374  -0.8540316   0.74624243  0.09974421]\n",
            " [ 1.23064734 -0.88605187 -1.2027099  -0.08801029  0.75195079]]\n"
          ],
          "name": "stdout"
        }
      ]
    },
    {
      "cell_type": "markdown",
      "metadata": {
        "id": "1tWrxc2CnhIk",
        "colab_type": "text"
      },
      "source": [
        "#### 23. Create a custom dtype that describes a color as four unsigned bytes (RGBA) (★☆☆)"
      ]
    },
    {
      "cell_type": "code",
      "metadata": {
        "id": "l13iKzbknhIk",
        "colab_type": "code",
        "colab": {
          "base_uri": "https://localhost:8080/",
          "height": 87
        },
        "outputId": "04e04627-3c5a-4409-e4e7-030f89417380"
      },
      "source": [
        "color = np.dtype([(\"r\", np.ubyte, 1),\n",
        "                  (\"g\", np.ubyte, 1),\n",
        "                  (\"b\", np.ubyte, 1),\n",
        "                  (\"a\", np.ubyte, 1)])\n",
        "print(color)"
      ],
      "execution_count": null,
      "outputs": [
        {
          "output_type": "stream",
          "text": [
            "[('r', 'u1'), ('g', 'u1'), ('b', 'u1'), ('a', 'u1')]\n"
          ],
          "name": "stdout"
        },
        {
          "output_type": "stream",
          "text": [
            "/usr/local/lib/python3.6/dist-packages/ipykernel_launcher.py:4: FutureWarning: Passing (type, 1) or '1type' as a synonym of type is deprecated; in a future version of numpy, it will be understood as (type, (1,)) / '(1,)type'.\n",
            "  after removing the cwd from sys.path.\n"
          ],
          "name": "stderr"
        }
      ]
    },
    {
      "cell_type": "markdown",
      "metadata": {
        "id": "AO-cP1f1nhIm",
        "colab_type": "text"
      },
      "source": [
        "#### 24. Multiply a 5x3 matrix by a 3x2 matrix (real matrix product) (★☆☆)"
      ]
    },
    {
      "cell_type": "code",
      "metadata": {
        "id": "83hMUWPRnhIm",
        "colab_type": "code",
        "colab": {
          "base_uri": "https://localhost:8080/",
          "height": 235
        },
        "outputId": "bc506aec-38dd-4693-a2c7-43900a14915e"
      },
      "source": [
        "a = np.arange(15).reshape(5,3)\n",
        "b = np.arange(6).reshape(3,2)\n",
        "c = np.dot(a,b)\n",
        "print(a)\n",
        "print(b)\n",
        "print(c)\n"
      ],
      "execution_count": null,
      "outputs": [
        {
          "output_type": "stream",
          "text": [
            "[[ 0  1  2]\n",
            " [ 3  4  5]\n",
            " [ 6  7  8]\n",
            " [ 9 10 11]\n",
            " [12 13 14]]\n",
            "[[0 1]\n",
            " [2 3]\n",
            " [4 5]]\n",
            "[[ 10  13]\n",
            " [ 28  40]\n",
            " [ 46  67]\n",
            " [ 64  94]\n",
            " [ 82 121]]\n"
          ],
          "name": "stdout"
        }
      ]
    },
    {
      "cell_type": "markdown",
      "metadata": {
        "id": "ZRcshPfZnhIo",
        "colab_type": "text"
      },
      "source": [
        "#### 25. Given a 1D array, negate all elements which are between 3 and 8, in place. (★☆☆)"
      ]
    },
    {
      "cell_type": "code",
      "metadata": {
        "id": "IggOsYGLnhIp",
        "colab_type": "code",
        "colab": {
          "base_uri": "https://localhost:8080/",
          "height": 34
        },
        "outputId": "76c795af-6ae3-4e03-8334-18bce324e703"
      },
      "source": [
        "a = np.arange(11)\n",
        "a[(3 < a) & (a <= 8)] *= -1\n",
        "print(a)"
      ],
      "execution_count": null,
      "outputs": [
        {
          "output_type": "stream",
          "text": [
            "[ 0  1  2  3 -4 -5 -6 -7 -8  9 10]\n"
          ],
          "name": "stdout"
        }
      ]
    },
    {
      "cell_type": "markdown",
      "metadata": {
        "id": "ep90h354nhIq",
        "colab_type": "text"
      },
      "source": [
        "#### 26. What is the output of the following script? (★☆☆)\n",
        "```python\n",
        "\n",
        "print(sum(range(5),-1))\n",
        "from numpy import *\n",
        "print(sum(range(5),-1))\n",
        "```"
      ]
    },
    {
      "cell_type": "code",
      "metadata": {
        "id": "teUF-ULBnhIr",
        "colab_type": "code",
        "colab": {
          "base_uri": "https://localhost:8080/",
          "height": 50
        },
        "outputId": "1b7ad288-0a6c-46a8-be1d-55adc8800086"
      },
      "source": [
        "print(sum(range(5),-1))\n",
        "from numpy import  *\n",
        "print(sum(range(5), -1))"
      ],
      "execution_count": null,
      "outputs": [
        {
          "output_type": "stream",
          "text": [
            "10\n",
            "10\n"
          ],
          "name": "stdout"
        }
      ]
    },
    {
      "cell_type": "markdown",
      "metadata": {
        "id": "d5AsA38rnhIt",
        "colab_type": "text"
      },
      "source": [
        "#### 27. Consider an integer vector Z, which of these expressions are legal? (★☆☆)\n",
        "```python\n",
        "Z**Z\n",
        "2 << Z >> 2\n",
        "Z <- Z\n",
        "1j*Z\n",
        "Z/1/1\n",
        "Z<Z>Z\n",
        "```"
      ]
    },
    {
      "cell_type": "code",
      "metadata": {
        "id": "EvQWOIOqnhIt",
        "colab_type": "code",
        "colab": {
          "base_uri": "https://localhost:8080/",
          "height": 296
        },
        "outputId": "0e766742-d724-413c-ccb6-467ae91d2beb"
      },
      "source": [
        "a = np.arange(2, 6)\n",
        "print(a)\n",
        "print(a**a) \n",
        "print(a <- a)\n",
        "print(1j * a)\n",
        "print(a/1/1)\n",
        "print(2<<a>>2)\n",
        "print(a<a>a)"
      ],
      "execution_count": null,
      "outputs": [
        {
          "output_type": "stream",
          "text": [
            "[2 3 4 5]\n",
            "[   4   27  256 3125]\n",
            "[False False False False]\n",
            "[0.+2.j 0.+3.j 0.+4.j 0.+5.j]\n",
            "[2. 3. 4. 5.]\n",
            "[ 2  4  8 16]\n"
          ],
          "name": "stdout"
        },
        {
          "output_type": "error",
          "ename": "ValueError",
          "evalue": "ignored",
          "traceback": [
            "\u001b[0;31m---------------------------------------------------------------------------\u001b[0m",
            "\u001b[0;31mValueError\u001b[0m                                Traceback (most recent call last)",
            "\u001b[0;32m<ipython-input-19-f6741ff0e2f0>\u001b[0m in \u001b[0;36m<module>\u001b[0;34m()\u001b[0m\n\u001b[1;32m      6\u001b[0m \u001b[0mprint\u001b[0m\u001b[0;34m(\u001b[0m\u001b[0ma\u001b[0m\u001b[0;34m/\u001b[0m\u001b[0;36m1\u001b[0m\u001b[0;34m/\u001b[0m\u001b[0;36m1\u001b[0m\u001b[0;34m)\u001b[0m\u001b[0;34m\u001b[0m\u001b[0;34m\u001b[0m\u001b[0m\n\u001b[1;32m      7\u001b[0m \u001b[0mprint\u001b[0m\u001b[0;34m(\u001b[0m\u001b[0;36m2\u001b[0m\u001b[0;34m<<\u001b[0m\u001b[0ma\u001b[0m\u001b[0;34m>>\u001b[0m\u001b[0;36m2\u001b[0m\u001b[0;34m)\u001b[0m\u001b[0;34m\u001b[0m\u001b[0;34m\u001b[0m\u001b[0m\n\u001b[0;32m----> 8\u001b[0;31m \u001b[0mprint\u001b[0m\u001b[0;34m(\u001b[0m\u001b[0ma\u001b[0m\u001b[0;34m<\u001b[0m\u001b[0ma\u001b[0m\u001b[0;34m>\u001b[0m\u001b[0ma\u001b[0m\u001b[0;34m)\u001b[0m\u001b[0;34m\u001b[0m\u001b[0;34m\u001b[0m\u001b[0m\n\u001b[0m",
            "\u001b[0;31mValueError\u001b[0m: The truth value of an array with more than one element is ambiguous. Use a.any() or a.all()"
          ]
        }
      ]
    },
    {
      "cell_type": "markdown",
      "metadata": {
        "id": "3Poj0qO_nhIu",
        "colab_type": "text"
      },
      "source": [
        "#### 28. What are the result of the following expressions?\n",
        "```python\n",
        "np.array(0) / np.array(0)\n",
        "np.array(0) // np.array(0)\n",
        "np.array([np.nan]).astype(int).astype(float)\n",
        "```"
      ]
    },
    {
      "cell_type": "code",
      "metadata": {
        "id": "yzxzcnFonhIv",
        "colab_type": "code",
        "colab": {
          "base_uri": "https://localhost:8080/",
          "height": 101
        },
        "outputId": "b93a12af-9136-4a15-ebc6-c6deb3a46888"
      },
      "source": [
        "np.array(0) / np.array(0)\n",
        "np.array(0) // np.array(0)\n",
        "np.array([np.nan]).astype(int).astype(float)"
      ],
      "execution_count": null,
      "outputs": [
        {
          "output_type": "stream",
          "text": [
            "/usr/local/lib/python3.6/dist-packages/ipykernel_launcher.py:1: RuntimeWarning: invalid value encountered in true_divide\n",
            "  \"\"\"Entry point for launching an IPython kernel.\n",
            "/usr/local/lib/python3.6/dist-packages/ipykernel_launcher.py:2: RuntimeWarning: divide by zero encountered in floor_divide\n",
            "  \n"
          ],
          "name": "stderr"
        },
        {
          "output_type": "execute_result",
          "data": {
            "text/plain": [
              "array([-9.22337204e+18])"
            ]
          },
          "metadata": {
            "tags": []
          },
          "execution_count": 22
        }
      ]
    },
    {
      "cell_type": "markdown",
      "metadata": {
        "id": "AZS5ApV4nhIw",
        "colab_type": "text"
      },
      "source": [
        "#### 29. How to round away from zero a float array ? (★☆☆)"
      ]
    },
    {
      "cell_type": "code",
      "metadata": {
        "id": "Y84H8hhGnhIw",
        "colab_type": "code",
        "colab": {
          "base_uri": "https://localhost:8080/",
          "height": 67
        },
        "outputId": "43317502-d08a-4231-e852-9025776a233b"
      },
      "source": [
        "a = np.random.uniform(-10,+10,10)\n",
        "print(a)\n",
        "print(np.copysign(np.ceil(np.abs(a)), a))"
      ],
      "execution_count": null,
      "outputs": [
        {
          "output_type": "stream",
          "text": [
            "[-1.26881553  0.40706194  3.27824134 -2.05017365 -4.91061696  4.97088688\n",
            " -9.60626154  0.42957372 -5.84773384  5.77578248]\n",
            "[ -2.   1.   4.  -3.  -5.   5. -10.   1.  -6.   6.]\n"
          ],
          "name": "stdout"
        }
      ]
    },
    {
      "cell_type": "markdown",
      "metadata": {
        "id": "S8cFrLeDnhIy",
        "colab_type": "text"
      },
      "source": [
        "#### 30. How to find common values between two arrays? (★☆☆)"
      ]
    },
    {
      "cell_type": "code",
      "metadata": {
        "id": "3UIJujMXnhIy",
        "colab_type": "code",
        "colab": {
          "base_uri": "https://localhost:8080/",
          "height": 50
        },
        "outputId": "58e944d0-7759-48fa-a158-310e7fe08296"
      },
      "source": [
        "a = np.random.randint(0,10,10)\n",
        "print(a)\n",
        "b = np.random.randint(0,10,10)\n",
        "print(np.intersect1d(a,b))"
      ],
      "execution_count": null,
      "outputs": [
        {
          "output_type": "stream",
          "text": [
            "[8 6 2 5 4 8 5 0 9 8]\n",
            "[0 4 5 8 9]\n"
          ],
          "name": "stdout"
        }
      ]
    },
    {
      "cell_type": "code",
      "metadata": {
        "id": "6YsJtsCC4nEz",
        "colab_type": "code",
        "colab": {}
      },
      "source": [
        ""
      ],
      "execution_count": null,
      "outputs": []
    },
    {
      "cell_type": "markdown",
      "metadata": {
        "id": "Nt5iSqaTnhI0",
        "colab_type": "text"
      },
      "source": [
        "#### 31. How to ignore all numpy warnings (not recommended)? (★☆☆)"
      ]
    },
    {
      "cell_type": "code",
      "metadata": {
        "id": "uchp1VjWnhI0",
        "colab_type": "code",
        "colab": {
          "base_uri": "https://localhost:8080/",
          "height": 229
        },
        "outputId": "f0cdee68-f341-4bc8-b551-0d43875cbba8"
      },
      "source": [
        "defaults = np.seterr(all=\"raise\")\n",
        "defaults = np.seterr(all=\"ignore\")\n",
        "a = np.ones(1)/0\n",
        "print(a)\n",
        "_ = np.seterr(**defaults)\n",
        "a = np.ones(1)/0\n",
        "print(a)\n",
        "with np.errstate(all=\"ignore\"):\n",
        "    np.arange(3) / 0"
      ],
      "execution_count": null,
      "outputs": [
        {
          "output_type": "error",
          "ename": "FloatingPointError",
          "evalue": "ignored",
          "traceback": [
            "\u001b[0;31m---------------------------------------------------------------------------\u001b[0m",
            "\u001b[0;31mFloatingPointError\u001b[0m                        Traceback (most recent call last)",
            "\u001b[0;32m<ipython-input-16-9ca41efcc5be>\u001b[0m in \u001b[0;36m<module>\u001b[0;34m()\u001b[0m\n\u001b[1;32m      1\u001b[0m \u001b[0mdefaults\u001b[0m \u001b[0;34m=\u001b[0m \u001b[0mnp\u001b[0m\u001b[0;34m.\u001b[0m\u001b[0mseterr\u001b[0m\u001b[0;34m(\u001b[0m\u001b[0mall\u001b[0m\u001b[0;34m=\u001b[0m\u001b[0;34m\"raise\"\u001b[0m\u001b[0;34m)\u001b[0m\u001b[0;34m\u001b[0m\u001b[0;34m\u001b[0m\u001b[0m\n\u001b[0;32m----> 2\u001b[0;31m \u001b[0ma\u001b[0m \u001b[0;34m=\u001b[0m \u001b[0mnp\u001b[0m\u001b[0;34m.\u001b[0m\u001b[0mones\u001b[0m\u001b[0;34m(\u001b[0m\u001b[0;36m1\u001b[0m\u001b[0;34m)\u001b[0m\u001b[0;34m/\u001b[0m\u001b[0;36m0\u001b[0m\u001b[0;34m\u001b[0m\u001b[0;34m\u001b[0m\u001b[0m\n\u001b[0m\u001b[1;32m      3\u001b[0m \u001b[0mprint\u001b[0m\u001b[0;34m(\u001b[0m\u001b[0ma\u001b[0m\u001b[0;34m)\u001b[0m\u001b[0;34m\u001b[0m\u001b[0;34m\u001b[0m\u001b[0m\n\u001b[1;32m      4\u001b[0m \u001b[0m_\u001b[0m \u001b[0;34m=\u001b[0m \u001b[0mnp\u001b[0m\u001b[0;34m.\u001b[0m\u001b[0mseterr\u001b[0m\u001b[0;34m(\u001b[0m\u001b[0;34m**\u001b[0m\u001b[0mdefaults\u001b[0m\u001b[0;34m)\u001b[0m\u001b[0;34m\u001b[0m\u001b[0;34m\u001b[0m\u001b[0m\n\u001b[1;32m      5\u001b[0m \u001b[0ma\u001b[0m \u001b[0;34m=\u001b[0m \u001b[0mnp\u001b[0m\u001b[0;34m.\u001b[0m\u001b[0mones\u001b[0m\u001b[0;34m(\u001b[0m\u001b[0;36m1\u001b[0m\u001b[0;34m)\u001b[0m\u001b[0;34m/\u001b[0m\u001b[0;36m0\u001b[0m\u001b[0;34m\u001b[0m\u001b[0;34m\u001b[0m\u001b[0m\n",
            "\u001b[0;31mFloatingPointError\u001b[0m: divide by zero encountered in true_divide"
          ]
        }
      ]
    },
    {
      "cell_type": "markdown",
      "metadata": {
        "id": "C04mKJUr5qDO",
        "colab_type": "text"
      },
      "source": [
        "https://numpy.org/doc/stable/reference/generated/numpy.seterr.html?highlight=seterr#numpy.seterr"
      ]
    },
    {
      "cell_type": "markdown",
      "metadata": {
        "id": "GES80p9C5cyd",
        "colab_type": "text"
      },
      "source": [
        "Эта строка кода вызывает все ошибки с плавающей запятой:\n",
        "\n",
        "np.seterr(all='raise')"
      ]
    },
    {
      "cell_type": "markdown",
      "metadata": {
        "id": "vbW_ypfrnhI2",
        "colab_type": "text"
      },
      "source": [
        "#### 32. Is the following expressions true? (★☆☆)\n",
        "```python\n",
        "np.sqrt(-1) == np.emath.sqrt(-1)\n",
        "```"
      ]
    },
    {
      "cell_type": "code",
      "metadata": {
        "id": "9YNzYDy4nhI2",
        "colab_type": "code",
        "colab": {
          "base_uri": "https://localhost:8080/",
          "height": 34
        },
        "outputId": "f9747ea6-fbed-4cb7-f92f-64c66553c2fd"
      },
      "source": [
        "np.sqrt(1) == np.emath.sqrt(1)"
      ],
      "execution_count": null,
      "outputs": [
        {
          "output_type": "execute_result",
          "data": {
            "text/plain": [
              "True"
            ]
          },
          "metadata": {
            "tags": []
          },
          "execution_count": 18
        }
      ]
    },
    {
      "cell_type": "markdown",
      "metadata": {
        "id": "_P6JMYALnhI4",
        "colab_type": "text"
      },
      "source": [
        "#### 33. How to get the dates of yesterday, today and tomorrow? (★☆☆)"
      ]
    },
    {
      "cell_type": "code",
      "metadata": {
        "id": "31FFV58vnhI5",
        "colab_type": "code",
        "colab": {
          "base_uri": "https://localhost:8080/",
          "height": 34
        },
        "outputId": "1401f2ca-c47f-443f-e9a3-1881d1983dcd"
      },
      "source": [
        "yesterday = np.datetime64('today') - np.timedelta64(2)\n",
        "today     = np.datetime64('today')\n",
        "tomorrow  = np.datetime64('today') + np.timedelta64(1)\n",
        "print(yesterday,',', today,',', tomorrow)"
      ],
      "execution_count": null,
      "outputs": [
        {
          "output_type": "stream",
          "text": [
            "2020-06-07 , 2020-06-09 , 2020-06-10\n"
          ],
          "name": "stdout"
        }
      ]
    },
    {
      "cell_type": "markdown",
      "metadata": {
        "id": "L6ref3W6nhI7",
        "colab_type": "text"
      },
      "source": [
        "#### 34. How to get all the dates corresponding to the month of July 2016? (★★☆)"
      ]
    },
    {
      "cell_type": "code",
      "metadata": {
        "id": "W88apNcgnhI8",
        "colab_type": "code",
        "colab": {
          "base_uri": "https://localhost:8080/",
          "height": 1000
        },
        "outputId": "4966e657-f6c9-405c-e5a1-824dcb26107e"
      },
      "source": [
        "a = np.arange('2016-07', '2017-08', dtype='datetime64[D]')\n",
        "print(a)"
      ],
      "execution_count": null,
      "outputs": [
        {
          "output_type": "stream",
          "text": [
            "['2016-07-01' '2016-07-02' '2016-07-03' '2016-07-04' '2016-07-05'\n",
            " '2016-07-06' '2016-07-07' '2016-07-08' '2016-07-09' '2016-07-10'\n",
            " '2016-07-11' '2016-07-12' '2016-07-13' '2016-07-14' '2016-07-15'\n",
            " '2016-07-16' '2016-07-17' '2016-07-18' '2016-07-19' '2016-07-20'\n",
            " '2016-07-21' '2016-07-22' '2016-07-23' '2016-07-24' '2016-07-25'\n",
            " '2016-07-26' '2016-07-27' '2016-07-28' '2016-07-29' '2016-07-30'\n",
            " '2016-07-31' '2016-08-01' '2016-08-02' '2016-08-03' '2016-08-04'\n",
            " '2016-08-05' '2016-08-06' '2016-08-07' '2016-08-08' '2016-08-09'\n",
            " '2016-08-10' '2016-08-11' '2016-08-12' '2016-08-13' '2016-08-14'\n",
            " '2016-08-15' '2016-08-16' '2016-08-17' '2016-08-18' '2016-08-19'\n",
            " '2016-08-20' '2016-08-21' '2016-08-22' '2016-08-23' '2016-08-24'\n",
            " '2016-08-25' '2016-08-26' '2016-08-27' '2016-08-28' '2016-08-29'\n",
            " '2016-08-30' '2016-08-31' '2016-09-01' '2016-09-02' '2016-09-03'\n",
            " '2016-09-04' '2016-09-05' '2016-09-06' '2016-09-07' '2016-09-08'\n",
            " '2016-09-09' '2016-09-10' '2016-09-11' '2016-09-12' '2016-09-13'\n",
            " '2016-09-14' '2016-09-15' '2016-09-16' '2016-09-17' '2016-09-18'\n",
            " '2016-09-19' '2016-09-20' '2016-09-21' '2016-09-22' '2016-09-23'\n",
            " '2016-09-24' '2016-09-25' '2016-09-26' '2016-09-27' '2016-09-28'\n",
            " '2016-09-29' '2016-09-30' '2016-10-01' '2016-10-02' '2016-10-03'\n",
            " '2016-10-04' '2016-10-05' '2016-10-06' '2016-10-07' '2016-10-08'\n",
            " '2016-10-09' '2016-10-10' '2016-10-11' '2016-10-12' '2016-10-13'\n",
            " '2016-10-14' '2016-10-15' '2016-10-16' '2016-10-17' '2016-10-18'\n",
            " '2016-10-19' '2016-10-20' '2016-10-21' '2016-10-22' '2016-10-23'\n",
            " '2016-10-24' '2016-10-25' '2016-10-26' '2016-10-27' '2016-10-28'\n",
            " '2016-10-29' '2016-10-30' '2016-10-31' '2016-11-01' '2016-11-02'\n",
            " '2016-11-03' '2016-11-04' '2016-11-05' '2016-11-06' '2016-11-07'\n",
            " '2016-11-08' '2016-11-09' '2016-11-10' '2016-11-11' '2016-11-12'\n",
            " '2016-11-13' '2016-11-14' '2016-11-15' '2016-11-16' '2016-11-17'\n",
            " '2016-11-18' '2016-11-19' '2016-11-20' '2016-11-21' '2016-11-22'\n",
            " '2016-11-23' '2016-11-24' '2016-11-25' '2016-11-26' '2016-11-27'\n",
            " '2016-11-28' '2016-11-29' '2016-11-30' '2016-12-01' '2016-12-02'\n",
            " '2016-12-03' '2016-12-04' '2016-12-05' '2016-12-06' '2016-12-07'\n",
            " '2016-12-08' '2016-12-09' '2016-12-10' '2016-12-11' '2016-12-12'\n",
            " '2016-12-13' '2016-12-14' '2016-12-15' '2016-12-16' '2016-12-17'\n",
            " '2016-12-18' '2016-12-19' '2016-12-20' '2016-12-21' '2016-12-22'\n",
            " '2016-12-23' '2016-12-24' '2016-12-25' '2016-12-26' '2016-12-27'\n",
            " '2016-12-28' '2016-12-29' '2016-12-30' '2016-12-31' '2017-01-01'\n",
            " '2017-01-02' '2017-01-03' '2017-01-04' '2017-01-05' '2017-01-06'\n",
            " '2017-01-07' '2017-01-08' '2017-01-09' '2017-01-10' '2017-01-11'\n",
            " '2017-01-12' '2017-01-13' '2017-01-14' '2017-01-15' '2017-01-16'\n",
            " '2017-01-17' '2017-01-18' '2017-01-19' '2017-01-20' '2017-01-21'\n",
            " '2017-01-22' '2017-01-23' '2017-01-24' '2017-01-25' '2017-01-26'\n",
            " '2017-01-27' '2017-01-28' '2017-01-29' '2017-01-30' '2017-01-31'\n",
            " '2017-02-01' '2017-02-02' '2017-02-03' '2017-02-04' '2017-02-05'\n",
            " '2017-02-06' '2017-02-07' '2017-02-08' '2017-02-09' '2017-02-10'\n",
            " '2017-02-11' '2017-02-12' '2017-02-13' '2017-02-14' '2017-02-15'\n",
            " '2017-02-16' '2017-02-17' '2017-02-18' '2017-02-19' '2017-02-20'\n",
            " '2017-02-21' '2017-02-22' '2017-02-23' '2017-02-24' '2017-02-25'\n",
            " '2017-02-26' '2017-02-27' '2017-02-28' '2017-03-01' '2017-03-02'\n",
            " '2017-03-03' '2017-03-04' '2017-03-05' '2017-03-06' '2017-03-07'\n",
            " '2017-03-08' '2017-03-09' '2017-03-10' '2017-03-11' '2017-03-12'\n",
            " '2017-03-13' '2017-03-14' '2017-03-15' '2017-03-16' '2017-03-17'\n",
            " '2017-03-18' '2017-03-19' '2017-03-20' '2017-03-21' '2017-03-22'\n",
            " '2017-03-23' '2017-03-24' '2017-03-25' '2017-03-26' '2017-03-27'\n",
            " '2017-03-28' '2017-03-29' '2017-03-30' '2017-03-31' '2017-04-01'\n",
            " '2017-04-02' '2017-04-03' '2017-04-04' '2017-04-05' '2017-04-06'\n",
            " '2017-04-07' '2017-04-08' '2017-04-09' '2017-04-10' '2017-04-11'\n",
            " '2017-04-12' '2017-04-13' '2017-04-14' '2017-04-15' '2017-04-16'\n",
            " '2017-04-17' '2017-04-18' '2017-04-19' '2017-04-20' '2017-04-21'\n",
            " '2017-04-22' '2017-04-23' '2017-04-24' '2017-04-25' '2017-04-26'\n",
            " '2017-04-27' '2017-04-28' '2017-04-29' '2017-04-30' '2017-05-01'\n",
            " '2017-05-02' '2017-05-03' '2017-05-04' '2017-05-05' '2017-05-06'\n",
            " '2017-05-07' '2017-05-08' '2017-05-09' '2017-05-10' '2017-05-11'\n",
            " '2017-05-12' '2017-05-13' '2017-05-14' '2017-05-15' '2017-05-16'\n",
            " '2017-05-17' '2017-05-18' '2017-05-19' '2017-05-20' '2017-05-21'\n",
            " '2017-05-22' '2017-05-23' '2017-05-24' '2017-05-25' '2017-05-26'\n",
            " '2017-05-27' '2017-05-28' '2017-05-29' '2017-05-30' '2017-05-31'\n",
            " '2017-06-01' '2017-06-02' '2017-06-03' '2017-06-04' '2017-06-05'\n",
            " '2017-06-06' '2017-06-07' '2017-06-08' '2017-06-09' '2017-06-10'\n",
            " '2017-06-11' '2017-06-12' '2017-06-13' '2017-06-14' '2017-06-15'\n",
            " '2017-06-16' '2017-06-17' '2017-06-18' '2017-06-19' '2017-06-20'\n",
            " '2017-06-21' '2017-06-22' '2017-06-23' '2017-06-24' '2017-06-25'\n",
            " '2017-06-26' '2017-06-27' '2017-06-28' '2017-06-29' '2017-06-30'\n",
            " '2017-07-01' '2017-07-02' '2017-07-03' '2017-07-04' '2017-07-05'\n",
            " '2017-07-06' '2017-07-07' '2017-07-08' '2017-07-09' '2017-07-10'\n",
            " '2017-07-11' '2017-07-12' '2017-07-13' '2017-07-14' '2017-07-15'\n",
            " '2017-07-16' '2017-07-17' '2017-07-18' '2017-07-19' '2017-07-20'\n",
            " '2017-07-21' '2017-07-22' '2017-07-23' '2017-07-24' '2017-07-25'\n",
            " '2017-07-26' '2017-07-27' '2017-07-28' '2017-07-29' '2017-07-30'\n",
            " '2017-07-31']\n"
          ],
          "name": "stdout"
        }
      ]
    },
    {
      "cell_type": "markdown",
      "metadata": {
        "id": "TDfySodUnhI-",
        "colab_type": "text"
      },
      "source": [
        "#### 35. How to compute ((A+B)*(-A/2)) in place (without copy)? (★★☆)"
      ]
    },
    {
      "cell_type": "code",
      "metadata": {
        "id": "uO2ZaGOAnhI_",
        "colab_type": "code",
        "colab": {
          "base_uri": "https://localhost:8080/",
          "height": 101
        },
        "outputId": "b5218908-49a9-4926-ea42-89c0a2f7d681"
      },
      "source": [
        "A = np.ones(3)*1\n",
        "B = np.ones(3)*2\n",
        "C = np.ones(3)*3\n",
        "print(A, B, C)\n",
        "a_add = np.add(A,B,out=B)\n",
        "print(a_add)\n",
        "\n",
        "a_div = np.divide(A,2,out=A)\n",
        "print(a_div)\n",
        "\n",
        "a_negat = np.negative(A,out=A)\n",
        "print(a_negat)\n",
        "\n",
        "a_mult = np.multiply(A,B,out=A)\n",
        "print(a_mult)"
      ],
      "execution_count": null,
      "outputs": [
        {
          "output_type": "stream",
          "text": [
            "[1. 1. 1.] [2. 2. 2.] [3. 3. 3.]\n",
            "[3. 3. 3.]\n",
            "[0.5 0.5 0.5]\n",
            "[-0.5 -0.5 -0.5]\n",
            "[-1.5 -1.5 -1.5]\n"
          ],
          "name": "stdout"
        }
      ]
    },
    {
      "cell_type": "markdown",
      "metadata": {
        "id": "BWnpoTE_nhJB",
        "colab_type": "text"
      },
      "source": [
        "#### 36. Extract the integer part of a random array of positive numbers using 4 different methods (★★☆)"
      ]
    },
    {
      "cell_type": "code",
      "metadata": {
        "id": "4kyGMRJZnhJB",
        "colab_type": "code",
        "colab": {
          "base_uri": "https://localhost:8080/",
          "height": 168
        },
        "outputId": "62f6fce5-5196-48aa-c525-f081e4fc893f"
      },
      "source": [
        "A = np.random.uniform(0,10,10)\n",
        "print('creat_arraiv', A)\n",
        "print(A%1) # остаток от деления\n",
        "print(A - A%1)\n",
        "print(A // 1) # делим нацело\n",
        "print(np.floor(A))\n",
        "print(A.astype(int))\n",
        "print(np.trunc(A))"
      ],
      "execution_count": null,
      "outputs": [
        {
          "output_type": "stream",
          "text": [
            "creat_arraiv [9.57007111 2.99562517 7.33743002 5.28079851 9.0446734  7.2150512\n",
            " 6.65039099 8.21286963 7.71478453 0.50680742]\n",
            "[0.57007111 0.99562517 0.33743002 0.28079851 0.0446734  0.2150512\n",
            " 0.65039099 0.21286963 0.71478453 0.50680742]\n",
            "[9. 2. 7. 5. 9. 7. 6. 8. 7. 0.]\n",
            "[9. 2. 7. 5. 9. 7. 6. 8. 7. 0.]\n",
            "[9. 2. 7. 5. 9. 7. 6. 8. 7. 0.]\n",
            "[9 2 7 5 9 7 6 8 7 0]\n",
            "[9. 2. 7. 5. 9. 7. 6. 8. 7. 0.]\n"
          ],
          "name": "stdout"
        }
      ]
    },
    {
      "cell_type": "markdown",
      "metadata": {
        "id": "1V9EBqywOWXn",
        "colab_type": "text"
      },
      "source": [
        "numpy.trunc¶\n",
        "numpy.trunc(x, /, out=None, *, where=True, casting='same_kind', order='K', dtype=None, subok=True[, signature, extobj]) = <ufunc 'trunc'>\n",
        "Return the truncated value of the input, element-wise.\n",
        "\n",
        "The truncated value of the scalar x is the nearest integer i which is closer to zero than x is. In short, the fractional part of the signed number x is discarded."
      ]
    },
    {
      "cell_type": "markdown",
      "metadata": {
        "id": "_aol5R4yN-_Q",
        "colab_type": "text"
      },
      "source": [
        "DataFrame.astype() используется для приведения объекта pandas к указанному dtype. astype() также предоставляет возможность конвертировать любой подходящий существующий столбец в категориальный тип."
      ]
    },
    {
      "cell_type": "markdown",
      "metadata": {
        "id": "SBI20vepNmVw",
        "colab_type": "text"
      },
      "source": [
        "numpy.floor(x, *ufunc_args) = <ufunc 'floor'>\n",
        "Функция floor() выполняет округление к меньшему целому числу. Данная функция часто называется пол числа x и обозначается как ⌊x⌋.\n",
        "\n",
        "Параметры:\n",
        "x - число или подобный массиву объект\n",
        "Число или последовательность чисел.\n",
        "*ufunc_args - аргументы универсальной функции\n",
        "Аргументы, позволяющие настроить и оптимизировать работу функции (подробнее см. универсальные функции).\n",
        "Возвращает:\n",
        "результат - число или массив NumPy или его подкласс\n",
        "Число или массив чисел, которые округлены к наименьшему целому числу."
      ]
    },
    {
      "cell_type": "markdown",
      "metadata": {
        "id": "qUhRehJinhJD",
        "colab_type": "text"
      },
      "source": [
        "#### 37. Create a 5x5 matrix with row values ranging from 0 to 4 (★★☆)"
      ]
    },
    {
      "cell_type": "code",
      "metadata": {
        "id": "RdObQptonhJD",
        "colab_type": "code",
        "colab": {
          "base_uri": "https://localhost:8080/",
          "height": 118
        },
        "outputId": "f047c0f8-bcfd-498f-e2de-2212d0378b40"
      },
      "source": [
        "A = np.zeros((5,5))\n",
        "A += np.arange(5)\n",
        "B = np.arange(6)\n",
        "print(B)\n",
        "print(A)"
      ],
      "execution_count": null,
      "outputs": [
        {
          "output_type": "stream",
          "text": [
            "[0 1 2 3 4 5]\n",
            "[[0. 1. 2. 3. 4.]\n",
            " [0. 1. 2. 3. 4.]\n",
            " [0. 1. 2. 3. 4.]\n",
            " [0. 1. 2. 3. 4.]\n",
            " [0. 1. 2. 3. 4.]]\n"
          ],
          "name": "stdout"
        }
      ]
    },
    {
      "cell_type": "markdown",
      "metadata": {
        "id": "VYx9-KshTYcM",
        "colab_type": "text"
      },
      "source": [
        "https://numpy.org/doc/stable/reference/generated/numpy.arange.html?highlight=arange#numpy.arange"
      ]
    },
    {
      "cell_type": "markdown",
      "metadata": {
        "id": "ZjALmhb_nhJF",
        "colab_type": "text"
      },
      "source": [
        "#### 38. Consider a generator function that generates 10 integers and use it to build an array (★☆☆)"
      ]
    },
    {
      "cell_type": "code",
      "metadata": {
        "id": "gFIGP-AOnhJF",
        "colab_type": "code",
        "colab": {
          "base_uri": "https://localhost:8080/",
          "height": 50
        },
        "outputId": "b8169812-43e6-49e1-b152-8015af652c09"
      },
      "source": [
        "def generate():\n",
        "    for x in range(10):\n",
        "        yield x\n",
        "A = np.fromiter(generate(),dtype=float,count=-1)\n",
        "B = np.arange(10, dtype=float)\n",
        "print(A)\n",
        "print(B)"
      ],
      "execution_count": null,
      "outputs": [
        {
          "output_type": "stream",
          "text": [
            "[0. 1. 2. 3. 4. 5. 6. 7. 8. 9.]\n",
            "[0. 1. 2. 3. 4. 5. 6. 7. 8. 9.]\n"
          ],
          "name": "stdout"
        }
      ]
    },
    {
      "cell_type": "markdown",
      "metadata": {
        "id": "_EkSc9L3WqyC",
        "colab_type": "text"
      },
      "source": [
        "**Yield** это ключевое слово, которое используется примерно как return — отличие в том, что функция вернёт генератор.\n",
        "https://habr.com/ru/post/132554/"
      ]
    },
    {
      "cell_type": "markdown",
      "metadata": {
        "id": "XVzbxFDtnhJG",
        "colab_type": "text"
      },
      "source": [
        "#### 39. Create a vector of size 10 with values ranging from 0 to 1, both excluded (★★☆)"
      ]
    },
    {
      "cell_type": "code",
      "metadata": {
        "id": "xOR9vBhvnhJG",
        "colab_type": "code",
        "colab": {
          "base_uri": "https://localhost:8080/",
          "height": 50
        },
        "outputId": "cb8364e8-07b6-40e9-fcf0-c934fc401d05"
      },
      "source": [
        "a = np.linspace(0,1,11)[1:-1]\n",
        "b = np.random.randint(0, 10, 10)\n",
        "print(a)\n",
        "print(b)"
      ],
      "execution_count": null,
      "outputs": [
        {
          "output_type": "stream",
          "text": [
            "[0.1 0.2 0.3 0.4 0.5 0.6 0.7 0.8 0.9]\n",
            "[4 5 2 7 3 3 3 0 0 1]\n"
          ],
          "name": "stdout"
        }
      ]
    },
    {
      "cell_type": "markdown",
      "metadata": {
        "id": "4h2ynCWMWvhz",
        "colab_type": "text"
      },
      "source": [
        ""
      ]
    },
    {
      "cell_type": "markdown",
      "metadata": {
        "id": "IyRQFgPjnhJH",
        "colab_type": "text"
      },
      "source": [
        "#### 40. Create a random vector of size 10 and sort it (★★☆)"
      ]
    },
    {
      "cell_type": "code",
      "metadata": {
        "id": "T6-G27oQnhJI",
        "colab_type": "code",
        "colab": {
          "base_uri": "https://localhost:8080/",
          "height": 84
        },
        "outputId": "9e168348-4dc0-4e3d-c4e1-53ff5a9a534e"
      },
      "source": [
        "#a = np.random.randint(2, 85, 10)\n",
        "a = np.random.random(10)\n",
        "print(a)\n",
        "a.sort()\n",
        "print(a)"
      ],
      "execution_count": null,
      "outputs": [
        {
          "output_type": "stream",
          "text": [
            "[0.77808627 0.08896448 0.55974158 0.55817212 0.84928186 0.57990259\n",
            " 0.39565486 0.67083056 0.09759323 0.728561  ]\n",
            "[0.08896448 0.09759323 0.39565486 0.55817212 0.55974158 0.57990259\n",
            " 0.67083056 0.728561   0.77808627 0.84928186]\n"
          ],
          "name": "stdout"
        }
      ]
    },
    {
      "cell_type": "markdown",
      "metadata": {
        "id": "DcIxfS1vnhJL",
        "colab_type": "text"
      },
      "source": [
        "#### 41. How to sum a small array faster than np.sum? (★★☆)"
      ]
    },
    {
      "cell_type": "code",
      "metadata": {
        "id": "xgF4j8IinhJL",
        "colab_type": "code",
        "colab": {
          "base_uri": "https://localhost:8080/",
          "height": 34
        },
        "outputId": "4d7d9036-c577-4a06-86b0-53dfd4bd9cd3"
      },
      "source": [
        "a = np.arange(10)\n",
        "\n",
        "print(np.add.reduce(a))\n"
      ],
      "execution_count": null,
      "outputs": [
        {
          "output_type": "stream",
          "text": [
            "45\n"
          ],
          "name": "stdout"
        }
      ]
    },
    {
      "cell_type": "markdown",
      "metadata": {
        "id": "84LA7oAS_-pi",
        "colab_type": "text"
      },
      "source": [
        "Reduces a’s dimension by one, by applying ufunc along one axis."
      ]
    },
    {
      "cell_type": "markdown",
      "metadata": {
        "id": "Twm0qYsBnhJN",
        "colab_type": "text"
      },
      "source": [
        "#### 42. Consider two random array A and B, check if they are equal (★★☆)"
      ]
    },
    {
      "cell_type": "code",
      "metadata": {
        "id": "kvoBCqXgnhJN",
        "colab_type": "code",
        "colab": {
          "base_uri": "https://localhost:8080/",
          "height": 168
        },
        "outputId": "bf4f361c-56c4-4421-81d6-3e767969dfaf"
      },
      "source": [
        "A = np.random.random(8)\n",
        "B = np.random.random(10)\n",
        "C = np.arange(10)\n",
        "D = np.arange(10)\n",
        "print(A, B)\n",
        "print(A == B)\n",
        "print(C == D)\n",
        "print(np.array_equal(A, B))\n",
        "print(np.array_equal(C, D))"
      ],
      "execution_count": null,
      "outputs": [
        {
          "output_type": "stream",
          "text": [
            "[0.5405783  0.65315424 0.63855759 0.98467188 0.2468229  0.84534372\n",
            " 0.11890651 0.70704171] [0.79292463 0.26254454 0.44380361 0.03158016 0.44623108 0.97446214\n",
            " 0.99916496 0.28200171 0.76360366 0.40931771]\n",
            "False\n",
            "[ True  True  True  True  True  True  True  True  True  True]\n",
            "False\n",
            "True\n"
          ],
          "name": "stdout"
        },
        {
          "output_type": "stream",
          "text": [
            "/usr/local/lib/python3.6/dist-packages/ipykernel_launcher.py:6: DeprecationWarning: elementwise comparison failed; this will raise an error in the future.\n",
            "  \n"
          ],
          "name": "stderr"
        }
      ]
    },
    {
      "cell_type": "markdown",
      "metadata": {
        "id": "tAZN3XTKnhJP",
        "colab_type": "text"
      },
      "source": [
        "#### 43. Make an array immutable (read-only) (★★☆)"
      ]
    },
    {
      "cell_type": "code",
      "metadata": {
        "id": "BAgD4iCrnhJQ",
        "colab_type": "code",
        "colab": {
          "base_uri": "https://localhost:8080/",
          "height": 212
        },
        "outputId": "ef14efb2-c565-4389-c3fb-15f8298c9054"
      },
      "source": [
        "a = np.zeros(10)\n",
        "print(a)\n",
        "a.flags.writeable = False\n",
        "a[0] = 1"
      ],
      "execution_count": null,
      "outputs": [
        {
          "output_type": "stream",
          "text": [
            "[0. 0. 0. 0. 0. 0. 0. 0. 0. 0.]\n"
          ],
          "name": "stdout"
        },
        {
          "output_type": "error",
          "ename": "ValueError",
          "evalue": "ignored",
          "traceback": [
            "\u001b[0;31m---------------------------------------------------------------------------\u001b[0m",
            "\u001b[0;31mValueError\u001b[0m                                Traceback (most recent call last)",
            "\u001b[0;32m<ipython-input-34-1358e6b855fb>\u001b[0m in \u001b[0;36m<module>\u001b[0;34m()\u001b[0m\n\u001b[1;32m      2\u001b[0m \u001b[0mprint\u001b[0m\u001b[0;34m(\u001b[0m\u001b[0ma\u001b[0m\u001b[0;34m)\u001b[0m\u001b[0;34m\u001b[0m\u001b[0;34m\u001b[0m\u001b[0m\n\u001b[1;32m      3\u001b[0m \u001b[0ma\u001b[0m\u001b[0;34m.\u001b[0m\u001b[0mflags\u001b[0m\u001b[0;34m.\u001b[0m\u001b[0mwriteable\u001b[0m \u001b[0;34m=\u001b[0m \u001b[0;32mFalse\u001b[0m\u001b[0;34m\u001b[0m\u001b[0;34m\u001b[0m\u001b[0m\n\u001b[0;32m----> 4\u001b[0;31m \u001b[0ma\u001b[0m\u001b[0;34m[\u001b[0m\u001b[0;36m0\u001b[0m\u001b[0;34m]\u001b[0m \u001b[0;34m=\u001b[0m \u001b[0;36m1\u001b[0m\u001b[0;34m\u001b[0m\u001b[0;34m\u001b[0m\u001b[0m\n\u001b[0m",
            "\u001b[0;31mValueError\u001b[0m: assignment destination is read-only"
          ]
        }
      ]
    },
    {
      "cell_type": "markdown",
      "metadata": {
        "id": "Jo8_Y8fbnhJR",
        "colab_type": "text"
      },
      "source": [
        "#### 44. Consider a random 10x2 matrix representing cartesian coordinates, convert them to polar coordinates (★★☆)"
      ]
    },
    {
      "cell_type": "code",
      "metadata": {
        "id": "DvBG2L7vnhJS",
        "colab_type": "code",
        "colab": {
          "base_uri": "https://localhost:8080/",
          "height": 235
        },
        "outputId": "9ffcb0fe-3b15-4721-f5e8-86bf1fd26adf"
      },
      "source": [
        "a = np.random.random((10, 2))\n",
        "print(a)\n",
        "X,Y = a[:,0], a[:,1]\n",
        "print(X, Y)\n",
        "R = np.sqrt(X**2+Y**2)\n",
        "T = np.arctan2(Y,X)\n",
        "#print(R)\n",
        "#print(T)\n",
        "\n",
        "#print(a)"
      ],
      "execution_count": null,
      "outputs": [
        {
          "output_type": "stream",
          "text": [
            "[[0.07676217 0.45788626]\n",
            " [0.71985091 0.79571513]\n",
            " [0.85693925 0.00964634]\n",
            " [0.40957276 0.86076132]\n",
            " [0.22140003 0.70316406]\n",
            " [0.034229   0.52875509]\n",
            " [0.99174868 0.43787554]\n",
            " [0.07270207 0.04145399]\n",
            " [0.23694681 0.26846244]\n",
            " [0.61129299 0.91810146]]\n",
            "[0.07676217 0.71985091 0.85693925 0.40957276 0.22140003 0.034229\n",
            " 0.99174868 0.07270207 0.23694681 0.61129299] [0.45788626 0.79571513 0.00964634 0.86076132 0.70316406 0.52875509\n",
            " 0.43787554 0.04145399 0.26846244 0.91810146]\n"
          ],
          "name": "stdout"
        }
      ]
    },
    {
      "cell_type": "markdown",
      "metadata": {
        "id": "f8ftveT6nhJT",
        "colab_type": "text"
      },
      "source": [
        "#### 45. Create random vector of size 10 and replace the maximum value by 0 (★★☆)"
      ]
    },
    {
      "cell_type": "code",
      "metadata": {
        "id": "yUd4KGpCnhJT",
        "colab_type": "code",
        "colab": {
          "base_uri": "https://localhost:8080/",
          "height": 84
        },
        "outputId": "f6839f71-dea7-4685-a6e4-46dac8f26014"
      },
      "source": [
        "a = np.random.random(10)\n",
        "print(a)\n",
        "a[a.argmax()] = 0\n",
        "print(a)"
      ],
      "execution_count": null,
      "outputs": [
        {
          "output_type": "stream",
          "text": [
            "[0.11611193 0.91984048 0.5404784  0.94997457 0.88675399 0.78724914\n",
            " 0.04415321 0.05367835 0.08951799 0.64956663]\n",
            "[0.11611193 0.91984048 0.5404784  0.         0.88675399 0.78724914\n",
            " 0.04415321 0.05367835 0.08951799 0.64956663]\n"
          ],
          "name": "stdout"
        }
      ]
    },
    {
      "cell_type": "markdown",
      "metadata": {
        "id": "ronb7oHInhJW",
        "colab_type": "text"
      },
      "source": [
        "#### 46. Create a structured array with `x` and `y` coordinates covering the [0,1]x[0,1] area (★★☆)"
      ]
    },
    {
      "cell_type": "code",
      "metadata": {
        "id": "xlE5SogDnhJX",
        "colab_type": "code",
        "colab": {
          "base_uri": "https://localhost:8080/",
          "height": 218
        },
        "outputId": "7e157ccd-7a27-4f6a-912d-74361c2f695d"
      },
      "source": [
        "a = np.zeros((5,5), [('x',float),('y',float)])\n",
        "print(a)\n",
        "a['x'], a['y'] = np.meshgrid(np.linspace(0,1,5),\n",
        "                             np.linspace(0,1,5))\n",
        "print(a)\n",
        "print(np.linspace(0,11,10))"
      ],
      "execution_count": null,
      "outputs": [
        {
          "output_type": "stream",
          "text": [
            "[[(0., 0.) (0., 0.) (0., 0.) (0., 0.) (0., 0.)]\n",
            " [(0., 0.) (0., 0.) (0., 0.) (0., 0.) (0., 0.)]\n",
            " [(0., 0.) (0., 0.) (0., 0.) (0., 0.) (0., 0.)]\n",
            " [(0., 0.) (0., 0.) (0., 0.) (0., 0.) (0., 0.)]\n",
            " [(0., 0.) (0., 0.) (0., 0.) (0., 0.) (0., 0.)]]\n",
            "[[(0.  , 0.  ) (0.25, 0.  ) (0.5 , 0.  ) (0.75, 0.  ) (1.  , 0.  )]\n",
            " [(0.  , 0.25) (0.25, 0.25) (0.5 , 0.25) (0.75, 0.25) (1.  , 0.25)]\n",
            " [(0.  , 0.5 ) (0.25, 0.5 ) (0.5 , 0.5 ) (0.75, 0.5 ) (1.  , 0.5 )]\n",
            " [(0.  , 0.75) (0.25, 0.75) (0.5 , 0.75) (0.75, 0.75) (1.  , 0.75)]\n",
            " [(0.  , 1.  ) (0.25, 1.  ) (0.5 , 1.  ) (0.75, 1.  ) (1.  , 1.  )]]\n",
            "[ 0.          1.22222222  2.44444444  3.66666667  4.88888889  6.11111111\n",
            "  7.33333333  8.55555556  9.77777778 11.        ]\n"
          ],
          "name": "stdout"
        }
      ]
    },
    {
      "cell_type": "markdown",
      "metadata": {
        "id": "rgOEjbvJXhVU",
        "colab_type": "text"
      },
      "source": [
        "numpy.linspace(start, stop, num=50, endpoint=True, retstep=False, dtype=None, axis=0)[source]\n",
        "Return evenly spaced numbers over a specified interval.\n",
        "\n",
        "Returns num evenly spaced samples, calculated over the interval [start, stop].\n",
        "\n",
        "The endpoint of the interval can optionally be excluded."
      ]
    },
    {
      "cell_type": "markdown",
      "metadata": {
        "id": "vuG5Y46hnhJY",
        "colab_type": "text"
      },
      "source": [
        "#### 47. Given two arrays, X and Y, construct the Cauchy matrix C (Cij =1/(xi - yj))"
      ]
    },
    {
      "cell_type": "code",
      "metadata": {
        "id": "9Gp7HPY6nhJY",
        "colab_type": "code",
        "colab": {
          "base_uri": "https://localhost:8080/",
          "height": 67
        },
        "outputId": "b37b46bf-9d89-45f8-9f1e-162c306bbf8c"
      },
      "source": [
        "X = np.arange(8)\n",
        "print(X)\n",
        "Y = X + 0.5\n",
        "print(Y)\n",
        "C = 1.0 / np.subtract.outer(X, Y)\n",
        "print(np.linalg.det(C))"
      ],
      "execution_count": null,
      "outputs": [
        {
          "output_type": "stream",
          "text": [
            "[0 1 2 3 4 5 6 7]\n",
            "[0.5 1.5 2.5 3.5 4.5 5.5 6.5 7.5]\n",
            "3638.163637117973\n"
          ],
          "name": "stdout"
        }
      ]
    },
    {
      "cell_type": "markdown",
      "metadata": {
        "id": "KAoxvjKznhJa",
        "colab_type": "text"
      },
      "source": [
        "#### 48. Print the minimum and maximum representable value for each numpy scalar type (★★☆)"
      ]
    },
    {
      "cell_type": "code",
      "metadata": {
        "id": "gyXKxMmFnhJa",
        "colab_type": "code",
        "colab": {
          "base_uri": "https://localhost:8080/",
          "height": 218
        },
        "outputId": "801bb10b-8f55-4ad3-b5bb-253221b04ce1"
      },
      "source": [
        "for dtype in [np.int8, np.int32, np.int64]:\n",
        "   print(np.iinfo(dtype).min)\n",
        "   print(np.iinfo(dtype).max)\n",
        "for dtype in [np.float32, np.float64]:\n",
        "   print(np.finfo(dtype).min)\n",
        "   print(np.finfo(dtype).max)\n",
        "   print(np.finfo(dtype).eps)"
      ],
      "execution_count": null,
      "outputs": [
        {
          "output_type": "stream",
          "text": [
            "-128\n",
            "127\n",
            "-2147483648\n",
            "2147483647\n",
            "-9223372036854775808\n",
            "9223372036854775807\n",
            "-3.4028235e+38\n",
            "3.4028235e+38\n",
            "1.1920929e-07\n",
            "-1.7976931348623157e+308\n",
            "1.7976931348623157e+308\n",
            "2.220446049250313e-16\n"
          ],
          "name": "stdout"
        }
      ]
    },
    {
      "cell_type": "markdown",
      "metadata": {
        "id": "ZZGVWc3Pd76U",
        "colab_type": "text"
      },
      "source": [
        "Attributes\n",
        "bitsint\n",
        "The number of bits occupied by the type.\n",
        "\n",
        "minint\n",
        "Minimum value of given dtype.\n",
        "\n",
        "maxint\n",
        "Maximum value of given dtype."
      ]
    },
    {
      "cell_type": "code",
      "metadata": {
        "id": "ZIhoEhnJd7q-",
        "colab_type": "code",
        "colab": {}
      },
      "source": [
        ""
      ],
      "execution_count": null,
      "outputs": []
    },
    {
      "cell_type": "markdown",
      "metadata": {
        "id": "_-ZLr9KJdxRF",
        "colab_type": "text"
      },
      "source": [
        "класс numpy.iinfo (тип) [источник]\n",
        "Машинные ограничения для целочисленных типов."
      ]
    },
    {
      "cell_type": "markdown",
      "metadata": {
        "id": "8fLi-VghnhJd",
        "colab_type": "text"
      },
      "source": [
        "#### 49. How to print all the values of an array? (★★☆)"
      ]
    },
    {
      "cell_type": "code",
      "metadata": {
        "id": "maviFB-fnhJd",
        "colab_type": "code",
        "colab": {
          "base_uri": "https://localhost:8080/",
          "height": 286
        },
        "outputId": "1d7407ef-0b89-41cc-dba7-67c288557488"
      },
      "source": [
        "#np.set_printoptions(threshold=np.nan)\n",
        "Z = np.zeros((16,16))\n",
        "print(Z)"
      ],
      "execution_count": null,
      "outputs": [
        {
          "output_type": "stream",
          "text": [
            "[[0. 0. 0. 0. 0. 0. 0. 0. 0. 0. 0. 0. 0. 0. 0. 0.]\n",
            " [0. 0. 0. 0. 0. 0. 0. 0. 0. 0. 0. 0. 0. 0. 0. 0.]\n",
            " [0. 0. 0. 0. 0. 0. 0. 0. 0. 0. 0. 0. 0. 0. 0. 0.]\n",
            " [0. 0. 0. 0. 0. 0. 0. 0. 0. 0. 0. 0. 0. 0. 0. 0.]\n",
            " [0. 0. 0. 0. 0. 0. 0. 0. 0. 0. 0. 0. 0. 0. 0. 0.]\n",
            " [0. 0. 0. 0. 0. 0. 0. 0. 0. 0. 0. 0. 0. 0. 0. 0.]\n",
            " [0. 0. 0. 0. 0. 0. 0. 0. 0. 0. 0. 0. 0. 0. 0. 0.]\n",
            " [0. 0. 0. 0. 0. 0. 0. 0. 0. 0. 0. 0. 0. 0. 0. 0.]\n",
            " [0. 0. 0. 0. 0. 0. 0. 0. 0. 0. 0. 0. 0. 0. 0. 0.]\n",
            " [0. 0. 0. 0. 0. 0. 0. 0. 0. 0. 0. 0. 0. 0. 0. 0.]\n",
            " [0. 0. 0. 0. 0. 0. 0. 0. 0. 0. 0. 0. 0. 0. 0. 0.]\n",
            " [0. 0. 0. 0. 0. 0. 0. 0. 0. 0. 0. 0. 0. 0. 0. 0.]\n",
            " [0. 0. 0. 0. 0. 0. 0. 0. 0. 0. 0. 0. 0. 0. 0. 0.]\n",
            " [0. 0. 0. 0. 0. 0. 0. 0. 0. 0. 0. 0. 0. 0. 0. 0.]\n",
            " [0. 0. 0. 0. 0. 0. 0. 0. 0. 0. 0. 0. 0. 0. 0. 0.]\n",
            " [0. 0. 0. 0. 0. 0. 0. 0. 0. 0. 0. 0. 0. 0. 0. 0.]]\n"
          ],
          "name": "stdout"
        }
      ]
    },
    {
      "cell_type": "markdown",
      "metadata": {
        "id": "qFaVmAaae125",
        "colab_type": "text"
      },
      "source": [
        "https://numpy.org/doc/stable/reference/generated/numpy.set_printoptions.html?highlight=set_printoptions#numpy.set_printoptions"
      ]
    },
    {
      "cell_type": "markdown",
      "metadata": {
        "id": "yR1UNzgJnhJg",
        "colab_type": "text"
      },
      "source": [
        "#### 50. How to find the closest value (to a given scalar) in a vector? (★★☆)"
      ]
    },
    {
      "cell_type": "code",
      "metadata": {
        "id": "sjz9mlaVnhJg",
        "colab_type": "code",
        "colab": {
          "base_uri": "https://localhost:8080/",
          "height": 336
        },
        "outputId": "e098c5c8-7a22-4030-a5af-219c6c780848"
      },
      "source": [
        "a = np.arange(100)\n",
        "#print(a)\n",
        "b = np.random.uniform(0,100)\n",
        "print(b)\n",
        "print(np.abs(a-b))\n",
        "index = (np.abs(a-b)).argmin()\n",
        "print(a[index])"
      ],
      "execution_count": null,
      "outputs": [
        {
          "output_type": "stream",
          "text": [
            "73.82438389971412\n",
            "[73.8243839 72.8243839 71.8243839 70.8243839 69.8243839 68.8243839\n",
            " 67.8243839 66.8243839 65.8243839 64.8243839 63.8243839 62.8243839\n",
            " 61.8243839 60.8243839 59.8243839 58.8243839 57.8243839 56.8243839\n",
            " 55.8243839 54.8243839 53.8243839 52.8243839 51.8243839 50.8243839\n",
            " 49.8243839 48.8243839 47.8243839 46.8243839 45.8243839 44.8243839\n",
            " 43.8243839 42.8243839 41.8243839 40.8243839 39.8243839 38.8243839\n",
            " 37.8243839 36.8243839 35.8243839 34.8243839 33.8243839 32.8243839\n",
            " 31.8243839 30.8243839 29.8243839 28.8243839 27.8243839 26.8243839\n",
            " 25.8243839 24.8243839 23.8243839 22.8243839 21.8243839 20.8243839\n",
            " 19.8243839 18.8243839 17.8243839 16.8243839 15.8243839 14.8243839\n",
            " 13.8243839 12.8243839 11.8243839 10.8243839  9.8243839  8.8243839\n",
            "  7.8243839  6.8243839  5.8243839  4.8243839  3.8243839  2.8243839\n",
            "  1.8243839  0.8243839  0.1756161  1.1756161  2.1756161  3.1756161\n",
            "  4.1756161  5.1756161  6.1756161  7.1756161  8.1756161  9.1756161\n",
            " 10.1756161 11.1756161 12.1756161 13.1756161 14.1756161 15.1756161\n",
            " 16.1756161 17.1756161 18.1756161 19.1756161 20.1756161 21.1756161\n",
            " 22.1756161 23.1756161 24.1756161 25.1756161]\n",
            "74\n"
          ],
          "name": "stdout"
        }
      ]
    },
    {
      "cell_type": "markdown",
      "metadata": {
        "id": "3Lj-VlbvlVdw",
        "colab_type": "text"
      },
      "source": [
        "Генерации числа с плавающей запятой — uniform() модуль random\n",
        "random.uniform() используется для генерации числа с плавающей запятой в пределах заданного промежутка\n",
        "Значение конечной точки может включаться в диапазон, но это не обязательно. Все зависит от округления значения числа с плавающей запятой;\n",
        "Метод может, например, сгенерировать случайно вещественное число в промежутке между 10.5 и 25.5."
      ]
    },
    {
      "cell_type": "markdown",
      "metadata": {
        "id": "UteqYbFEnhJi",
        "colab_type": "text"
      },
      "source": [
        "#### 51. Create a structured array representing a position (x,y) and a color (r,g,b) (★★☆)"
      ]
    },
    {
      "cell_type": "code",
      "metadata": {
        "id": "o7k--37bnhJi",
        "colab_type": "code",
        "colab": {
          "base_uri": "https://localhost:8080/",
          "height": 154
        },
        "outputId": "bb67cee5-d0b0-4057-8a93-642e2a084749"
      },
      "source": [
        "A = np.zeros(10, [ ('position', [ ('x', float, 1),\n",
        "                                  ('y', float, 1)]),\n",
        "                   ('color',    [ ('r', float, 1),\n",
        "                                  ('g', float, 1),\n",
        "                                  ('b', float, 1)])])\n",
        "print(A)"
      ],
      "execution_count": null,
      "outputs": [
        {
          "output_type": "stream",
          "text": [
            "[((0., 0.), (0., 0., 0.)) ((0., 0.), (0., 0., 0.))\n",
            " ((0., 0.), (0., 0., 0.)) ((0., 0.), (0., 0., 0.))\n",
            " ((0., 0.), (0., 0., 0.)) ((0., 0.), (0., 0., 0.))\n",
            " ((0., 0.), (0., 0., 0.)) ((0., 0.), (0., 0., 0.))\n",
            " ((0., 0.), (0., 0., 0.)) ((0., 0.), (0., 0., 0.))]\n"
          ],
          "name": "stdout"
        },
        {
          "output_type": "stream",
          "text": [
            "/usr/local/lib/python3.6/dist-packages/ipykernel_launcher.py:5: FutureWarning: Passing (type, 1) or '1type' as a synonym of type is deprecated; in a future version of numpy, it will be understood as (type, (1,)) / '(1,)type'.\n",
            "  \"\"\"\n"
          ],
          "name": "stderr"
        }
      ]
    },
    {
      "cell_type": "markdown",
      "metadata": {
        "id": "PxtYe7WknhJj",
        "colab_type": "text"
      },
      "source": [
        "#### 52. Consider a random vector with shape (100,2) representing coordinates, find point by point distances (★★☆)"
      ]
    },
    {
      "cell_type": "code",
      "metadata": {
        "id": "yY-Y1QkAnhJj",
        "colab_type": "code",
        "colab": {
          "base_uri": "https://localhost:8080/",
          "height": 622
        },
        "outputId": "ba4a59e5-3f59-46e7-bd58-b4a9694a9604"
      },
      "source": [
        "A = np.random.random((10,2))\n",
        "print(A)\n",
        "X,Y = np.atleast_2d(A[:,0], A[:,1]) # возвращает слайс из заданого дву мерного массива\n",
        "print('_____________________________________________________')\n",
        "print(X)\n",
        "print(Y)\n",
        "D = np.sqrt( (X-X.T)**2 + (Y-Y.T)**2)\n",
        "print('---------------------------------------------------')\n",
        "print(D)"
      ],
      "execution_count": null,
      "outputs": [
        {
          "output_type": "stream",
          "text": [
            "[[0.85057917 0.58612966]\n",
            " [0.78918444 0.45556765]\n",
            " [0.80777282 0.06914886]\n",
            " [0.98501862 0.03141653]\n",
            " [0.86698611 0.06691082]\n",
            " [0.56709058 0.97844457]\n",
            " [0.98525425 0.55753294]\n",
            " [0.77212559 0.19597467]\n",
            " [0.76652213 0.61555233]\n",
            " [0.19399949 0.03363423]]\n",
            "_____________________________________________________\n",
            "[[0.85057917 0.78918444 0.80777282 0.98501862 0.86698611 0.56709058\n",
            "  0.98525425 0.77212559 0.76652213 0.19399949]]\n",
            "[[0.58612966 0.45556765 0.06914886 0.03141653 0.06691082 0.97844457\n",
            "  0.55753294 0.19597467 0.61555233 0.03363423]]\n",
            "---------------------------------------------------\n",
            "[[0.         0.14427665 0.51874996 0.57077195 0.519478   0.48402146\n",
            "  0.1376777  0.39796467 0.08905773 0.85810727]\n",
            " [0.14427665 0.         0.38686561 0.46717791 0.39636755 0.56808974\n",
            "  0.2209984  0.26015287 0.1615818  0.72957038]\n",
            " [0.51874996 0.38686561 0.         0.18121755 0.05925557 0.94060971\n",
            "  0.5196332  0.13174031 0.54795836 0.61479996]\n",
            " [0.57077195 0.46717791 0.18121755 0.         0.12325387 1.03514538\n",
            "  0.52611647 0.26907772 0.62366285 0.79102224]\n",
            " [0.519478   0.39636755 0.05925557 0.12325387 0.         0.95959945\n",
            "  0.50467556 0.1601749  0.55776386 0.67380882]\n",
            " [0.48402146 0.56808974 0.94060971 1.03514538 0.95959945 0.\n",
            "  0.59331901 0.8088872  0.41408178 1.01580685]\n",
            " [0.1376777  0.2209984  0.5196332  0.52611647 0.50467556 0.59331901\n",
            "  0.         0.41970014 0.22629624 0.94897522]\n",
            " [0.39796467 0.26015287 0.13174031 0.26907772 0.1601749  0.8088872\n",
            "  0.41970014 0.         0.41961508 0.60048665]\n",
            " [0.08905773 0.1615818  0.54795836 0.62366285 0.55776386 0.41408178\n",
            "  0.22629624 0.41961508 0.         0.81633992]\n",
            " [0.85810727 0.72957038 0.61479996 0.79102224 0.67380882 1.01580685\n",
            "  0.94897522 0.60048665 0.81633992 0.        ]]\n"
          ],
          "name": "stdout"
        }
      ]
    },
    {
      "cell_type": "markdown",
      "metadata": {
        "id": "BeFe3EgKnhJk",
        "colab_type": "text"
      },
      "source": [
        "#### 53. How to convert a float (32 bits) array into an integer (32 bits) in place?"
      ]
    },
    {
      "cell_type": "code",
      "metadata": {
        "id": "4rV6hI2CnhJk",
        "colab_type": "code",
        "colab": {
          "base_uri": "https://localhost:8080/",
          "height": 134
        },
        "outputId": "0cf60f24-c2bc-432c-8993-66e1eab55888"
      },
      "source": [
        "A = (np.random.rand(10)*100).astype(np.float32)\n",
        "print(A)\n",
        "print('______________________________________')\n",
        "Y = A.view(np.int32)\n",
        "print(Y)\n",
        "print('________________________________________')\n",
        "Y[:] = A\n",
        "print(Y)"
      ],
      "execution_count": null,
      "outputs": [
        {
          "output_type": "stream",
          "text": [
            "[97.129745 21.382296  9.157343 26.064638 54.043896 62.443115 90.50801\n",
            " 58.87695  24.27177  51.452995]\n",
            "______________________________________\n",
            "[1120027246 1101729521 1091732602 1104184417 1113074931 1115276736\n",
            " 1119159322 1114341887 1103244438 1112395742]\n",
            "________________________________________\n",
            "[97 21  9 26 54 62 90 58 24 51]\n"
          ],
          "name": "stdout"
        }
      ]
    },
    {
      "cell_type": "markdown",
      "metadata": {
        "id": "GWA4gqLanhJl",
        "colab_type": "text"
      },
      "source": [
        "#### 54. How to read the following file? (★★☆)\n",
        "```\n",
        "1, 2, 3, 4, 5\n",
        "6,  ,  , 7, 8\n",
        " ,  , 9,10,11\n",
        "```"
      ]
    },
    {
      "cell_type": "code",
      "metadata": {
        "id": "ybvn_sF2nhJm",
        "colab_type": "code",
        "colab": {
          "base_uri": "https://localhost:8080/",
          "height": 101
        },
        "outputId": "8df102c9-d498-400f-fbfa-d2edb161ca74"
      },
      "source": [
        "from io import StringIO\n",
        "\n",
        "# Fake file\n",
        "s = StringIO('''1, 2, 3, 4, 5\n",
        "\n",
        "                6,  ,  , 7, 8\n",
        "\n",
        "                 ,  , 9,10,11\n",
        "''')\n",
        "print(s)\n",
        "print('______________________________________')\n",
        "a = np.genfromtxt(s, delimiter=\",\", dtype=np.int )\n",
        "print(a)"
      ],
      "execution_count": null,
      "outputs": [
        {
          "output_type": "stream",
          "text": [
            "<_io.StringIO object at 0x7f3e3b4ca0d8>\n",
            "______________________________________\n",
            "[[ 1  2  3  4  5]\n",
            " [ 6 -1 -1  7  8]\n",
            " [-1 -1  9 10 11]]\n"
          ],
          "name": "stdout"
        }
      ]
    },
    {
      "cell_type": "code",
      "metadata": {
        "id": "4wdU-Hm8iWAe",
        "colab_type": "code",
        "colab": {}
      },
      "source": [
        ""
      ],
      "execution_count": null,
      "outputs": []
    },
    {
      "cell_type": "markdown",
      "metadata": {
        "id": "HBk-CDIUnhJn",
        "colab_type": "text"
      },
      "source": [
        "#### 55. What is the equivalent of enumerate for numpy arrays? Каков эквивалент перечисления для нумерующих массивов?(★★☆)"
      ]
    },
    {
      "cell_type": "code",
      "metadata": {
        "id": "cBfk7to2nhJn",
        "colab_type": "code",
        "colab": {
          "base_uri": "https://localhost:8080/",
          "height": 554
        },
        "outputId": "c6ba7cd5-732f-4410-c38b-b424e2330277"
      },
      "source": [
        "a = np.arange(9).reshape(3,3)\n",
        "print(a)\n",
        "print(a.shape)\n",
        "print('_______________________________________')\n",
        "for index, value in np.ndenumerate(a):\n",
        "    print(index, value)\n",
        "    print('________________________________________')\n",
        "for index in np.ndindex(a.shape):\n",
        "    print(index, a[index])"
      ],
      "execution_count": null,
      "outputs": [
        {
          "output_type": "stream",
          "text": [
            "[[0 1 2]\n",
            " [3 4 5]\n",
            " [6 7 8]] /n\n",
            "(3, 3)\n",
            "_______________________________________\n",
            "(0, 0) 0\n",
            "________________________________________\n",
            "(0, 1) 1\n",
            "________________________________________\n",
            "(0, 2) 2\n",
            "________________________________________\n",
            "(1, 0) 3\n",
            "________________________________________\n",
            "(1, 1) 4\n",
            "________________________________________\n",
            "(1, 2) 5\n",
            "________________________________________\n",
            "(2, 0) 6\n",
            "________________________________________\n",
            "(2, 1) 7\n",
            "________________________________________\n",
            "(2, 2) 8\n",
            "________________________________________\n",
            "(0, 0) 0\n",
            "(0, 1) 1\n",
            "(0, 2) 2\n",
            "(1, 0) 3\n",
            "(1, 1) 4\n",
            "(1, 2) 5\n",
            "(2, 0) 6\n",
            "(2, 1) 7\n",
            "(2, 2) 8\n"
          ],
          "name": "stdout"
        }
      ]
    },
    {
      "cell_type": "markdown",
      "metadata": {
        "id": "Q5_hFbbzrjyU",
        "colab_type": "text"
      },
      "source": [
        "np.ndindex - N-мерный объект итератора для индексации массивов.\n",
        "\n",
        "Учитывая форму массива, экземпляр ndindex выполняет итерацию по N-мерному индексу массива. На каждой итерации возвращается кортеж индексов, последнее измерение повторяется первым."
      ]
    },
    {
      "cell_type": "markdown",
      "metadata": {
        "id": "O9RLq8C6nDZJ",
        "colab_type": "text"
      },
      "source": [
        "np.ndenumerate - Итератор многомерного индекса.\n",
        "Возвращает итератор, дающий пары координат и значений массива."
      ]
    },
    {
      "cell_type": "markdown",
      "metadata": {
        "id": "7uRcQ9fgnhJo",
        "colab_type": "text"
      },
      "source": [
        "#### 56. Generate a generic 2D Gaussian-like array (★★☆)"
      ]
    },
    {
      "cell_type": "code",
      "metadata": {
        "id": "_tKIqtJBnhJo",
        "colab_type": "code",
        "colab": {
          "base_uri": "https://localhost:8080/",
          "height": 403
        },
        "outputId": "1a9e7aa4-d34f-4b54-868f-19a17e670122"
      },
      "source": [
        "X, Y = np.meshgrid(np.linspace(-1,1,10), np.linspace(-1,1,10))\n",
        "print(np.linspace(-1,1,10))\n",
        "print('__________________________________')\n",
        "D = np.sqrt(X*X+Y*Y)\n",
        "sigma, mu = 1.0, 0.0\n",
        "G = np.exp(-( (D-mu)**2 / ( 2.0 * sigma**2 ) ) )\n",
        "print(G)"
      ],
      "execution_count": null,
      "outputs": [
        {
          "output_type": "stream",
          "text": [
            "[-1.         -0.77777778 -0.55555556 -0.33333333 -0.11111111  0.11111111\n",
            "  0.33333333  0.55555556  0.77777778  1.        ]\n",
            "__________________________________\n",
            "[[0.36787944 0.44822088 0.51979489 0.57375342 0.60279818 0.60279818\n",
            "  0.57375342 0.51979489 0.44822088 0.36787944]\n",
            " [0.44822088 0.54610814 0.63331324 0.69905581 0.73444367 0.73444367\n",
            "  0.69905581 0.63331324 0.54610814 0.44822088]\n",
            " [0.51979489 0.63331324 0.73444367 0.81068432 0.85172308 0.85172308\n",
            "  0.81068432 0.73444367 0.63331324 0.51979489]\n",
            " [0.57375342 0.69905581 0.81068432 0.89483932 0.9401382  0.9401382\n",
            "  0.89483932 0.81068432 0.69905581 0.57375342]\n",
            " [0.60279818 0.73444367 0.85172308 0.9401382  0.98773022 0.98773022\n",
            "  0.9401382  0.85172308 0.73444367 0.60279818]\n",
            " [0.60279818 0.73444367 0.85172308 0.9401382  0.98773022 0.98773022\n",
            "  0.9401382  0.85172308 0.73444367 0.60279818]\n",
            " [0.57375342 0.69905581 0.81068432 0.89483932 0.9401382  0.9401382\n",
            "  0.89483932 0.81068432 0.69905581 0.57375342]\n",
            " [0.51979489 0.63331324 0.73444367 0.81068432 0.85172308 0.85172308\n",
            "  0.81068432 0.73444367 0.63331324 0.51979489]\n",
            " [0.44822088 0.54610814 0.63331324 0.69905581 0.73444367 0.73444367\n",
            "  0.69905581 0.63331324 0.54610814 0.44822088]\n",
            " [0.36787944 0.44822088 0.51979489 0.57375342 0.60279818 0.60279818\n",
            "  0.57375342 0.51979489 0.44822088 0.36787944]]\n"
          ],
          "name": "stdout"
        }
      ]
    },
    {
      "cell_type": "markdown",
      "metadata": {
        "id": "GWVSymH1yFLU",
        "colab_type": "text"
      },
      "source": [
        "**numpy.linspace** Вернуть равномерно распределенные числа за указанный интервал.\n",
        "\n",
        "Возвращает num равномерно распределенных выборок, рассчитанных по интервалу [start, stop].\n",
        "\n",
        "Конечная точка интервала может быть дополнительно исключена.(start, stop, num=50, endpoint=True, retstep=False, dtype=None, axis=0)[source]\n",
        "Return evenly spaced numbers over a specified interval.\n",
        "\n",
        "Returns num evenly spaced samples, calculated over the interval [start, stop].\n",
        "\n",
        "The endpoint of the interval can optionally be excluded."
      ]
    },
    {
      "cell_type": "markdown",
      "metadata": {
        "id": "ml8Y3IyXnhJp",
        "colab_type": "text"
      },
      "source": [
        "#### 57. How to randomly place p elements in a 2D array? (★★☆)"
      ]
    },
    {
      "cell_type": "markdown",
      "metadata": {
        "id": "jm9ccir5yRt2",
        "colab_type": "text"
      },
      "source": [
        ""
      ]
    },
    {
      "cell_type": "code",
      "metadata": {
        "id": "z2D1BScznhJp",
        "colab_type": "code",
        "colab": {
          "base_uri": "https://localhost:8080/",
          "height": 185
        },
        "outputId": "4e6fd5ca-67f4-49d6-fa02-22ac442ee506"
      },
      "source": [
        "n = 10\n",
        "p = 3\n",
        "a = np.zeros((n,n))\n",
        "np.put(a, np.random.choice(range(n*n), p, replace=False),5)\n",
        "print(a)"
      ],
      "execution_count": null,
      "outputs": [
        {
          "output_type": "stream",
          "text": [
            "[[0. 0. 0. 0. 0. 5. 0. 0. 0. 0.]\n",
            " [0. 0. 0. 0. 0. 0. 0. 0. 0. 0.]\n",
            " [0. 0. 0. 0. 0. 0. 0. 0. 5. 0.]\n",
            " [0. 0. 0. 0. 0. 0. 0. 0. 0. 0.]\n",
            " [0. 0. 5. 0. 0. 0. 0. 0. 0. 0.]\n",
            " [0. 0. 0. 0. 0. 0. 0. 0. 0. 0.]\n",
            " [0. 0. 0. 0. 0. 0. 0. 0. 0. 0.]\n",
            " [0. 0. 0. 0. 0. 0. 0. 0. 0. 0.]\n",
            " [0. 0. 0. 0. 0. 0. 0. 0. 0. 0.]\n",
            " [0. 0. 0. 0. 0. 0. 0. 0. 0. 0.]]\n"
          ],
          "name": "stdout"
        }
      ]
    },
    {
      "cell_type": "markdown",
      "metadata": {
        "id": "rOWuMhzznhJq",
        "colab_type": "text"
      },
      "source": [
        "#### 58. Subtract the mean of each row of a matrix (★★☆) Вычитать среднее значение каждой строки матрицы"
      ]
    },
    {
      "cell_type": "code",
      "metadata": {
        "id": "ujQMM1bXnhJr",
        "colab_type": "code",
        "colab": {
          "base_uri": "https://localhost:8080/",
          "height": 425
        },
        "outputId": "f3515d9b-3382-43f9-efc2-16804355e4d0"
      },
      "source": [
        "X = np.random.rand(5, 10)\n",
        "print(X, '\\n'  '________________________________'  '\\n')\n",
        "\n",
        "# Recent versions of numpy\n",
        "Y = X - X.mean(axis=1, keepdims=True)\n",
        "print(Y, '\\n'  '________________________________'  '\\n')\n",
        "\n"
      ],
      "execution_count": null,
      "outputs": [
        {
          "output_type": "stream",
          "text": [
            "[[0.26520366 0.50700436 0.77600583 0.11423663 0.13005759 0.33657211\n",
            "  0.67255039 0.04269745 0.42456044 0.80528843]\n",
            " [0.22684683 0.66201423 0.78499446 0.31185073 0.37163223 0.31187339\n",
            "  0.83473191 0.65535038 0.45752828 0.08421073]\n",
            " [0.25127647 0.82314027 0.2058998  0.6762776  0.73022873 0.67843404\n",
            "  0.42340549 0.73322726 0.83019848 0.39628517]\n",
            " [0.76240404 0.76265756 0.51033309 0.66126831 0.38782193 0.58728275\n",
            "  0.29767153 0.99522667 0.44881517 0.52416188]\n",
            " [0.69259287 0.39117414 0.44082997 0.22142001 0.9569662  0.12678961\n",
            "  0.10935264 0.03990688 0.27512741 0.37772868]] \n",
            "________________________________\n",
            "\n",
            "[[-0.14221403  0.09958667  0.36858814 -0.29318106 -0.2773601  -0.07084558\n",
            "   0.2651327  -0.36472024  0.01714275  0.39787074]\n",
            " [-0.24325649  0.19191092  0.31489114 -0.15825259 -0.09847109 -0.15822993\n",
            "   0.36462859  0.18524706 -0.01257504 -0.38589258]\n",
            " [-0.32356086  0.24830294 -0.36893753  0.10144027  0.1553914   0.10359671\n",
            "  -0.15143184  0.15838993  0.25536115 -0.17855217]\n",
            " [ 0.16863975  0.16889327 -0.0834312   0.06750401 -0.20594236 -0.00648154\n",
            "  -0.29609277  0.40146238 -0.14494912 -0.06960241]\n",
            " [ 0.32940403  0.0279853   0.07764113 -0.14176883  0.59377736 -0.23639923\n",
            "  -0.2538362  -0.32328196 -0.08806143  0.01453984]] \n",
            "________________________________\n",
            "\n"
          ],
          "name": "stdout"
        }
      ]
    },
    {
      "cell_type": "markdown",
      "metadata": {
        "id": "GaZKYS60rDOj",
        "colab_type": "text"
      },
      "source": [
        "https://pyprog.pro/statistics_functions/mean.html"
      ]
    },
    {
      "cell_type": "markdown",
      "metadata": {
        "id": "EYSiMrYNnhJs",
        "colab_type": "text"
      },
      "source": [
        "#### 59. How to sort an array by the nth column? (★★☆) Как отсортировать массив по n-ой колонке?"
      ]
    },
    {
      "cell_type": "code",
      "metadata": {
        "id": "8XYu2TGdnhJs",
        "colab_type": "code",
        "colab": {
          "base_uri": "https://localhost:8080/",
          "height": 204
        },
        "outputId": "0c06b78b-f560-4a74-cfe7-d222408dbc3d"
      },
      "source": [
        "Z = np.random.randint(0,10,(3,3))\n",
        "print(Z, '\\n'  '________________________________'  '\\n')\n",
        "print(Z[:,1], '\\n'  '________________________________'  '\\n')\n",
        "print(Z[Z[:,1].argsort()])"
      ],
      "execution_count": null,
      "outputs": [
        {
          "output_type": "stream",
          "text": [
            "[[5 7 7]\n",
            " [9 2 6]\n",
            " [5 2 0]] \n",
            "________________________________\n",
            "\n",
            "[7 2 2] \n",
            "________________________________\n",
            "\n",
            "[[9 2 6]\n",
            " [5 2 0]\n",
            " [5 7 7]]\n"
          ],
          "name": "stdout"
        }
      ]
    },
    {
      "cell_type": "markdown",
      "metadata": {
        "id": "cNqTyxMmskrJ",
        "colab_type": "text"
      },
      "source": [
        "\n",
        "https://pyprog.pro/sort/argsort.html"
      ]
    },
    {
      "cell_type": "markdown",
      "metadata": {
        "id": "S2uKNrnAnhJu",
        "colab_type": "text"
      },
      "source": [
        "#### 60. How to tell if a given 2D array has null columns? (★★☆) Как определить, имеет ли заданный 2D массив нулевые столбцы?"
      ]
    },
    {
      "cell_type": "code",
      "metadata": {
        "id": "d7PXy-JLnhJv",
        "colab_type": "code",
        "colab": {
          "base_uri": "https://localhost:8080/",
          "height": 119
        },
        "outputId": "db60e014-151a-4e88-a874-25c1d9088c8b"
      },
      "source": [
        "Z = np.random.randint(0,3,(3,10))\n",
        "print(Z , '\\n'  '________________________________'  '\\n')\n",
        "print((~Z.any(axis=0)).any())"
      ],
      "execution_count": null,
      "outputs": [
        {
          "output_type": "stream",
          "text": [
            "[[0 1 0 2 2 0 2 0 2 2]\n",
            " [0 1 0 0 0 1 0 1 0 2]\n",
            " [0 0 2 2 0 2 2 0 1 0]] \n",
            "________________________________\n",
            "\n",
            "True\n"
          ],
          "name": "stdout"
        }
      ]
    },
    {
      "cell_type": "markdown",
      "metadata": {
        "id": "T_KKeesLnhJw",
        "colab_type": "text"
      },
      "source": [
        "#### 61. Find the nearest value from a given value in an array (★★☆) Найти ближайшее значение из заданного значения в массиве"
      ]
    },
    {
      "cell_type": "code",
      "metadata": {
        "id": "EJW7MnbatL7o",
        "colab_type": "code",
        "colab": {
          "base_uri": "https://localhost:8080/",
          "height": 153
        },
        "outputId": "dfb2ccca-7f99-4177-bdcf-461eb585b3b3"
      },
      "source": [
        "Z = np.random.uniform(0,1,10)\n",
        "print(Z , '\\n'  '________________________________'  '\\n')\n",
        "z = 0.5\n",
        "m = Z.flat[np.abs(Z - z).argmin()]\n",
        "print(m, '\\n'  '________________________________'  '\\n')\n",
        "print(np.abs(Z - z).argmin())"
      ],
      "execution_count": null,
      "outputs": [
        {
          "output_type": "stream",
          "text": [
            "[0.61631481 0.30017582 0.68064013 0.88202955 0.055441   0.21920285\n",
            " 0.47692752 0.34279637 0.20667898 0.98729446] \n",
            "________________________________\n",
            "\n",
            "0.4769275209480761 \n",
            "________________________________\n",
            "\n",
            "6\n"
          ],
          "name": "stdout"
        }
      ]
    },
    {
      "cell_type": "code",
      "metadata": {
        "id": "L0WFwQTknhJw",
        "colab_type": "code",
        "colab": {}
      },
      "source": [
        ""
      ],
      "execution_count": null,
      "outputs": []
    },
    {
      "cell_type": "markdown",
      "metadata": {
        "id": "lrCsevh6qrrq",
        "colab_type": "text"
      },
      "source": [
        ""
      ]
    },
    {
      "cell_type": "markdown",
      "metadata": {
        "id": "A-DMsbX5nhJx",
        "colab_type": "text"
      },
      "source": [
        "#### 62. Considering two arrays with shape (1,3) and (3,1), how to compute their sum using an iterator? (★★☆) Рассматривая два массива в форме (1,3) и (3,1), как вычислить их сумму с помощью итератора?"
      ]
    },
    {
      "cell_type": "code",
      "metadata": {
        "id": "VBoQd0tMnhJx",
        "colab_type": "code",
        "colab": {
          "base_uri": "https://localhost:8080/",
          "height": 374
        },
        "outputId": "de00dd02-1e71-4427-c165-61ba48207179"
      },
      "source": [
        "A = np.arange(3).reshape(3,1)\n",
        "print(A, '\\n'  '________________________________'  '\\n')\n",
        "B = np.arange(3).reshape(1,3)\n",
        "print(B  , '\\n'  '________________________________'  '\\n')\n",
        "it = np.nditer([A,B,None])\n",
        "print(it , '\\n'  '________________________________'  '\\n')\n",
        "for x,y,z in it: z[...] = x + y\n",
        "print(it.operands[2] , '\\n'  '________________________________'  '\\n')\n",
        "\n",
        "# пример работы итератора\n",
        "a = np.arange(6).reshape(2,3)\n",
        "print(a , '\\n'  '________________________________'  '\\n')\n",
        "for x in np.nditer(a):\n",
        "    print(x, end=' ')\n"
      ],
      "execution_count": null,
      "outputs": [
        {
          "output_type": "stream",
          "text": [
            "[[0]\n",
            " [1]\n",
            " [2]] \n",
            "________________________________\n",
            "\n",
            "[[0 1 2]] \n",
            "________________________________\n",
            "\n",
            "<numpy.nditer object at 0x7fedc8a4dd50> \n",
            "________________________________\n",
            "\n",
            "[[0 1 2]\n",
            " [1 2 3]\n",
            " [2 3 4]] \n",
            "________________________________\n",
            "\n",
            "[[0 1 2]\n",
            " [3 4 5]] \n",
            "________________________________\n",
            "\n",
            "0 1 2 3 4 5 "
          ],
          "name": "stdout"
        }
      ]
    },
    {
      "cell_type": "markdown",
      "metadata": {
        "id": "dwNSqf7znhJy",
        "colab_type": "text"
      },
      "source": [
        "#### 63. Create an array class that has a name attribute (★★☆) Создать класс массива с атрибутом имени"
      ]
    },
    {
      "cell_type": "code",
      "metadata": {
        "id": "nnT30nn0nhJz",
        "colab_type": "code",
        "colab": {
          "base_uri": "https://localhost:8080/",
          "height": 51
        },
        "outputId": "2c30b45d-591b-4568-be51-a518a7574ce4"
      },
      "source": [
        "class NamedArray(np.ndarray):\n",
        "    def __new__(cls, array, name=\"no name\"):\n",
        "        obj = np.asarray(array).view(cls)\n",
        "        obj.name = name\n",
        "        return obj\n",
        "    def __array_finalize__(self, obj):\n",
        "        if obj is None: return\n",
        "        self.info = getattr(obj, 'name', \"no name\")\n",
        "\n",
        "Z = NamedArray(np.arange(10), \"range_10\")\n",
        "print(Z)\n",
        "print (Z.name)"
      ],
      "execution_count": null,
      "outputs": [
        {
          "output_type": "stream",
          "text": [
            "[0 1 2 3 4 5 6 7 8 9]\n",
            "range_10\n"
          ],
          "name": "stdout"
        }
      ]
    },
    {
      "cell_type": "markdown",
      "metadata": {
        "id": "9xScHZaPnhJ0",
        "colab_type": "text"
      },
      "source": [
        "#### 64. Consider a given vector, how to add 1 to each element indexed by a second vector (be careful with repeated indices)? (★★★) Рассмотрим заданный вектор, как добавить по 1 к каждому элементу, индексируемому по второму вектору (будьте осторожны с повторяющимися индексами)."
      ]
    },
    {
      "cell_type": "code",
      "metadata": {
        "id": "jWpbFyUpnhJ0",
        "colab_type": "code",
        "colab": {
          "base_uri": "https://localhost:8080/",
          "height": 187
        },
        "outputId": "59d9ae02-76e3-4b94-a151-f04462030cb2"
      },
      "source": [
        "Z = np.ones(10)\n",
        "print(Z , '\\n'  '________________________________'  '\\n')\n",
        "I = np.random.randint(0,len(Z),20)\n",
        "print(I , '\\n'  '________________________________'  '\\n')\n",
        "Z += np.bincount(I, minlength=len(Z))\n",
        "print( Z , '\\n'  '________________________________'  '\\n')\n",
        "\n",
        "np.add.at(Z, I, 1)\n",
        "print(Z)"
      ],
      "execution_count": null,
      "outputs": [
        {
          "output_type": "stream",
          "text": [
            "[1. 1. 1. 1. 1. 1. 1. 1. 1. 1.] \n",
            "________________________________\n",
            "\n",
            "[3 2 3 1 2 3 4 3 0 4 6 9 4 3 1 8 4 8 9 5] \n",
            "________________________________\n",
            "\n",
            "[2. 3. 3. 6. 5. 2. 2. 1. 3. 3.] \n",
            "________________________________\n",
            "\n",
            "[ 3.  5.  5. 11.  9.  3.  3.  1.  5.  5.]\n"
          ],
          "name": "stdout"
        }
      ]
    },
    {
      "cell_type": "markdown",
      "metadata": {
        "id": "ckWYkTk8nhJ1",
        "colab_type": "text"
      },
      "source": [
        "#### 65. How to accumulate elements of a vector (X) to an array (F) based on an index list (I)? (★★★) Как аккумулировать элементы вектора (X) в массив (F) на основе индексного списка (I)"
      ]
    },
    {
      "cell_type": "code",
      "metadata": {
        "id": "-9c5On0DnhJ2",
        "colab_type": "code",
        "colab": {
          "base_uri": "https://localhost:8080/",
          "height": 34
        },
        "outputId": "b6bac562-5274-4e4a-fd74-baa0e0870fdf"
      },
      "source": [
        "X = [1,2,3,4,5,6]\n",
        "I = [1,3,9,3,4,1]\n",
        "F = np.bincount(I,X)\n",
        "print(F)"
      ],
      "execution_count": null,
      "outputs": [
        {
          "output_type": "stream",
          "text": [
            "[0. 7. 0. 6. 5. 0. 0. 0. 0. 3.]\n"
          ],
          "name": "stdout"
        }
      ]
    },
    {
      "cell_type": "markdown",
      "metadata": {
        "id": "Kj-MpO696l0-",
        "colab_type": "text"
      },
      "source": [
        "https://pyprog.pro/statistics_functions/bincount.html"
      ]
    },
    {
      "cell_type": "markdown",
      "metadata": {
        "id": "i-7HzJfVnhJ3",
        "colab_type": "text"
      },
      "source": [
        "#### 66. Considering a (w,h,3) image of (dtype=ubyte), compute the number of unique colors (★★★)  Рассматривая (w,h,3) изображение (dtype=ubyte), вычислите количество уникальных цветов"
      ]
    },
    {
      "cell_type": "code",
      "metadata": {
        "id": "Cd202U4dnhJ3",
        "colab_type": "code",
        "colab": {
          "base_uri": "https://localhost:8080/",
          "height": 306
        },
        "outputId": "742b3ab9-51cd-479b-d666-1b176c7e950a"
      },
      "source": [
        "w,h = 16,16\n",
        "I = np.random.randint(0,2,(h,w,3)).astype(np.ubyte)\n",
        "#print(I)\n",
        "F = I[...,0]*256*256 + I[...,1]*256 +I[...,2]\n",
        "print(F)\n",
        "n = len(np.unique(F))\n",
        "print(np.unique(I))"
      ],
      "execution_count": null,
      "outputs": [
        {
          "output_type": "stream",
          "text": [
            "[[257   1 257 256   1   1 257   1 256   1 257 257 256 256   0 257]\n",
            " [  0   1 257 257   1   1   0 257 257 257   1 256 256 257   0 256]\n",
            " [  0   0 257   1   0   1 257 256 257   1   0   1   0   0 256 256]\n",
            " [257 256   0 257 256   0 256 257 257   1   0 257 257 257   1   0]\n",
            " [256   0 257 256 257 256   0 256   1   0 257 257 257   1   0   0]\n",
            " [  1   0 257   0   1 256   0 257 256 257   1   0   1   1 257 256]\n",
            " [  0 257 257   0   1   1 256   0   0 257 257   1 257   0 257   0]\n",
            " [  0   1   0   0   1   0 257 256 257 257 257   0 257 256 257 256]\n",
            " [  1 257   1   0 256 257   0 256   1   0   0 257   1 257   1   1]\n",
            " [  1   0 256   1   0   0   0 256 256   0 257 257   0   1   1   1]\n",
            " [  1 256 257   1   1 257   1   0   1   0   0   1 257 256   0 257]\n",
            " [  1   1   1   1 256   1 257   0   1   1 257   0   0   0   1 257]\n",
            " [257   1   0 256   0   0   0 257 256   0   0   1 256   1   0 256]\n",
            " [257 257   0   0   0   1   0   0 256   1 256 257   1   1   1   1]\n",
            " [256 256   1 256 256 257   1 257 256 256 256   1 256   0   1   1]\n",
            " [  0 257   0 257 257   1 256   0   0 257 256 257 256   0 256   1]]\n",
            "[0 1]\n"
          ],
          "name": "stdout"
        }
      ]
    },
    {
      "cell_type": "markdown",
      "metadata": {
        "id": "Da_leMNx7ZEI",
        "colab_type": "text"
      },
      "source": [
        "https://numpy.org/doc/stable/reference/generated/numpy.unique.html?highlight=unique#numpy.unique"
      ]
    },
    {
      "cell_type": "markdown",
      "metadata": {
        "id": "PN0_1HwBnhJ4",
        "colab_type": "text"
      },
      "source": [
        "#### 67. Considering a four dimensions array, how to get sum over the last two axis at once? (★★★)  Учитывая четырехмерный массив, как получить сумму сразу по двум последним осям?"
      ]
    },
    {
      "cell_type": "code",
      "metadata": {
        "id": "OgHjYe_3nhJ5",
        "colab_type": "code",
        "colab": {
          "base_uri": "https://localhost:8080/",
          "height": 1000
        },
        "outputId": "0d18a30f-f02d-4154-dfbd-a73b6937d14b"
      },
      "source": [
        "A = np.random.randint(0,10,(3,4,3,4))\n",
        "print(A , '\\n'  '________________________________'  '\\n')\n",
        "# solution by passing a tuple of axes (introduced in numpy 1.7.0)\n",
        "sum = A.sum(axis=(-2,-1))\n",
        "print(sum , '\\n'  '________________________________'  '\\n')\n",
        "# solution by flattening the last two dimensions into one\n",
        "# (useful for functions that don't accept tuples for axis argument)\n",
        "sum = A.reshape(A.shape[:-2] + (-1,)).sum(axis=-1)\n",
        "print(sum)"
      ],
      "execution_count": null,
      "outputs": [
        {
          "output_type": "stream",
          "text": [
            "[[[[3 1 6 1]\n",
            "   [3 2 6 8]\n",
            "   [8 1 2 3]]\n",
            "\n",
            "  [[1 7 3 8]\n",
            "   [5 8 9 4]\n",
            "   [9 2 7 2]]\n",
            "\n",
            "  [[4 4 5 9]\n",
            "   [6 2 4 0]\n",
            "   [4 2 2 2]]\n",
            "\n",
            "  [[4 3 2 3]\n",
            "   [1 4 7 7]\n",
            "   [0 1 8 3]]]\n",
            "\n",
            "\n",
            " [[[4 7 9 4]\n",
            "   [1 6 6 0]\n",
            "   [4 7 6 3]]\n",
            "\n",
            "  [[9 0 5 8]\n",
            "   [8 6 6 4]\n",
            "   [3 8 3 9]]\n",
            "\n",
            "  [[5 2 5 4]\n",
            "   [9 0 8 9]\n",
            "   [7 7 5 6]]\n",
            "\n",
            "  [[8 9 2 0]\n",
            "   [6 3 1 4]\n",
            "   [0 8 6 5]]]\n",
            "\n",
            "\n",
            " [[[8 9 3 3]\n",
            "   [4 0 9 1]\n",
            "   [1 4 5 2]]\n",
            "\n",
            "  [[4 7 0 6]\n",
            "   [4 3 9 1]\n",
            "   [2 2 4 9]]\n",
            "\n",
            "  [[6 2 7 6]\n",
            "   [5 4 2 2]\n",
            "   [4 1 8 0]]\n",
            "\n",
            "  [[7 8 7 9]\n",
            "   [6 7 1 8]\n",
            "   [7 3 4 5]]]] \n",
            "________________________________\n",
            "\n",
            "[[44 65 44 43]\n",
            " [57 69 67 52]\n",
            " [49 51 47 72]] \n",
            "________________________________\n",
            "\n",
            "[[44 65 44 43]\n",
            " [57 69 67 52]\n",
            " [49 51 47 72]]\n"
          ],
          "name": "stdout"
        }
      ]
    },
    {
      "cell_type": "markdown",
      "metadata": {
        "id": "AW862aWrnhJ7",
        "colab_type": "text"
      },
      "source": [
        "#### 68. Considering a one-dimensional vector D, how to compute means of subsets of D using a vector S of same size describing subset  indices? (★★★)"
      ]
    },
    {
      "cell_type": "code",
      "metadata": {
        "id": "8mUvD5-enhJ7",
        "colab_type": "code",
        "colab": {
          "base_uri": "https://localhost:8080/",
          "height": 238
        },
        "outputId": "be1eaa85-8582-43fe-ab66-bcc9fd4822be"
      },
      "source": [
        "# bincount - Подсчитывать количество вхождений каждого значения в массиве неотрицательных ints.\n",
        "D = np.random.uniform(0,1,100)\n",
        "S = np.random.randint(0,10,100)\n",
        "D_sums = np.bincount(S, weights=D)\n",
        "D_counts = np.bincount(S)\n",
        "D_means = D_sums / D_counts\n",
        "print(D_means)\n",
        "\n",
        "# Pandas solution as a reference due to more intuitive code\n",
        "import pandas as pd\n",
        "print(pd.Series(D).groupby(S).mean())"
      ],
      "execution_count": null,
      "outputs": [
        {
          "output_type": "stream",
          "text": [
            "[0.39219532 0.46540321 0.45826853 0.55581942 0.53215349 0.47143338\n",
            " 0.64223339 0.48271384 0.50020738 0.4839034 ]\n",
            "0    0.392195\n",
            "1    0.465403\n",
            "2    0.458269\n",
            "3    0.555819\n",
            "4    0.532153\n",
            "5    0.471433\n",
            "6    0.642233\n",
            "7    0.482714\n",
            "8    0.500207\n",
            "9    0.483903\n",
            "dtype: float64\n"
          ],
          "name": "stdout"
        }
      ]
    },
    {
      "cell_type": "markdown",
      "metadata": {
        "id": "YV_VxkR3nhJ9",
        "colab_type": "text"
      },
      "source": [
        "#### 69. How to get the diagonal of a dot product? (★★★) Как получить диагональ точечного продукта?"
      ]
    },
    {
      "cell_type": "code",
      "metadata": {
        "id": "HmHxGX6mnhJ9",
        "colab_type": "code",
        "colab": {
          "base_uri": "https://localhost:8080/",
          "height": 272
        },
        "outputId": "845392d2-e8ac-405f-a4e7-3117dde6aa4a"
      },
      "source": [
        "A = np.random.uniform(0,1,(5,5))\n",
        "print(A , '\\n'  '________________________________'  '\\n')\n",
        "B = np.random.uniform(0,1,(5,5))\n",
        "print(B , '\\n'  '________________________________'  '\\n')\n",
        "\n",
        "# Slow version\n",
        "np.diag(np.dot(A, B))\n",
        "\n",
        "# Fast version\n",
        "np.sum(A * B.T, axis=1)"
      ],
      "execution_count": null,
      "outputs": [
        {
          "output_type": "stream",
          "text": [
            "[[0.43700888 0.93426526 0.45537171 0.32271619 0.55637673]\n",
            " [0.82121256 0.21802558 0.76581636 0.36989675 0.44165862]\n",
            " [0.10797781 0.31892428 0.32312331 0.53368866 0.93575872]\n",
            " [0.83898258 0.75048212 0.94284587 0.49329538 0.88982403]\n",
            " [0.27973827 0.09320838 0.15288989 0.38026604 0.4536526 ]] \n",
            "________________________________\n",
            "\n",
            "[[0.83160451 0.47614165 0.16349716 0.42591791 0.04195718]\n",
            " [0.62673457 0.13603288 0.4170149  0.79164853 0.25903012]\n",
            " [0.75109683 0.66522676 0.25936702 0.53175661 0.33940117]\n",
            " [0.95742157 0.46774273 0.16628794 0.6021811  0.96133696]\n",
            " [0.67399267 0.73656012 0.73628987 0.14156676 0.27112637]] \n",
            "________________________________\n",
            "\n"
          ],
          "name": "stdout"
        },
        {
          "output_type": "execute_result",
          "data": {
            "text/plain": [
              "array([1.9749524 , 1.42843833, 1.01219342, 1.87584294, 0.5763328 ])"
            ]
          },
          "metadata": {
            "tags": []
          },
          "execution_count": 50
        }
      ]
    },
    {
      "cell_type": "markdown",
      "metadata": {
        "id": "f0TrPiRrFfIA",
        "colab_type": "text"
      },
      "source": [
        "https://pyprog.pro/linear_algebra_functions/dot.html"
      ]
    },
    {
      "cell_type": "markdown",
      "metadata": {
        "id": "YGyF7RxxnhJ_",
        "colab_type": "text"
      },
      "source": [
        "#### 70. Consider the vector [1, 2, 3, 4, 5], how to build a new vector with 3 consecutive zeros interleaved between each value? (★★★)  Рассмотрим вектор [1, 2, 3, 4, 5], как построить новый вектор с 3 последовательными нулями, перемежающимися между каждым значением?"
      ]
    },
    {
      "cell_type": "code",
      "metadata": {
        "id": "tRNr-kiknhJ_",
        "colab_type": "code",
        "colab": {
          "base_uri": "https://localhost:8080/",
          "height": 51
        },
        "outputId": "13598f41-b085-473f-e135-292be894d0fb"
      },
      "source": [
        "Z = np.array([1,2,3,4,5])\n",
        "nz = 3\n",
        "Z0 = np.zeros(len(Z) + (len(Z)-1)*(nz))\n",
        "print(Z0)\n",
        "Z0[::nz+1] = Z\n",
        "print(Z0)"
      ],
      "execution_count": null,
      "outputs": [
        {
          "output_type": "stream",
          "text": [
            "[0. 0. 0. 0. 0. 0. 0. 0. 0. 0. 0. 0. 0. 0. 0. 0. 0.]\n",
            "[1. 0. 0. 0. 2. 0. 0. 0. 3. 0. 0. 0. 4. 0. 0. 0. 5.]\n"
          ],
          "name": "stdout"
        }
      ]
    },
    {
      "cell_type": "markdown",
      "metadata": {
        "id": "vY4bnxZWnhKA",
        "colab_type": "text"
      },
      "source": [
        "#### 71. Consider an array of dimension (5,5,3), how to mulitply it by an array with dimensions (5,5)? (★★★)  Рассмотрим массив размерности (5,5,3), как его умножить на массив с размерами (5,5)"
      ]
    },
    {
      "cell_type": "code",
      "metadata": {
        "id": "u3OajAsSnhKA",
        "colab_type": "code",
        "colab": {
          "base_uri": "https://localhost:8080/",
          "height": 1000
        },
        "outputId": "c10a2180-ce6b-48a9-8bd2-795147c1cfc6"
      },
      "source": [
        "A = np.ones((5,5,3))\n",
        "print(A , '\\n'  '________________________________'  '\\n')\n",
        "B = 2*np.ones((5,5))\n",
        "print(B , '\\n'  '________________________________'  '\\n')\n",
        "B1 = np.ones((5,5))\n",
        "print(B1 , '\\n'  '________________________________'  '\\n')\n",
        "print(B[:,:,None] , '\\n'  'slice________________________________'  '\\n')\n",
        "print(A * B[:,:,None])"
      ],
      "execution_count": null,
      "outputs": [
        {
          "output_type": "stream",
          "text": [
            "[[[1. 1. 1.]\n",
            "  [1. 1. 1.]\n",
            "  [1. 1. 1.]\n",
            "  [1. 1. 1.]\n",
            "  [1. 1. 1.]]\n",
            "\n",
            " [[1. 1. 1.]\n",
            "  [1. 1. 1.]\n",
            "  [1. 1. 1.]\n",
            "  [1. 1. 1.]\n",
            "  [1. 1. 1.]]\n",
            "\n",
            " [[1. 1. 1.]\n",
            "  [1. 1. 1.]\n",
            "  [1. 1. 1.]\n",
            "  [1. 1. 1.]\n",
            "  [1. 1. 1.]]\n",
            "\n",
            " [[1. 1. 1.]\n",
            "  [1. 1. 1.]\n",
            "  [1. 1. 1.]\n",
            "  [1. 1. 1.]\n",
            "  [1. 1. 1.]]\n",
            "\n",
            " [[1. 1. 1.]\n",
            "  [1. 1. 1.]\n",
            "  [1. 1. 1.]\n",
            "  [1. 1. 1.]\n",
            "  [1. 1. 1.]]] \n",
            "________________________________\n",
            "\n",
            "[[2. 2. 2. 2. 2.]\n",
            " [2. 2. 2. 2. 2.]\n",
            " [2. 2. 2. 2. 2.]\n",
            " [2. 2. 2. 2. 2.]\n",
            " [2. 2. 2. 2. 2.]] \n",
            "________________________________\n",
            "\n",
            "[[1. 1. 1. 1. 1.]\n",
            " [1. 1. 1. 1. 1.]\n",
            " [1. 1. 1. 1. 1.]\n",
            " [1. 1. 1. 1. 1.]\n",
            " [1. 1. 1. 1. 1.]] \n",
            "________________________________\n",
            "\n",
            "[[[2.]\n",
            "  [2.]\n",
            "  [2.]\n",
            "  [2.]\n",
            "  [2.]]\n",
            "\n",
            " [[2.]\n",
            "  [2.]\n",
            "  [2.]\n",
            "  [2.]\n",
            "  [2.]]\n",
            "\n",
            " [[2.]\n",
            "  [2.]\n",
            "  [2.]\n",
            "  [2.]\n",
            "  [2.]]\n",
            "\n",
            " [[2.]\n",
            "  [2.]\n",
            "  [2.]\n",
            "  [2.]\n",
            "  [2.]]\n",
            "\n",
            " [[2.]\n",
            "  [2.]\n",
            "  [2.]\n",
            "  [2.]\n",
            "  [2.]]] \n",
            "slice________________________________\n",
            "\n",
            "[[[2. 2. 2.]\n",
            "  [2. 2. 2.]\n",
            "  [2. 2. 2.]\n",
            "  [2. 2. 2.]\n",
            "  [2. 2. 2.]]\n",
            "\n",
            " [[2. 2. 2.]\n",
            "  [2. 2. 2.]\n",
            "  [2. 2. 2.]\n",
            "  [2. 2. 2.]\n",
            "  [2. 2. 2.]]\n",
            "\n",
            " [[2. 2. 2.]\n",
            "  [2. 2. 2.]\n",
            "  [2. 2. 2.]\n",
            "  [2. 2. 2.]\n",
            "  [2. 2. 2.]]\n",
            "\n",
            " [[2. 2. 2.]\n",
            "  [2. 2. 2.]\n",
            "  [2. 2. 2.]\n",
            "  [2. 2. 2.]\n",
            "  [2. 2. 2.]]\n",
            "\n",
            " [[2. 2. 2.]\n",
            "  [2. 2. 2.]\n",
            "  [2. 2. 2.]\n",
            "  [2. 2. 2.]\n",
            "  [2. 2. 2.]]]\n"
          ],
          "name": "stdout"
        }
      ]
    },
    {
      "cell_type": "markdown",
      "metadata": {
        "id": "u5eHU0rcnhKB",
        "colab_type": "text"
      },
      "source": [
        "#### 72. How to swap two rows of an array? (★★★) Как поменять местами два ряда массива?"
      ]
    },
    {
      "cell_type": "code",
      "metadata": {
        "id": "3PQR9oKQnhKB",
        "colab_type": "code",
        "colab": {
          "base_uri": "https://localhost:8080/",
          "height": 221
        },
        "outputId": "77eb0e29-5369-427f-cc12-500d50e437da"
      },
      "source": [
        "A = np.arange(25).reshape(5,5)\n",
        "print(A , '\\n'  '________________________________'  '\\n')\n",
        "A[[0,1]] = A[[1,0]]\n",
        "print(A)"
      ],
      "execution_count": null,
      "outputs": [
        {
          "output_type": "stream",
          "text": [
            "[[ 0  1  2  3  4]\n",
            " [ 5  6  7  8  9]\n",
            " [10 11 12 13 14]\n",
            " [15 16 17 18 19]\n",
            " [20 21 22 23 24]] \n",
            "________________________________\n",
            "\n",
            "[[ 5  6  7  8  9]\n",
            " [ 0  1  2  3  4]\n",
            " [10 11 12 13 14]\n",
            " [15 16 17 18 19]\n",
            " [20 21 22 23 24]]\n"
          ],
          "name": "stdout"
        }
      ]
    },
    {
      "cell_type": "markdown",
      "metadata": {
        "id": "TjCVeDSvnhKC",
        "colab_type": "text"
      },
      "source": [
        "#### 73. Consider a set of 10 triplets describing 10 triangles (with shared vertices), find the set of unique line segments composing all the  triangles (★★★) Рассмотрим набор из 10 треугольников, описывающих 10 треугольников (с общими вершинами), найдем набор уникальных отрезков линий, составляющих все треугольники"
      ]
    },
    {
      "cell_type": "code",
      "metadata": {
        "id": "JApwGNybnhKC",
        "colab_type": "code",
        "colab": {
          "base_uri": "https://localhost:8080/",
          "height": 1000
        },
        "outputId": "f155a9e3-2e54-4fb7-ff15-002911c21fcc"
      },
      "source": [
        "faces = np.random.randint(0,100,(10,3))\n",
        "print(faces, '\\n'  '________________________________'  '\\n') \n",
        "F = np.roll(faces.repeat(2,axis=1),-1,axis=1)\n",
        "print(F , '\\n'  'np.roll________________________________'  '\\n')\n",
        "F = F.reshape(len(F)*3,2)\n",
        "print(F , '\\n'  'F.reshape________________________________'  '\\n')\n",
        "F = np.sort(F,axis=1)\n",
        "print(F , '\\n'  'F = np.sort(F,axis=1) ________________________________'  '\\n')\n",
        "G = F.view( dtype=[('p0',F.dtype),('p1',F.dtype)] )\n",
        "G = np.unique(G)\n",
        "print('result', '\\n', G)"
      ],
      "execution_count": null,
      "outputs": [
        {
          "output_type": "stream",
          "text": [
            "[[43 28 65]\n",
            " [70 19 24]\n",
            " [38 71 89]\n",
            " [48 40 99]\n",
            " [56 92 86]\n",
            " [89 31 67]\n",
            " [92 95 96]\n",
            " [42 12 20]\n",
            " [76 59 75]\n",
            " [21 49 42]] \n",
            "________________________________\n",
            "\n",
            "[[43 28 28 65 65 43]\n",
            " [70 19 19 24 24 70]\n",
            " [38 71 71 89 89 38]\n",
            " [48 40 40 99 99 48]\n",
            " [56 92 92 86 86 56]\n",
            " [89 31 31 67 67 89]\n",
            " [92 95 95 96 96 92]\n",
            " [42 12 12 20 20 42]\n",
            " [76 59 59 75 75 76]\n",
            " [21 49 49 42 42 21]] \n",
            "np.roll________________________________\n",
            "\n",
            "[[43 28]\n",
            " [28 65]\n",
            " [65 43]\n",
            " [70 19]\n",
            " [19 24]\n",
            " [24 70]\n",
            " [38 71]\n",
            " [71 89]\n",
            " [89 38]\n",
            " [48 40]\n",
            " [40 99]\n",
            " [99 48]\n",
            " [56 92]\n",
            " [92 86]\n",
            " [86 56]\n",
            " [89 31]\n",
            " [31 67]\n",
            " [67 89]\n",
            " [92 95]\n",
            " [95 96]\n",
            " [96 92]\n",
            " [42 12]\n",
            " [12 20]\n",
            " [20 42]\n",
            " [76 59]\n",
            " [59 75]\n",
            " [75 76]\n",
            " [21 49]\n",
            " [49 42]\n",
            " [42 21]] \n",
            "F.reshape________________________________\n",
            "\n",
            "[[28 43]\n",
            " [28 65]\n",
            " [43 65]\n",
            " [19 70]\n",
            " [19 24]\n",
            " [24 70]\n",
            " [38 71]\n",
            " [71 89]\n",
            " [38 89]\n",
            " [40 48]\n",
            " [40 99]\n",
            " [48 99]\n",
            " [56 92]\n",
            " [86 92]\n",
            " [56 86]\n",
            " [31 89]\n",
            " [31 67]\n",
            " [67 89]\n",
            " [92 95]\n",
            " [95 96]\n",
            " [92 96]\n",
            " [12 42]\n",
            " [12 20]\n",
            " [20 42]\n",
            " [59 76]\n",
            " [59 75]\n",
            " [75 76]\n",
            " [21 49]\n",
            " [42 49]\n",
            " [21 42]] \n",
            "F = np.sort(F,axis=1) ________________________________\n",
            "\n",
            "result \n",
            " [(12, 20) (12, 42) (19, 24) (19, 70) (20, 42) (21, 42) (21, 49) (24, 70)\n",
            " (28, 43) (28, 65) (31, 67) (31, 89) (38, 71) (38, 89) (40, 48) (40, 99)\n",
            " (42, 49) (43, 65) (48, 99) (56, 86) (56, 92) (59, 75) (59, 76) (67, 89)\n",
            " (71, 89) (75, 76) (86, 92) (92, 95) (92, 96) (95, 96)]\n"
          ],
          "name": "stdout"
        }
      ]
    },
    {
      "cell_type": "markdown",
      "metadata": {
        "id": "lh6HScJGd-ud",
        "colab_type": "text"
      },
      "source": [
        "сдвиг элементов по заданной оси \n",
        "numpy.roll(a, shift, axis=None)[source]\n",
        "Roll array elements along a given axis.\n",
        "\n",
        "Elements that roll beyond the last position are re-introduced at the first.\n",
        "\n",
        "Parameters\n",
        "aarray_like\n",
        "Input array.\n",
        "\n",
        "shiftint or tuple of ints\n",
        "The number of places by which elements are shifted. If a tuple, then axis must be a tuple of the same size, and each of the given axes is shifted by the corresponding number. If an int while axis is a tuple of ints, then the same value is used for all given axes.\n",
        "\n",
        "axisint or tuple of ints, optional\n",
        "Axis or axes along which elements are shifted. By default, the array is flattened before shifting, after which the original shape is restored.\n",
        "\n",
        "Returns\n",
        "resndarray\n",
        "Output array, with the same shape as a."
      ]
    },
    {
      "cell_type": "markdown",
      "metadata": {
        "id": "mNpZ8InonhKD",
        "colab_type": "text"
      },
      "source": [
        "#### 74. Given an array C that is a bincount, how to produce an array A such that np.bincount(A) == C? (★★★) Учитывая массив C, который является bincount, как создать массив A, который np.bincount(A) == C?"
      ]
    },
    {
      "cell_type": "code",
      "metadata": {
        "id": "d5yx6DihnhKD",
        "colab_type": "code",
        "colab": {
          "base_uri": "https://localhost:8080/",
          "height": 85
        },
        "outputId": "31be06a5-8037-4649-ab31-4418a4feba77"
      },
      "source": [
        "C = np.bincount([1,1,2,3,4,4,6])\n",
        "print(C , '\\n'  '________________________________'  '\\n')\n",
        "A = np.repeat(np.arange(len(C)), C)\n",
        "print(A)"
      ],
      "execution_count": null,
      "outputs": [
        {
          "output_type": "stream",
          "text": [
            "[0 2 1 1 2 0 1] \n",
            "________________________________\n",
            "\n",
            "[1 1 2 3 4 4 6]\n"
          ],
          "name": "stdout"
        }
      ]
    },
    {
      "cell_type": "markdown",
      "metadata": {
        "id": "V6_1xo8cnhKF",
        "colab_type": "text"
      },
      "source": [
        "#### 75. How to compute averages using a sliding window over an array? (★★★) \n",
        "Как вычислить средние значения с помощью скользящего окна по массиву?\n"
      ]
    },
    {
      "cell_type": "code",
      "metadata": {
        "id": "y0RvWD5CnhKF",
        "colab_type": "code",
        "colab": {
          "base_uri": "https://localhost:8080/",
          "height": 34
        },
        "outputId": "fa2b5dfd-62dd-4720-d5ab-af8d0d59aa05"
      },
      "source": [
        "def moving_average(a, n=3) :\n",
        "    ret = np.cumsum(a, dtype=float)\n",
        "    ret[n:] = ret[n:] - ret[:-n]\n",
        "    return ret[n - 1:] / n\n",
        "Z = np.arange(20)\n",
        "print(moving_average(Z, n=3))"
      ],
      "execution_count": null,
      "outputs": [
        {
          "output_type": "stream",
          "text": [
            "[ 1.  2.  3.  4.  5.  6.  7.  8.  9. 10. 11. 12. 13. 14. 15. 16. 17. 18.]\n"
          ],
          "name": "stdout"
        }
      ]
    },
    {
      "cell_type": "markdown",
      "metadata": {
        "id": "3w7owvWgnhKG",
        "colab_type": "text"
      },
      "source": [
        "#### 76. Consider a one-dimensional array Z, build a two-dimensional array whose first row is (Z[0],Z[1],Z[2]) and each subsequent row is  shifted by 1 (last row should be (Z[-3],Z[-2],Z[-1]) (★★★) \n",
        "Рассмотрим одномерный массив Z, построим двумерный массив, первая строка которого (Z[0],Z[1],Z[2]) и каждая последующая строка будет сдвинута на 1 (последняя строка должна быть (Z[-3],Z[-2],Z[-1])"
      ]
    },
    {
      "cell_type": "code",
      "metadata": {
        "id": "Zd_R6hutnhKG",
        "colab_type": "code",
        "colab": {
          "base_uri": "https://localhost:8080/",
          "height": 306
        },
        "outputId": "75e88df4-631e-4092-8677-6c565974ebb6"
      },
      "source": [
        "from numpy.lib import stride_tricks\n",
        "\n",
        "def rolling(a, window):\n",
        "    shape = (a.size - window + 1, window)\n",
        "    print(shape, '\\n' 'shape' '________________________________'  '\\n')\n",
        "    strides = (a.itemsize, a.itemsize)\n",
        "    print(strides, '\\n' 'strides' '________________________________'  '\\n')\n",
        "    return stride_tricks.as_strided(a, shape=shape, strides=strides)\n",
        "Z = rolling(np.arange(10), 3)\n",
        "Z1 = np.arange(10), 3\n",
        "print(Z1 , '\\n'  '________________________________'  '\\n')\n",
        "print(Z)"
      ],
      "execution_count": null,
      "outputs": [
        {
          "output_type": "stream",
          "text": [
            "(8, 3) \n",
            "shape________________________________\n",
            "\n",
            "(8, 8) \n",
            "strides________________________________\n",
            "\n",
            "(array([0, 1, 2, 3, 4, 5, 6, 7, 8, 9]), 3) \n",
            "________________________________\n",
            "\n",
            "[[0 1 2]\n",
            " [1 2 3]\n",
            " [2 3 4]\n",
            " [3 4 5]\n",
            " [4 5 6]\n",
            " [5 6 7]\n",
            " [6 7 8]\n",
            " [7 8 9]]\n"
          ],
          "name": "stdout"
        }
      ]
    },
    {
      "cell_type": "markdown",
      "metadata": {
        "id": "gtk40aV0nhKH",
        "colab_type": "text"
      },
      "source": [
        "#### 77. How to negate a boolean, or to change the sign of a float inplace? (★★★) \n",
        "Как отменить логическое значение или изменить знак float на месте?"
      ]
    },
    {
      "cell_type": "code",
      "metadata": {
        "id": "nmwKtMSxnhKH",
        "colab_type": "code",
        "colab": {
          "base_uri": "https://localhost:8080/",
          "height": 901
        },
        "outputId": "3c2fe43a-a9b3-44b1-9643-63877b1aca20"
      },
      "source": [
        "Z = np.random.uniform(-10,10,100)\n",
        "print(Z , '\\n'  '________________________________'  '\\n')\n",
        "Z1 = np.logical_not(Z, out=Z)\n",
        "print(Z1)\n",
        "\n",
        "Z = np.random.uniform(-10,10,100)\n",
        "#print(Z , '\\n'  '________________________________'  '\\n')\n",
        "np.negative(Z, out=Z)"
      ],
      "execution_count": null,
      "outputs": [
        {
          "output_type": "stream",
          "text": [
            "[-2.17778502e-01 -7.60926686e+00 -9.68865187e+00  2.04581807e+00\n",
            "  2.29492834e+00 -5.56615543e+00  8.94365492e+00  6.23097013e-03\n",
            "  2.69876074e+00 -6.86324972e+00  5.96859579e+00 -1.82612965e+00\n",
            " -3.10793529e+00 -2.09846791e+00  7.06326979e+00  6.28856939e+00\n",
            " -1.90300520e+00  5.99716337e+00  9.92405013e+00  4.63037207e+00\n",
            "  1.75646100e+00  6.85941604e+00  9.55789026e+00  7.18085036e+00\n",
            " -8.09388484e+00  1.58819875e+00  2.09420040e+00  2.87805628e+00\n",
            " -8.24275985e+00  2.45586119e+00  5.34637192e+00  3.49889027e+00\n",
            "  9.13017664e+00  2.71970942e-01 -2.10042311e+00 -4.53230935e+00\n",
            "  5.52782953e-01  9.11546164e+00 -9.30553115e+00  5.29937522e+00\n",
            " -6.78194480e+00 -5.35960966e+00 -7.28912240e+00 -5.66214470e+00\n",
            "  9.21240187e-01 -7.80830316e+00  4.67664924e+00  9.95969312e+00\n",
            " -2.63680739e+00 -4.23358234e+00 -7.83422339e+00 -8.32899181e+00\n",
            "  7.41419377e+00 -3.79605489e+00 -9.90891774e+00 -2.29519572e+00\n",
            " -6.16304833e+00  8.72300354e+00 -5.60124719e+00 -5.94459792e+00\n",
            " -6.69769240e+00 -6.23258093e+00  3.78426740e+00  6.13351676e+00\n",
            "  3.66906092e+00  3.96013107e+00 -7.59354778e+00  8.75146253e+00\n",
            " -6.92540069e+00  9.70394206e+00  8.22901483e+00 -6.39813026e+00\n",
            " -3.09591481e+00 -9.81430606e+00  1.92224839e+00 -3.62663979e+00\n",
            "  1.75982031e+00 -4.13849810e+00 -6.04992628e-01 -8.09028520e+00\n",
            "  1.46490866e+00 -6.95764371e+00  3.22711807e+00 -1.19333707e-01\n",
            "  2.11421995e+00 -4.12479770e+00 -4.28735311e+00 -7.10809983e+00\n",
            " -6.45395638e+00 -6.64583639e+00 -7.99250595e+00  6.17206366e+00\n",
            "  1.75340403e+00  4.56037241e+00 -4.82113692e+00  5.92478667e+00\n",
            " -2.39620599e+00 -1.80064985e+00  4.91457534e+00 -2.69697674e+00] \n",
            "________________________________\n",
            "\n",
            "[0. 0. 0. 0. 0. 0. 0. 0. 0. 0. 0. 0. 0. 0. 0. 0. 0. 0. 0. 0. 0. 0. 0. 0.\n",
            " 0. 0. 0. 0. 0. 0. 0. 0. 0. 0. 0. 0. 0. 0. 0. 0. 0. 0. 0. 0. 0. 0. 0. 0.\n",
            " 0. 0. 0. 0. 0. 0. 0. 0. 0. 0. 0. 0. 0. 0. 0. 0. 0. 0. 0. 0. 0. 0. 0. 0.\n",
            " 0. 0. 0. 0. 0. 0. 0. 0. 0. 0. 0. 0. 0. 0. 0. 0. 0. 0. 0. 0. 0. 0. 0. 0.\n",
            " 0. 0. 0. 0.]\n"
          ],
          "name": "stdout"
        },
        {
          "output_type": "execute_result",
          "data": {
            "text/plain": [
              "array([ 9.14222786, -0.18088375,  2.00539308, -4.97339119, -0.20633657,\n",
              "       -6.39621117,  8.33538099, -0.75715736,  2.56935184, -2.80598819,\n",
              "       -9.36963569,  3.02518241, -6.17102828,  8.13243277,  6.09853308,\n",
              "        7.21050408, -6.08518375,  2.52864638,  9.55023478, -2.95647853,\n",
              "       -2.05361629, -8.19375681, -8.77477464,  4.28036982, -3.99102047,\n",
              "       -6.58439956, -4.64424902, -9.09159486, -4.56198461, -6.42379124,\n",
              "        4.4531651 , -0.18835889,  3.73034872,  3.13966379,  6.38987821,\n",
              "       -8.31456385, -6.03787387, -5.67794426,  1.30190892,  8.83770765,\n",
              "        1.82179136,  2.58607501,  4.15153061,  5.73685175,  0.51218836,\n",
              "        8.50235404,  1.92372997, -7.89966297,  6.25869478,  4.44549062,\n",
              "        6.7113121 , -2.99948078,  4.16690771,  8.64564033, -4.42420902,\n",
              "       -2.7637634 ,  1.43190259,  8.96011084,  7.57267448,  9.65645635,\n",
              "        9.93823206, -0.2141567 , -8.89638836,  7.80538257,  0.07081977,\n",
              "       -0.33768123, -1.56986401,  9.28674208, -3.79421988,  1.86049853,\n",
              "       -4.92905683,  9.56631343,  1.75105435,  4.82987478, -6.89443493,\n",
              "        1.98141028,  2.2237788 , -7.21854678,  9.91863925,  7.92563443,\n",
              "       -4.41587312, -4.04861154,  6.9906872 ,  7.59404353, -8.3298392 ,\n",
              "        7.51837253,  6.33443197,  7.37865284, -8.31476823,  5.26912756,\n",
              "        7.53020195, -7.29043961, -3.59907243,  9.05710707,  4.10697067,\n",
              "       -7.70846755, -8.81620816,  1.09500286, -7.6135693 ,  5.1970857 ])"
            ]
          },
          "metadata": {
            "tags": []
          },
          "execution_count": 23
        }
      ]
    },
    {
      "cell_type": "markdown",
      "metadata": {
        "id": "zz1K68x2nhKJ",
        "colab_type": "text"
      },
      "source": [
        "#### 78. Consider 2 sets of points P0,P1 describing lines (2d) and a point p, how to compute distance from p to each line i (P0[i],P1[i])? (★★★)\n",
        "Рассмотрим 2 набора точек P0, P1, описывающих линии (2d), и точку p, как вычислить расстояние от p до каждой линии i (P0 [i], P1 [i])?"
      ]
    },
    {
      "cell_type": "code",
      "metadata": {
        "id": "S8sH0bFGnhKJ",
        "colab_type": "code",
        "colab": {
          "base_uri": "https://localhost:8080/",
          "height": 1000
        },
        "outputId": "921b8a66-3947-4ec4-cd31-2dbb01f23b80"
      },
      "source": [
        "def distance(P0, P1, p):\n",
        "    T = P1 - P0\n",
        "    print(T , '\\n'  'T ________________________________'  '\\n')\n",
        "    L = (T**2).sum(axis=1)\n",
        "    print(L , '\\n'  'L ________________________________'  '\\n')\n",
        "    U = -((P0[:,0]-p[...,0])*T[:,0] + (P0[:,1]-p[...,1])*T[:,1]) / L\n",
        "    print(U , '\\n'  'U ________________________________'  '\\n')\n",
        "    U = U.reshape(len(U),1)\n",
        "    print(U , '\\n'  'U_resh ________________________________'  '\\n')\n",
        "    D = P0 + U*T - p\n",
        "    print(D , '\\n'  'D ________________________________'  '\\n')\n",
        "    return np.sqrt((D**2).sum(axis=1))\n",
        "\n",
        "P0 = np.random.uniform(-10,10,(10,2))\n",
        "print(P0 , '\\n'  'P0 ________________________________'  '\\n')\n",
        "P1 = np.random.uniform(-10,10,(10,2))\n",
        "print(P1 , '\\n'  'P1 ________________________________'  '\\n')\n",
        "p  = np.random.uniform(-10,10,( 1,2))\n",
        "print(distance(P0, P1, p))"
      ],
      "execution_count": null,
      "outputs": [
        {
          "output_type": "stream",
          "text": [
            "[[ 8.56256836 -4.91601161]\n",
            " [ 2.38072263 -7.50240285]\n",
            " [-3.97266609  7.79693011]\n",
            " [ 2.99726781  8.25124486]\n",
            " [ 0.30293157  4.61012253]\n",
            " [ 8.14409039 -8.07434473]\n",
            " [-8.6224277  -7.38517223]\n",
            " [ 6.17185433 -2.01184683]\n",
            " [ 1.27306244 -7.12857265]\n",
            " [ 6.38685878  4.4443035 ]] \n",
            "P0 ________________________________\n",
            "\n",
            "[[ 2.83626569  1.55780376]\n",
            " [-7.11668854  0.19543158]\n",
            " [ 3.58287449 -3.84279802]\n",
            " [-9.24013048  0.95839942]\n",
            " [ 5.33984213 -0.84322442]\n",
            " [-9.64053593  1.43411116]\n",
            " [-2.0862791  -6.04404409]\n",
            " [ 2.02977913 -0.92393833]\n",
            " [ 6.48882711 -9.46015164]\n",
            " [-0.48871255  5.43685293]] \n",
            "P1 ________________________________\n",
            "\n",
            "[[ -5.72630268   6.47381536]\n",
            " [ -9.49741117   7.69783443]\n",
            " [  7.55554058 -11.63972814]\n",
            " [-12.2373983   -7.29284544]\n",
            " [  5.03691056  -5.45334695]\n",
            " [-17.78462633   9.50845589]\n",
            " [  6.5361486    1.34112814]\n",
            " [ -4.1420752    1.0879085 ]\n",
            " [  5.21576467  -2.33157899]\n",
            " [ -6.87557133   0.99254942]] \n",
            "T ________________________________\n",
            "\n",
            "[ 74.70082768 149.45747394 192.56946458 202.9395117   55.10946087\n",
            " 406.70366695  44.5198632   18.34033183  32.64046166  48.25863553] \n",
            "L ________________________________\n",
            "\n",
            "[ 0.85420395  0.53905256  0.89467941  1.27315752  0.65961634  0.65886311\n",
            "  0.088091    2.67733518 -1.26025246  1.71082698] \n",
            "U ________________________________\n",
            "\n",
            "[[ 0.85420395]\n",
            " [ 0.53905256]\n",
            " [ 0.89467941]\n",
            " [ 1.27315752]\n",
            " [ 0.65961634]\n",
            " [ 0.65886311]\n",
            " [ 0.088091  ]\n",
            " [ 2.67733518]\n",
            " [-1.26025246]\n",
            " [ 1.71082698]] \n",
            "U_resh ________________________________\n",
            "\n",
            "[[11.28643751  9.9832253 ]\n",
            " [ 4.87641829  6.01641279]\n",
            " [10.40241996  6.75238333]\n",
            " [-4.96756832  8.33558213]\n",
            " [11.24065958 10.38228403]\n",
            " [ 4.04175572  7.55970433]\n",
            " [-0.43135235  2.10224736]\n",
            " [ 2.69743018 10.27012714]\n",
            " [ 2.3151817   5.17908377]\n",
            " [ 2.23924537 15.5116621 ]] \n",
            "D ________________________________\n",
            "\n",
            "[15.06812725  7.74446113 12.40181526  9.70353876 15.30177276  8.5723345\n",
            "  2.14604492 10.61845757  5.67300405 15.67245612]\n"
          ],
          "name": "stdout"
        }
      ]
    },
    {
      "cell_type": "markdown",
      "metadata": {
        "id": "F3Fan4_rnhKK",
        "colab_type": "text"
      },
      "source": [
        "#### 79. Consider 2 sets of points P0,P1 describing lines (2d) and a set of points P, how to compute distance from each point j (P[j]) to each line i (P0[i],P1[i])? (★★★)\n",
        "**Рассмотрим 2 набора точек P0, P1, описывающих линии (2d), и набор точек P, как вычислить расстояние от каждой точки j (P [j]) до каждой линии i (P0 [i], P1 [i])**"
      ]
    },
    {
      "cell_type": "code",
      "metadata": {
        "id": "RVmymucnnhKK",
        "colab_type": "code",
        "colab": {
          "base_uri": "https://localhost:8080/",
          "height": 357
        },
        "outputId": "993adff0-5a26-4545-876e-1897a918eaea"
      },
      "source": [
        "def distance(P0, P1, p):\n",
        "    T = P1 - P0\n",
        "    L = (T**2).sum(axis=1)\n",
        "    U = -((P0[:,0]-p[...,0])*T[:,0] + (P0[:,1]-p[...,1])*T[:,1]) / L\n",
        "    U = U.reshape(len(U),1)\n",
        "    D = P0 + U*T - p\n",
        "    return np.sqrt((D**2).sum(axis=1))\n",
        "P0 = np.random.uniform(-10, 10, (10,2))\n",
        "P1 = np.random.uniform(-10,10,(10,2))\n",
        "p = np.random.uniform(-10, 10, (10,2))\n",
        "print(np.array([distance(P0,P1,p_i) for p_i in p]))"
      ],
      "execution_count": null,
      "outputs": [
        {
          "output_type": "stream",
          "text": [
            "[[ 2.36873197  1.39331349 15.8120616   3.49614407  0.43669246 10.24713291\n",
            "   8.73040675  0.97432345  1.12826811  7.43819202]\n",
            " [ 0.79833589  1.34573907 14.66977322  1.99170645  0.70872119  9.82815067\n",
            "   7.59562284  2.21778873  0.73398989  5.8402016 ]\n",
            " [ 2.50912597  9.14831536 11.60105941  2.42882165  3.75568254  3.24335646\n",
            "  15.34944954  4.53411777  5.93248199  8.64657072]\n",
            " [11.4458207  10.53657806  0.44259468 11.22081543 14.93763213  2.12506606\n",
            "   6.78835059 16.44162044 11.09417444  5.30462019]\n",
            " [ 1.1663932   0.67666906 16.06912493  2.65962548  0.68654909 11.7737518\n",
            "   6.15156872  0.9632077   2.68816976  5.93516715]\n",
            " [10.5473592   2.97188668  5.32085827  9.18289996 10.07555228  5.01157891\n",
            "   1.05356251 12.13447366  3.91802046  5.43405301]\n",
            " [ 0.73186271  7.4959736  10.1084557   0.43505637  5.25841524  3.79054713\n",
            "  11.70059005  6.36429527  5.32332573  5.13497822]\n",
            " [ 1.70168492  4.78916745 13.42589493  2.32742424  1.94271511  6.96581406\n",
            "  11.12095304  3.12043988  2.16669451  7.22903976]\n",
            " [10.06942753 16.6975455   1.96147337 10.85107742 17.32447528  7.316947\n",
            "  12.92863101 18.25001885 16.35094495  3.0628079 ]\n",
            " [14.8900732   4.35030289  1.32174789 13.57734972 14.07973071  2.48119007\n",
            "   0.81478895 16.28827068  6.3907629   9.64549454]]\n"
          ],
          "name": "stdout"
        }
      ]
    },
    {
      "cell_type": "markdown",
      "metadata": {
        "id": "e_ar3vhJnhKN",
        "colab_type": "text"
      },
      "source": [
        "#### 80. Consider an arbitrary array, write a function that extract a subpart with a fixed shape and centered on a given element (pad with a `fill` value when necessary) (★★★)\n",
        "Рассмотрим произвольный массив, напишите функцию, которая извлекает часть с фиксированной формой и центрируется на данном элементе (заполнение при необходимости значением заполнения)"
      ]
    },
    {
      "cell_type": "code",
      "metadata": {
        "id": "pc68OyulnhKN",
        "colab_type": "code",
        "colab": {
          "base_uri": "https://localhost:8080/",
          "height": 309
        },
        "outputId": "e5849f02-ec34-4baa-a95f-f82a2acf2f5b"
      },
      "source": [
        "Z = np.random.randint(0,10,(10,10))\n",
        "shape = (5,5)\n",
        "fill  = 0\n",
        "position = (1,1)\n",
        "\n",
        "R = np.ones(shape, dtype=Z.dtype)*fill\n",
        "P  = np.array(list(position)).astype(int)\n",
        "Rs = np.array(list(R.shape)).astype(int)\n",
        "Zs = np.array(list(Z.shape)).astype(int)\n",
        "\n",
        "R_start = np.zeros((len(shape),)).astype(int)\n",
        "R_stop  = np.array(list(shape)).astype(int)\n",
        "Z_start = (P-Rs//2)\n",
        "Z_stop  = (P+Rs//2)+Rs%2\n",
        "\n",
        "R_start = (R_start - np.minimum(Z_start,0)).tolist()\n",
        "Z_start = (np.maximum(Z_start,0)).tolist()\n",
        "R_stop = np.maximum(R_start, (R_stop - np.maximum(Z_stop-Zs,0))).tolist()\n",
        "Z_stop = (np.minimum(Z_stop,Zs)).tolist()\n",
        "\n",
        "r = [slice(start,stop) for start,stop in zip(R_start,R_stop)]\n",
        "z = [slice(start,stop) for start,stop in zip(Z_start,Z_stop)]\n",
        "R[r] = Z[z]\n",
        "print(Z)\n",
        "print(R)"
      ],
      "execution_count": null,
      "outputs": [
        {
          "output_type": "stream",
          "text": [
            "[[0 0 6 3 1 9 9 7 9 7]\n",
            " [4 7 0 2 8 1 4 5 8 9]\n",
            " [9 2 4 3 6 7 8 8 6 6]\n",
            " [3 3 2 2 1 6 9 5 7 0]\n",
            " [4 8 7 7 8 5 6 6 9 0]\n",
            " [8 2 9 4 0 2 7 4 2 5]\n",
            " [5 5 4 8 0 5 9 5 8 0]\n",
            " [2 9 9 4 3 8 6 9 0 1]\n",
            " [3 8 5 9 9 0 2 8 4 7]\n",
            " [0 3 8 2 0 5 4 2 8 2]]\n",
            "[[0 0 0 0 0]\n",
            " [0 0 0 6 3]\n",
            " [0 4 7 0 2]\n",
            " [0 9 2 4 3]\n",
            " [0 3 3 2 2]]\n"
          ],
          "name": "stdout"
        },
        {
          "output_type": "stream",
          "text": [
            "/usr/local/lib/python3.6/dist-packages/ipykernel_launcher.py:23: FutureWarning: Using a non-tuple sequence for multidimensional indexing is deprecated; use `arr[tuple(seq)]` instead of `arr[seq]`. In the future this will be interpreted as an array index, `arr[np.array(seq)]`, which will result either in an error or a different result.\n"
          ],
          "name": "stderr"
        }
      ]
    },
    {
      "cell_type": "markdown",
      "metadata": {
        "id": "6VD9vBJoENm-",
        "colab_type": "text"
      },
      "source": [
        "https://numpy.org/doc/stable/reference/generated/numpy.maximum.html?highlight=maximum#numpy.maximum\n",
        "Поэлементный максимум элементов массива.\n",
        "np.maximum\n",
        "Сравните два массива и возвращает новый массив, содержащий поэлементные максимумы. Если один из сравниваемых элементов является NaN, то этот элемент возвращается. Если оба элемента являются NaN, то возвращается первый. Последнее различие важно для сложных NaN, которые определены как по крайней мере одна из действительных или мнимых частей, являющихся NaN. Чистый эффект состоит в том, что NaN распространяются."
      ]
    },
    {
      "cell_type": "markdown",
      "metadata": {
        "id": "r1raeYyInhKP",
        "colab_type": "text"
      },
      "source": [
        "#### 81. Consider an array Z = [1,2,3,4,5,6,7,8,9,10,11,12,13,14], how to generate an array R = [[1,2,3,4], [2,3,4,5], [3,4,5,6], ..., [11,12,13,14]]? (★★★)\n",
        "Рассмотрим массив Z = [1,2,3,4,5,6,7,8,9,10,11,12,13,14], как сгенерировать массив R = [[1,2,3, 4], [2,3,4,5], [3,4,5,6], ..., [11,12,13,14]]?"
      ]
    },
    {
      "cell_type": "code",
      "metadata": {
        "id": "FTpggUNOnhKP",
        "colab_type": "code",
        "colab": {
          "base_uri": "https://localhost:8080/",
          "height": 255
        },
        "outputId": "0f6172b0-8687-4a28-a6fa-047774639591"
      },
      "source": [
        "Z = np.arange(1,15,dtype=np.uint32)\n",
        "print(Z , '\\n'  '________________________________'  '\\n')\n",
        "R = np.lib.stride_tricks.as_strided(Z,(11,4),(4,4))\n",
        "print(R)"
      ],
      "execution_count": null,
      "outputs": [
        {
          "output_type": "stream",
          "text": [
            "[ 1  2  3  4  5  6  7  8  9 10 11 12 13 14] \n",
            "________________________________\n",
            "\n",
            "[[ 1  2  3  4]\n",
            " [ 2  3  4  5]\n",
            " [ 3  4  5  6]\n",
            " [ 4  5  6  7]\n",
            " [ 5  6  7  8]\n",
            " [ 6  7  8  9]\n",
            " [ 7  8  9 10]\n",
            " [ 8  9 10 11]\n",
            " [ 9 10 11 12]\n",
            " [10 11 12 13]\n",
            " [11 12 13 14]]\n"
          ],
          "name": "stdout"
        }
      ]
    },
    {
      "cell_type": "markdown",
      "metadata": {
        "id": "DJ_mEib0JU3o",
        "colab_type": "text"
      },
      "source": [
        "https://numpy.org/doc/stable/reference/generated/numpy.lib.stride_tricks.as_strided.html?highlight=lib%20stride_tricks%20as_strided#numpy.lib.stride_tricks.as_strided"
      ]
    },
    {
      "cell_type": "markdown",
      "metadata": {
        "id": "KnwIw4vknhKQ",
        "colab_type": "text"
      },
      "source": [
        "#### 82. Compute a matrix rank (★★★)\n",
        "Вычислить матричный ранг"
      ]
    },
    {
      "cell_type": "code",
      "metadata": {
        "id": "01EKrvErnhKQ",
        "colab_type": "code",
        "colab": {
          "base_uri": "https://localhost:8080/",
          "height": 782
        },
        "outputId": "9ed181f4-5984-4220-9fdf-52e159e8aa80"
      },
      "source": [
        "Z = np.random.uniform(0,1,(10,10))\n",
        "U, S, V = np.linalg.svd(Z) # Singular Value Decomposition\n",
        "print(U,  '\\n'  '________________________________'  '\\n', S,  '\\n'  '________________________________'  '\\n', V)\n",
        "rank = np.sum(S > 1e-10)\n",
        "print(rank)"
      ],
      "execution_count": null,
      "outputs": [
        {
          "output_type": "stream",
          "text": [
            "[[-0.22163341 -0.47377386  0.02838485  0.03690002 -0.64622789  0.02522884\n",
            "  -0.0798107   0.12948308  0.13032633 -0.51563756]\n",
            " [-0.23520997 -0.10265553 -0.1508296  -0.06316806 -0.09617254  0.69145875\n",
            "   0.0163293   0.46831095 -0.1962015   0.40243901]\n",
            " [-0.30187618  0.16502048  0.86390381 -0.22891229  0.12546158  0.20601066\n",
            "   0.05881159 -0.01152948  0.04084833 -0.13952446]\n",
            " [-0.41928829  0.286109   -0.40589856 -0.45756484  0.09057373  0.06603068\n",
            "   0.07683834 -0.06831681  0.5723182  -0.13242606]\n",
            " [-0.3452761  -0.40074314 -0.05725167 -0.45549169  0.05299888 -0.186004\n",
            "  -0.2741883  -0.42112158 -0.40214458  0.24039484]\n",
            " [-0.3967153   0.10208443  0.04522568  0.46231701 -0.33667877 -0.02553793\n",
            "   0.38703683 -0.43657948  0.10225191  0.38929934]\n",
            " [-0.3639323  -0.43588381 -0.02779537  0.23279813  0.53727314 -0.28087793\n",
            "   0.36472176  0.3385751   0.03877731 -0.07666462]\n",
            " [-0.25564371  0.48708223 -0.07704579 -0.13358535 -0.26681441 -0.42063112\n",
            "   0.1655401   0.36938268 -0.50215094 -0.0974319 ]\n",
            " [-0.22382521  0.18145424 -0.22245051  0.32411051  0.26416447  0.38536804\n",
            "  -0.10055959 -0.315692   -0.38719029 -0.5333511 ]\n",
            " [-0.32268599  0.15723971  0.06201067  0.36685751  0.05830482 -0.18672627\n",
            "  -0.76712856  0.2010864   0.19887693  0.16118165]] \n",
            "________________________________\n",
            " [4.96708967 1.39425173 1.22868176 1.05262957 0.94613361 0.84523003\n",
            " 0.59558529 0.44688685 0.33953763 0.02320307] \n",
            "________________________________\n",
            " [[-0.3109036  -0.311801   -0.32524689 -0.27877427 -0.37960558 -0.35232846\n",
            "  -0.3448102  -0.33362708 -0.21759242 -0.27719155]\n",
            " [ 0.12916146  0.6255793  -0.01681296  0.26228716 -0.53765031 -0.24637174\n",
            "  -0.27322173 -0.0553332   0.08424008  0.29717919]\n",
            " [-0.18718533 -0.34733748  0.21270422  0.12880529 -0.34109298  0.45211541\n",
            "  -0.48047691  0.46549339  0.07552933  0.09211313]\n",
            " [ 0.14879416  0.34105193 -0.05052821 -0.66662539  0.17529186  0.03808965\n",
            "  -0.27261284  0.37959859 -0.39618448  0.08395423]\n",
            " [-0.0356629  -0.21652159 -0.06808627 -0.10792417 -0.09919465 -0.62335223\n",
            "   0.24971641  0.60091791  0.31570387  0.11843164]\n",
            " [-0.50084727  0.32083141 -0.20252267 -0.23456903  0.21972839  0.1534024\n",
            "  -0.16093938 -0.05015871  0.66558056 -0.08338729]\n",
            " [-0.29984546 -0.10701687  0.42489426 -0.39305038 -0.18329558  0.0311124\n",
            "   0.2615955  -0.29880195 -0.01287664  0.60923763]\n",
            " [ 0.4028303  -0.04346953  0.61783995 -0.25752369 -0.0379468  -0.1727476\n",
            "  -0.23592166 -0.16720347  0.35613284 -0.38218476]\n",
            " [ 0.56278622 -0.2996014  -0.4715428  -0.19329504 -0.03416416  0.17963131\n",
            "  -0.12024829 -0.18063476  0.33099258  0.3790987 ]\n",
            " [ 0.09192667  0.14681052 -0.12597812 -0.2601343  -0.57046957  0.36623631\n",
            "   0.52389821  0.10660803  0.06059221 -0.37065514]]\n",
            "10\n"
          ],
          "name": "stdout"
        }
      ]
    },
    {
      "cell_type": "markdown",
      "metadata": {
        "id": "vEGehrDYLhbU",
        "colab_type": "text"
      },
      "source": [
        "http://www.mathprofi.ru/rang_matricy.html"
      ]
    },
    {
      "cell_type": "markdown",
      "metadata": {
        "id": "D_0mKb34nhKR",
        "colab_type": "text"
      },
      "source": [
        "#### 83. How to find the most frequent value in an array?\n",
        "Как найти наиболее частое значение в массиве?"
      ]
    },
    {
      "cell_type": "code",
      "metadata": {
        "id": "yWJLILownhKR",
        "colab_type": "code",
        "colab": {
          "base_uri": "https://localhost:8080/",
          "height": 68
        },
        "outputId": "53b4e97b-8f3f-4ba3-e1a7-0ab7144dee84"
      },
      "source": [
        "Z = np.random.randint(0,10,50)\n",
        "print(Z)\n",
        "print(np.bincount(Z).argmax())"
      ],
      "execution_count": null,
      "outputs": [
        {
          "output_type": "stream",
          "text": [
            "[2 0 7 2 7 4 5 4 9 8 5 5 0 3 7 2 7 8 0 8 5 1 7 9 9 6 1 4 6 5 9 4 9 7 7 0 3\n",
            " 4 9 7 9 5 2 0 0 3 0 1 7 2]\n",
            "7\n"
          ],
          "name": "stdout"
        }
      ]
    },
    {
      "cell_type": "markdown",
      "metadata": {
        "id": "p2EHBOSFN7-8",
        "colab_type": "text"
      },
      "source": [
        "np.bincount --- https://numpy.org/doc/stable/reference/generated/numpy.bincount.html?highlight=bincount#numpy.bincount"
      ]
    },
    {
      "cell_type": "markdown",
      "metadata": {
        "id": "GSnDjAS2nhKS",
        "colab_type": "text"
      },
      "source": [
        "#### 84. Extract all the contiguous 3x3 blocks from a random 10x10 matrix (★★★)\n",
        "Извлеките все смежные блоки 3x3 из случайной матрицы 10x10"
      ]
    },
    {
      "cell_type": "code",
      "metadata": {
        "id": "E6Rq8FYXnhKS",
        "colab_type": "code",
        "colab": {
          "base_uri": "https://localhost:8080/",
          "height": 1000
        },
        "outputId": "5f258a8d-9644-41dd-a73c-88cf520bced7"
      },
      "source": [
        "Z = np.random.randint(0,5,(10,10))\n",
        "print(Z , '\\n'  '________________________________'  '\\n')\n",
        "n = 3\n",
        "i = 1 + (Z.shape[0]-3)\n",
        "j = 1 + (Z.shape[1]-3)\n",
        "C = np.lib.stride_tricks.as_strided(Z, shape=(i, j, n, n), strides=Z.strides + Z.strides)\n",
        "print(C)"
      ],
      "execution_count": null,
      "outputs": [
        {
          "output_type": "stream",
          "text": [
            "[[1 1 4 0 0 3 0 1 4 1]\n",
            " [3 1 0 3 2 3 1 0 3 1]\n",
            " [1 2 4 3 0 0 2 4 1 0]\n",
            " [3 0 2 0 0 2 3 1 3 0]\n",
            " [0 2 0 0 2 1 3 4 3 4]\n",
            " [3 1 4 4 3 3 4 4 0 2]\n",
            " [4 3 3 3 4 4 2 4 0 2]\n",
            " [0 4 1 2 2 2 2 0 0 0]\n",
            " [1 4 3 2 2 0 4 1 3 4]\n",
            " [2 1 0 3 1 2 0 3 4 0]] \n",
            "________________________________\n",
            "\n",
            "[[[[1 1 4]\n",
            "   [3 1 0]\n",
            "   [1 2 4]]\n",
            "\n",
            "  [[1 4 0]\n",
            "   [1 0 3]\n",
            "   [2 4 3]]\n",
            "\n",
            "  [[4 0 0]\n",
            "   [0 3 2]\n",
            "   [4 3 0]]\n",
            "\n",
            "  [[0 0 3]\n",
            "   [3 2 3]\n",
            "   [3 0 0]]\n",
            "\n",
            "  [[0 3 0]\n",
            "   [2 3 1]\n",
            "   [0 0 2]]\n",
            "\n",
            "  [[3 0 1]\n",
            "   [3 1 0]\n",
            "   [0 2 4]]\n",
            "\n",
            "  [[0 1 4]\n",
            "   [1 0 3]\n",
            "   [2 4 1]]\n",
            "\n",
            "  [[1 4 1]\n",
            "   [0 3 1]\n",
            "   [4 1 0]]]\n",
            "\n",
            "\n",
            " [[[3 1 0]\n",
            "   [1 2 4]\n",
            "   [3 0 2]]\n",
            "\n",
            "  [[1 0 3]\n",
            "   [2 4 3]\n",
            "   [0 2 0]]\n",
            "\n",
            "  [[0 3 2]\n",
            "   [4 3 0]\n",
            "   [2 0 0]]\n",
            "\n",
            "  [[3 2 3]\n",
            "   [3 0 0]\n",
            "   [0 0 2]]\n",
            "\n",
            "  [[2 3 1]\n",
            "   [0 0 2]\n",
            "   [0 2 3]]\n",
            "\n",
            "  [[3 1 0]\n",
            "   [0 2 4]\n",
            "   [2 3 1]]\n",
            "\n",
            "  [[1 0 3]\n",
            "   [2 4 1]\n",
            "   [3 1 3]]\n",
            "\n",
            "  [[0 3 1]\n",
            "   [4 1 0]\n",
            "   [1 3 0]]]\n",
            "\n",
            "\n",
            " [[[1 2 4]\n",
            "   [3 0 2]\n",
            "   [0 2 0]]\n",
            "\n",
            "  [[2 4 3]\n",
            "   [0 2 0]\n",
            "   [2 0 0]]\n",
            "\n",
            "  [[4 3 0]\n",
            "   [2 0 0]\n",
            "   [0 0 2]]\n",
            "\n",
            "  [[3 0 0]\n",
            "   [0 0 2]\n",
            "   [0 2 1]]\n",
            "\n",
            "  [[0 0 2]\n",
            "   [0 2 3]\n",
            "   [2 1 3]]\n",
            "\n",
            "  [[0 2 4]\n",
            "   [2 3 1]\n",
            "   [1 3 4]]\n",
            "\n",
            "  [[2 4 1]\n",
            "   [3 1 3]\n",
            "   [3 4 3]]\n",
            "\n",
            "  [[4 1 0]\n",
            "   [1 3 0]\n",
            "   [4 3 4]]]\n",
            "\n",
            "\n",
            " [[[3 0 2]\n",
            "   [0 2 0]\n",
            "   [3 1 4]]\n",
            "\n",
            "  [[0 2 0]\n",
            "   [2 0 0]\n",
            "   [1 4 4]]\n",
            "\n",
            "  [[2 0 0]\n",
            "   [0 0 2]\n",
            "   [4 4 3]]\n",
            "\n",
            "  [[0 0 2]\n",
            "   [0 2 1]\n",
            "   [4 3 3]]\n",
            "\n",
            "  [[0 2 3]\n",
            "   [2 1 3]\n",
            "   [3 3 4]]\n",
            "\n",
            "  [[2 3 1]\n",
            "   [1 3 4]\n",
            "   [3 4 4]]\n",
            "\n",
            "  [[3 1 3]\n",
            "   [3 4 3]\n",
            "   [4 4 0]]\n",
            "\n",
            "  [[1 3 0]\n",
            "   [4 3 4]\n",
            "   [4 0 2]]]\n",
            "\n",
            "\n",
            " [[[0 2 0]\n",
            "   [3 1 4]\n",
            "   [4 3 3]]\n",
            "\n",
            "  [[2 0 0]\n",
            "   [1 4 4]\n",
            "   [3 3 3]]\n",
            "\n",
            "  [[0 0 2]\n",
            "   [4 4 3]\n",
            "   [3 3 4]]\n",
            "\n",
            "  [[0 2 1]\n",
            "   [4 3 3]\n",
            "   [3 4 4]]\n",
            "\n",
            "  [[2 1 3]\n",
            "   [3 3 4]\n",
            "   [4 4 2]]\n",
            "\n",
            "  [[1 3 4]\n",
            "   [3 4 4]\n",
            "   [4 2 4]]\n",
            "\n",
            "  [[3 4 3]\n",
            "   [4 4 0]\n",
            "   [2 4 0]]\n",
            "\n",
            "  [[4 3 4]\n",
            "   [4 0 2]\n",
            "   [4 0 2]]]\n",
            "\n",
            "\n",
            " [[[3 1 4]\n",
            "   [4 3 3]\n",
            "   [0 4 1]]\n",
            "\n",
            "  [[1 4 4]\n",
            "   [3 3 3]\n",
            "   [4 1 2]]\n",
            "\n",
            "  [[4 4 3]\n",
            "   [3 3 4]\n",
            "   [1 2 2]]\n",
            "\n",
            "  [[4 3 3]\n",
            "   [3 4 4]\n",
            "   [2 2 2]]\n",
            "\n",
            "  [[3 3 4]\n",
            "   [4 4 2]\n",
            "   [2 2 2]]\n",
            "\n",
            "  [[3 4 4]\n",
            "   [4 2 4]\n",
            "   [2 2 0]]\n",
            "\n",
            "  [[4 4 0]\n",
            "   [2 4 0]\n",
            "   [2 0 0]]\n",
            "\n",
            "  [[4 0 2]\n",
            "   [4 0 2]\n",
            "   [0 0 0]]]\n",
            "\n",
            "\n",
            " [[[4 3 3]\n",
            "   [0 4 1]\n",
            "   [1 4 3]]\n",
            "\n",
            "  [[3 3 3]\n",
            "   [4 1 2]\n",
            "   [4 3 2]]\n",
            "\n",
            "  [[3 3 4]\n",
            "   [1 2 2]\n",
            "   [3 2 2]]\n",
            "\n",
            "  [[3 4 4]\n",
            "   [2 2 2]\n",
            "   [2 2 0]]\n",
            "\n",
            "  [[4 4 2]\n",
            "   [2 2 2]\n",
            "   [2 0 4]]\n",
            "\n",
            "  [[4 2 4]\n",
            "   [2 2 0]\n",
            "   [0 4 1]]\n",
            "\n",
            "  [[2 4 0]\n",
            "   [2 0 0]\n",
            "   [4 1 3]]\n",
            "\n",
            "  [[4 0 2]\n",
            "   [0 0 0]\n",
            "   [1 3 4]]]\n",
            "\n",
            "\n",
            " [[[0 4 1]\n",
            "   [1 4 3]\n",
            "   [2 1 0]]\n",
            "\n",
            "  [[4 1 2]\n",
            "   [4 3 2]\n",
            "   [1 0 3]]\n",
            "\n",
            "  [[1 2 2]\n",
            "   [3 2 2]\n",
            "   [0 3 1]]\n",
            "\n",
            "  [[2 2 2]\n",
            "   [2 2 0]\n",
            "   [3 1 2]]\n",
            "\n",
            "  [[2 2 2]\n",
            "   [2 0 4]\n",
            "   [1 2 0]]\n",
            "\n",
            "  [[2 2 0]\n",
            "   [0 4 1]\n",
            "   [2 0 3]]\n",
            "\n",
            "  [[2 0 0]\n",
            "   [4 1 3]\n",
            "   [0 3 4]]\n",
            "\n",
            "  [[0 0 0]\n",
            "   [1 3 4]\n",
            "   [3 4 0]]]]\n"
          ],
          "name": "stdout"
        }
      ]
    },
    {
      "cell_type": "markdown",
      "metadata": {
        "id": "Yu-hHFgDnhKT",
        "colab_type": "text"
      },
      "source": [
        "#### 85. Create a 2D array subclass such that Z[i,j] == Z[j,i] (★★★)\n",
        "Создайте подкласс 2D-массива так, чтобы Z [i, j] == Z [j, i]"
      ]
    },
    {
      "cell_type": "code",
      "metadata": {
        "id": "NAnhh1tenhKT",
        "colab_type": "code",
        "colab": {
          "base_uri": "https://localhost:8080/",
          "height": 102
        },
        "outputId": "c01ed9b7-b90b-4298-e09a-87060e401ffd"
      },
      "source": [
        "class Symetric(np.ndarray):\n",
        "    def __setitem__(self, index, value):\n",
        "        i,j = index\n",
        "        super(Symetric, self).__setitem__((i,j), value)\n",
        "        super(Symetric, self).__setitem__((j,i), value)\n",
        "\n",
        "def symetric(Z):\n",
        "    return np.asarray(Z + Z.T - np.diag(Z.diagonal())).view(Symetric)\n",
        "\n",
        "S = symetric(np.random.randint(0,10,(5,5)))\n",
        "S[2,3] = 42\n",
        "print(S)"
      ],
      "execution_count": null,
      "outputs": [
        {
          "output_type": "stream",
          "text": [
            "[[ 2  7 14 12  8]\n",
            " [ 7  1  5 10  8]\n",
            " [14  5  5 42 15]\n",
            " [12 10 42  4  4]\n",
            " [ 8  8 15  4  4]]\n"
          ],
          "name": "stdout"
        }
      ]
    },
    {
      "cell_type": "markdown",
      "metadata": {
        "id": "AZFGflKunhKU",
        "colab_type": "text"
      },
      "source": [
        "#### 86. Consider a set of p matrices wich shape (n,n) and a set of p vectors with shape (n,1). How to compute the sum of of the p matrix products at once? (result has shape (n,1)) (★★★)\n",
        "Рассмотрим набор p матриц, имеющих форму (n, n), и набор p векторов с формой (n, 1). Как вычислить сумму продуктов матрицы p за один раз? (результат имеет форму (n, 1))"
      ]
    },
    {
      "cell_type": "code",
      "metadata": {
        "id": "V-WF6Z15nhKU",
        "colab_type": "code",
        "colab": {
          "base_uri": "https://localhost:8080/",
          "height": 357
        },
        "outputId": "55c1d356-a3ca-4a7f-a672-f9ad1c45ea90"
      },
      "source": [
        "p, n = 10, 20\n",
        "M = np.ones((p,n,n))\n",
        "V = np.ones((p,n,1))\n",
        "S = np.tensordot(M, V, axes=[[0, 2], [0, 1]])\n",
        "print(S)\n"
      ],
      "execution_count": null,
      "outputs": [
        {
          "output_type": "stream",
          "text": [
            "[[200.]\n",
            " [200.]\n",
            " [200.]\n",
            " [200.]\n",
            " [200.]\n",
            " [200.]\n",
            " [200.]\n",
            " [200.]\n",
            " [200.]\n",
            " [200.]\n",
            " [200.]\n",
            " [200.]\n",
            " [200.]\n",
            " [200.]\n",
            " [200.]\n",
            " [200.]\n",
            " [200.]\n",
            " [200.]\n",
            " [200.]\n",
            " [200.]]\n"
          ],
          "name": "stdout"
        }
      ]
    },
    {
      "cell_type": "markdown",
      "metadata": {
        "id": "Q7dsYCf4YRuA",
        "colab_type": "text"
      },
      "source": [
        "np.tensordot -- https://numpy.org/doc/stable/reference/generated/numpy.tensordot.html?highlight=tensordot#numpy.tensordot"
      ]
    },
    {
      "cell_type": "markdown",
      "metadata": {
        "id": "lOPM9UaunhKV",
        "colab_type": "text"
      },
      "source": [
        "#### 87. Consider a 16x16 array, how to get the block-sum (block size is 4x4)? (★★★) \n",
        "Рассмотрим массив 16x16, как получить сумму блоков (размер блока 4x4)"
      ]
    },
    {
      "cell_type": "code",
      "metadata": {
        "id": "TBAZ_ME-nhKV",
        "colab_type": "code",
        "colab": {
          "base_uri": "https://localhost:8080/",
          "height": 391
        },
        "outputId": "1db57a5a-b7fb-4a1a-e41b-a08207fd179a"
      },
      "source": [
        "Z = np.ones((16,16))\n",
        "print(Z , '\\n'  '________________________________'  '\\n')\n",
        "k = 4\n",
        "S = np.add.reduceat(np.add.reduceat(Z, np.arange(0, Z.shape[0], k), axis=0),\n",
        "                                       np.arange(0, Z.shape[1], k), axis=1)\n",
        "print(S)"
      ],
      "execution_count": null,
      "outputs": [
        {
          "output_type": "stream",
          "text": [
            "[[1. 1. 1. 1. 1. 1. 1. 1. 1. 1. 1. 1. 1. 1. 1. 1.]\n",
            " [1. 1. 1. 1. 1. 1. 1. 1. 1. 1. 1. 1. 1. 1. 1. 1.]\n",
            " [1. 1. 1. 1. 1. 1. 1. 1. 1. 1. 1. 1. 1. 1. 1. 1.]\n",
            " [1. 1. 1. 1. 1. 1. 1. 1. 1. 1. 1. 1. 1. 1. 1. 1.]\n",
            " [1. 1. 1. 1. 1. 1. 1. 1. 1. 1. 1. 1. 1. 1. 1. 1.]\n",
            " [1. 1. 1. 1. 1. 1. 1. 1. 1. 1. 1. 1. 1. 1. 1. 1.]\n",
            " [1. 1. 1. 1. 1. 1. 1. 1. 1. 1. 1. 1. 1. 1. 1. 1.]\n",
            " [1. 1. 1. 1. 1. 1. 1. 1. 1. 1. 1. 1. 1. 1. 1. 1.]\n",
            " [1. 1. 1. 1. 1. 1. 1. 1. 1. 1. 1. 1. 1. 1. 1. 1.]\n",
            " [1. 1. 1. 1. 1. 1. 1. 1. 1. 1. 1. 1. 1. 1. 1. 1.]\n",
            " [1. 1. 1. 1. 1. 1. 1. 1. 1. 1. 1. 1. 1. 1. 1. 1.]\n",
            " [1. 1. 1. 1. 1. 1. 1. 1. 1. 1. 1. 1. 1. 1. 1. 1.]\n",
            " [1. 1. 1. 1. 1. 1. 1. 1. 1. 1. 1. 1. 1. 1. 1. 1.]\n",
            " [1. 1. 1. 1. 1. 1. 1. 1. 1. 1. 1. 1. 1. 1. 1. 1.]\n",
            " [1. 1. 1. 1. 1. 1. 1. 1. 1. 1. 1. 1. 1. 1. 1. 1.]\n",
            " [1. 1. 1. 1. 1. 1. 1. 1. 1. 1. 1. 1. 1. 1. 1. 1.]] \n",
            "________________________________\n",
            "\n",
            "[[16. 16. 16. 16.]\n",
            " [16. 16. 16. 16.]\n",
            " [16. 16. 16. 16.]\n",
            " [16. 16. 16. 16.]]\n"
          ],
          "name": "stdout"
        }
      ]
    },
    {
      "cell_type": "markdown",
      "metadata": {
        "id": "C6iHX9uUnhKX",
        "colab_type": "text"
      },
      "source": [
        "#### 88. How to implement the Game of Life using numpy arrays? (★★★)\n",
        "Как реализовать Game of Life, используя массивы?"
      ]
    },
    {
      "cell_type": "code",
      "metadata": {
        "id": "XBajDKLdnhKX",
        "colab_type": "code",
        "colab": {
          "base_uri": "https://localhost:8080/",
          "height": 136
        },
        "outputId": "805bbe2e-9ae2-490b-f350-e941cb95be5e"
      },
      "source": [
        "def iterate(Z):\n",
        "    # Count neighbours\n",
        "    N = (Z[0:-2,0:-2] + Z[0:-2,1:-1] + Z[0:-2,2:] +\n",
        "         Z[1:-1,0:-2]                + Z[1:-1,2:] +\n",
        "         Z[2:  ,0:-2] + Z[2:  ,1:-1] + Z[2:  ,2:])\n",
        "\n",
        "    # Apply rules\n",
        "    birth = (N==3) & (Z[1:-1,1:-1]==0)\n",
        "    survive = ((N==2) | (N==3)) & (Z[1:-1,1:-1]==1)\n",
        "    Z[...] = 0\n",
        "    Z[1:-1,1:-1][birth | survive] = 1\n",
        "    return Z\n",
        "\n",
        "Z = np.random.randint(0,2,(50,50))\n",
        "for i in range(100): Z = iterate(Z)\n",
        "print(Z)"
      ],
      "execution_count": null,
      "outputs": [
        {
          "output_type": "stream",
          "text": [
            "[[0 0 0 ... 0 0 0]\n",
            " [0 0 0 ... 0 0 0]\n",
            " [0 0 0 ... 0 0 0]\n",
            " ...\n",
            " [0 0 0 ... 0 0 0]\n",
            " [0 0 0 ... 0 0 0]\n",
            " [0 0 0 ... 0 0 0]]\n"
          ],
          "name": "stdout"
        }
      ]
    },
    {
      "cell_type": "markdown",
      "metadata": {
        "id": "xr9aTRtMgRyZ",
        "colab_type": "text"
      },
      "source": [
        "https://ru.wikipedia.org/wiki/Игра_«Жизнь»#Компьютерная_реализация"
      ]
    },
    {
      "cell_type": "markdown",
      "metadata": {
        "id": "TpJ51NiwnhKY",
        "colab_type": "text"
      },
      "source": [
        "#### 89. How to get the n largest values of an array (★★★)\n",
        "Как получить n самых больших значений массива"
      ]
    },
    {
      "cell_type": "code",
      "metadata": {
        "id": "2PQbIiuAnhKZ",
        "colab_type": "code",
        "colab": {
          "base_uri": "https://localhost:8080/",
          "height": 238
        },
        "outputId": "e87797fd-1fa5-4996-9ce9-dcff361fbcd1"
      },
      "source": [
        "Z = np.arange(10000)\n",
        "print(Z , '\\n'  '________________________________'  '\\n')\n",
        "np.random.shuffle(Z)\n",
        "print(Z , '\\n'  '________________________________'  '\\n')\n",
        "n = 5\n",
        "print (Z[np.argsort(Z)[-n:]] , '\\n'  '________________________________'  '\\n')\n",
        "print(np.argsort(Z)[-n:] , '\\n'  '________________________________'  '\\n')\n",
        "print (Z[np.argpartition(-Z,n)[:n]])"
      ],
      "execution_count": null,
      "outputs": [
        {
          "output_type": "stream",
          "text": [
            "[   0    1    2 ... 9997 9998 9999] \n",
            "________________________________\n",
            "\n",
            "[5302 4671 8642 ... 7446 6625 5322] \n",
            "________________________________\n",
            "\n",
            "[9995 9996 9997 9998 9999] \n",
            "________________________________\n",
            "\n",
            "[1463 5241 6921 6116  750] \n",
            "________________________________\n",
            "\n",
            "[9999 9998 9997 9996 9995]\n"
          ],
          "name": "stdout"
        }
      ]
    },
    {
      "cell_type": "markdown",
      "metadata": {
        "id": "NkE2IzvfiUPY",
        "colab_type": "text"
      },
      "source": [
        "np.argsort --- https://numpy.org/doc/stable/reference/generated/numpy.argsort.html?highlight=argsort#numpy.argsort"
      ]
    },
    {
      "cell_type": "markdown",
      "metadata": {
        "id": "WZEh1NXFiaUi",
        "colab_type": "text"
      },
      "source": [
        ""
      ]
    },
    {
      "cell_type": "markdown",
      "metadata": {
        "id": "pk3BkXRjg_Ap",
        "colab_type": "text"
      },
      "source": [
        "numpy.random.shuffle --- https://numpy.org/doc/stable/reference/random/generated/numpy.random.shuffle.html?highlight=random%20shuffle#numpy.random.shuffle"
      ]
    },
    {
      "cell_type": "markdown",
      "metadata": {
        "id": "MrPItHEAnhKb",
        "colab_type": "text"
      },
      "source": [
        "#### 90. Given an arbitrary number of vectors, build the cartesian product (every combinations of every item) (★★★)\n",
        "Учитывая произвольное количество векторов, построить декартово произведение (каждую комбинацию каждого элемента)"
      ]
    },
    {
      "cell_type": "code",
      "metadata": {
        "id": "V7Gq2ndjnhKb",
        "colab_type": "code",
        "colab": {
          "base_uri": "https://localhost:8080/",
          "height": 221
        },
        "outputId": "b8fa20e6-dd80-4e88-b46e-db22e6d78671"
      },
      "source": [
        "def cartesian(arrays):\n",
        "    arrays = [np.asarray(a) for a in arrays]\n",
        "    shape = (len(x) for x in arrays)\n",
        "\n",
        "    ix = np.indices(shape, dtype=int)\n",
        "    ix = ix.reshape(len(arrays), -1).T\n",
        "\n",
        "    for n, arr in enumerate(arrays):\n",
        "        ix[:, n] = arrays[n][ix[:, n]]\n",
        "\n",
        "    return ix\n",
        "\n",
        "print (cartesian(([1, 2, 3], [4, 5], [6, 7])))"
      ],
      "execution_count": null,
      "outputs": [
        {
          "output_type": "stream",
          "text": [
            "[[1 4 6]\n",
            " [1 4 7]\n",
            " [1 5 6]\n",
            " [1 5 7]\n",
            " [2 4 6]\n",
            " [2 4 7]\n",
            " [2 5 6]\n",
            " [2 5 7]\n",
            " [3 4 6]\n",
            " [3 4 7]\n",
            " [3 5 6]\n",
            " [3 5 7]]\n"
          ],
          "name": "stdout"
        }
      ]
    },
    {
      "cell_type": "markdown",
      "metadata": {
        "id": "Nj4fAJeFnhKc",
        "colab_type": "text"
      },
      "source": [
        "#### 91. How to create a record array from a regular array? (★★★)\n",
        "Как создать массив записей из обычного массива"
      ]
    },
    {
      "cell_type": "code",
      "metadata": {
        "id": "y1AQ6kAZnhKd",
        "colab_type": "code",
        "colab": {
          "base_uri": "https://localhost:8080/",
          "height": 102
        },
        "outputId": "8507cc8b-f9bb-47d6-da66-e26ed3ba2058"
      },
      "source": [
        "Z = np.array([(\"Hello\", 2.5, 3),\n",
        "              (\"World\", 3.6, 2)])\n",
        "print(Z , '\\n'  '________________________________'  '\\n')\n",
        "R = np.core.records.fromarrays(Z.T,\n",
        "                               names='col1, col2, col3',\n",
        "                               formats = 'S8, f8, i8')\n",
        "print(R)"
      ],
      "execution_count": 3,
      "outputs": [
        {
          "output_type": "stream",
          "text": [
            "[['Hello' '2.5' '3']\n",
            " ['World' '3.6' '2']] \n",
            "________________________________\n",
            "\n",
            "[(b'Hello', 2.5, 3) (b'World', 3.6, 2)]\n"
          ],
          "name": "stdout"
        }
      ]
    },
    {
      "cell_type": "markdown",
      "metadata": {
        "id": "IZ6iqeqLKgvL",
        "colab_type": "text"
      },
      "source": [
        "numpy.core.records.fromarrays ------\n",
        "numpy.core.records.fromarrays(arrayList, dtype=None, shape=None, formats=None, names=None, titles=None, aligned=False, byteorder=None)[source]\n",
        "\n",
        "\n",
        "create a record array from a (flat) list of arrays\n",
        "\n",
        ">>>\n",
        "x1=np.array([1,2,3,4])\n",
        "x2=np.array(['a','dd','xyz','12'])\n",
        "x3=np.array([1.1,2,3,4])\n",
        "r = np.core.records.fromarrays([x1,x2,x3],names='a,b,c')\n",
        "print(r[1])\n",
        "(2, 'dd', 2.0) # may vary\n",
        "x1[1]=34\n",
        "r.a\n",
        "array([1, 2, 3, 4])"
      ]
    },
    {
      "cell_type": "code",
      "metadata": {
        "id": "Wdd2hC2WKdwu",
        "colab_type": "code",
        "colab": {}
      },
      "source": [
        ""
      ],
      "execution_count": null,
      "outputs": []
    },
    {
      "cell_type": "markdown",
      "metadata": {
        "id": "Bfc1mH3KKdgH",
        "colab_type": "text"
      },
      "source": [
        ""
      ]
    },
    {
      "cell_type": "markdown",
      "metadata": {
        "id": "uni76ZZiGafU",
        "colab_type": "text"
      },
      "source": [
        ""
      ]
    },
    {
      "cell_type": "markdown",
      "metadata": {
        "id": "R8xqZpUgnhKe",
        "colab_type": "text"
      },
      "source": [
        "#### 92. Consider a large vector Z, compute Z to the power of 3 using 3 different methods (★★★)\n",
        "Рассмотрим большой вектор Z, вычислим Z до степени 3, используя 3 разных метода"
      ]
    },
    {
      "cell_type": "code",
      "metadata": {
        "id": "xIn25cPonhKe",
        "colab_type": "code",
        "colab": {
          "base_uri": "https://localhost:8080/",
          "height": 707
        },
        "outputId": "4a4c3fd1-36e4-4f4b-fb7e-b639082badd7"
      },
      "source": [
        "x = np.random.rand(5, 2)\n",
        "print(x , '\\n'  '________________________________'  '\\n')\n",
        "\n",
        "print(np.power(x,3),  '\\n'  '________________________________'  '\\n')\n",
        "print(x*x*x , '\\n'  '________________________________'  '\\n')\n",
        "print(np.einsum('i,i,i->i',x,x,x) , '\\n'  '________________________________'  '\\n')"
      ],
      "execution_count": 12,
      "outputs": [
        {
          "output_type": "stream",
          "text": [
            "[[0.41632907 0.74557782]\n",
            " [0.07843936 0.4850298 ]\n",
            " [0.90269639 0.65841466]\n",
            " [0.66239404 0.3298604 ]\n",
            " [0.00894506 0.23889943]] \n",
            "________________________________\n",
            "\n",
            "[[7.21622741e-02 4.14456480e-01]\n",
            " [4.82616515e-04 1.14105152e-01]\n",
            " [7.35571867e-01 2.85429247e-01]\n",
            " [2.90635892e-01 3.58914104e-02]\n",
            " [7.15731816e-07 1.36346921e-02]] \n",
            "________________________________\n",
            "\n",
            "[[7.21622741e-02 4.14456480e-01]\n",
            " [4.82616515e-04 1.14105152e-01]\n",
            " [7.35571867e-01 2.85429247e-01]\n",
            " [2.90635892e-01 3.58914104e-02]\n",
            " [7.15731816e-07 1.36346921e-02]] \n",
            "________________________________\n",
            "\n"
          ],
          "name": "stdout"
        },
        {
          "output_type": "error",
          "ename": "ValueError",
          "evalue": "ignored",
          "traceback": [
            "\u001b[0;31m---------------------------------------------------------------------------\u001b[0m",
            "\u001b[0;31mValueError\u001b[0m                                Traceback (most recent call last)",
            "\u001b[0;32m<ipython-input-12-7a56ca833bda>\u001b[0m in \u001b[0;36m<module>\u001b[0;34m()\u001b[0m\n\u001b[1;32m      4\u001b[0m \u001b[0mprint\u001b[0m\u001b[0;34m(\u001b[0m\u001b[0mnp\u001b[0m\u001b[0;34m.\u001b[0m\u001b[0mpower\u001b[0m\u001b[0;34m(\u001b[0m\u001b[0mx\u001b[0m\u001b[0;34m,\u001b[0m\u001b[0;36m3\u001b[0m\u001b[0;34m)\u001b[0m\u001b[0;34m,\u001b[0m  \u001b[0;34m'\\n'\u001b[0m  \u001b[0;34m'________________________________'\u001b[0m  \u001b[0;34m'\\n'\u001b[0m\u001b[0;34m)\u001b[0m\u001b[0;34m\u001b[0m\u001b[0;34m\u001b[0m\u001b[0m\n\u001b[1;32m      5\u001b[0m \u001b[0mprint\u001b[0m\u001b[0;34m(\u001b[0m\u001b[0mx\u001b[0m\u001b[0;34m*\u001b[0m\u001b[0mx\u001b[0m\u001b[0;34m*\u001b[0m\u001b[0mx\u001b[0m \u001b[0;34m,\u001b[0m \u001b[0;34m'\\n'\u001b[0m  \u001b[0;34m'________________________________'\u001b[0m  \u001b[0;34m'\\n'\u001b[0m\u001b[0;34m)\u001b[0m\u001b[0;34m\u001b[0m\u001b[0;34m\u001b[0m\u001b[0m\n\u001b[0;32m----> 6\u001b[0;31m \u001b[0mprint\u001b[0m\u001b[0;34m(\u001b[0m\u001b[0mnp\u001b[0m\u001b[0;34m.\u001b[0m\u001b[0meinsum\u001b[0m\u001b[0;34m(\u001b[0m\u001b[0;34m'i,i,i->i'\u001b[0m\u001b[0;34m,\u001b[0m\u001b[0mx\u001b[0m\u001b[0;34m,\u001b[0m\u001b[0mx\u001b[0m\u001b[0;34m,\u001b[0m\u001b[0mx\u001b[0m\u001b[0;34m)\u001b[0m \u001b[0;34m,\u001b[0m \u001b[0;34m'\\n'\u001b[0m  \u001b[0;34m'________________________________'\u001b[0m  \u001b[0;34m'\\n'\u001b[0m\u001b[0;34m)\u001b[0m\u001b[0;34m\u001b[0m\u001b[0;34m\u001b[0m\u001b[0m\n\u001b[0m",
            "\u001b[0;32m<__array_function__ internals>\u001b[0m in \u001b[0;36meinsum\u001b[0;34m(*args, **kwargs)\u001b[0m\n",
            "\u001b[0;32m/usr/local/lib/python3.6/dist-packages/numpy/core/einsumfunc.py\u001b[0m in \u001b[0;36meinsum\u001b[0;34m(*operands, **kwargs)\u001b[0m\n\u001b[1;32m   1354\u001b[0m     \u001b[0;31m# If no optimization, run pure einsum\u001b[0m\u001b[0;34m\u001b[0m\u001b[0;34m\u001b[0m\u001b[0;34m\u001b[0m\u001b[0m\n\u001b[1;32m   1355\u001b[0m     \u001b[0;32mif\u001b[0m \u001b[0moptimize_arg\u001b[0m \u001b[0;32mis\u001b[0m \u001b[0;32mFalse\u001b[0m\u001b[0;34m:\u001b[0m\u001b[0;34m\u001b[0m\u001b[0;34m\u001b[0m\u001b[0m\n\u001b[0;32m-> 1356\u001b[0;31m         \u001b[0;32mreturn\u001b[0m \u001b[0mc_einsum\u001b[0m\u001b[0;34m(\u001b[0m\u001b[0;34m*\u001b[0m\u001b[0moperands\u001b[0m\u001b[0;34m,\u001b[0m \u001b[0;34m**\u001b[0m\u001b[0mkwargs\u001b[0m\u001b[0;34m)\u001b[0m\u001b[0;34m\u001b[0m\u001b[0;34m\u001b[0m\u001b[0m\n\u001b[0m\u001b[1;32m   1357\u001b[0m \u001b[0;34m\u001b[0m\u001b[0m\n\u001b[1;32m   1358\u001b[0m     \u001b[0mvalid_einsum_kwargs\u001b[0m \u001b[0;34m=\u001b[0m \u001b[0;34m[\u001b[0m\u001b[0;34m'out'\u001b[0m\u001b[0;34m,\u001b[0m \u001b[0;34m'dtype'\u001b[0m\u001b[0;34m,\u001b[0m \u001b[0;34m'order'\u001b[0m\u001b[0;34m,\u001b[0m \u001b[0;34m'casting'\u001b[0m\u001b[0;34m]\u001b[0m\u001b[0;34m\u001b[0m\u001b[0;34m\u001b[0m\u001b[0m\n",
            "\u001b[0;31mValueError\u001b[0m: operand has more dimensions than subscripts given in einstein sum, but no '...' ellipsis provided to broadcast the extra dimensions."
          ]
        }
      ]
    },
    {
      "cell_type": "markdown",
      "metadata": {
        "id": "kWQV7IhqnhKh",
        "colab_type": "text"
      },
      "source": [
        "#### 93. Consider two arrays A and B of shape (8,3) and (2,2). How to find rows of A that contain elements of each row of B regardless of the order of the elements in B? (★★★)"
      ]
    },
    {
      "cell_type": "code",
      "metadata": {
        "id": "MsTnY37MnhKh",
        "colab_type": "code",
        "colab": {
          "base_uri": "https://localhost:8080/",
          "height": 272
        },
        "outputId": "138099a5-69be-4139-9453-e9a8cd21d65f"
      },
      "source": [
        "A = np.random.randint(0,5,(8,3))\n",
        "print(A , '\\n'  '________________________________'  '\\n')\n",
        "\n",
        "B = np.random.randint(0,5,(2,2))\n",
        "print(B , '\\n'  '________________________________'  '\\n')\n",
        "\n",
        "C = (A[..., np.newaxis, np.newaxis] == B)\n",
        "rows = np.where(C.any((3,1)).all(1))[0]\n",
        "print(rows)\n",
        "\n"
      ],
      "execution_count": 16,
      "outputs": [
        {
          "output_type": "stream",
          "text": [
            "[[0 3 3]\n",
            " [1 3 4]\n",
            " [1 1 3]\n",
            " [0 3 4]\n",
            " [1 2 2]\n",
            " [3 4 1]\n",
            " [4 0 4]\n",
            " [3 2 4]] \n",
            "________________________________\n",
            "\n",
            "[[4 2]\n",
            " [3 4]] \n",
            "________________________________\n",
            "\n",
            "[1 3 5 6 7]\n"
          ],
          "name": "stdout"
        }
      ]
    },
    {
      "cell_type": "markdown",
      "metadata": {
        "id": "YEAtdgbcnhKi",
        "colab_type": "text"
      },
      "source": [
        "#### 94. Considering a 10x3 matrix, extract rows with unequal values (e.g. [2,2,3]) (★★★)\n",
        "Рассматривая матрицу 10х3, извлеките строки с неравными значениями (например [2,2,3])"
      ]
    },
    {
      "cell_type": "code",
      "metadata": {
        "id": "uBCkGlgbnhKi",
        "colab_type": "code",
        "colab": {
          "base_uri": "https://localhost:8080/",
          "height": 612
        },
        "outputId": "301b9edc-2002-4811-9cfd-48a2f24f5954"
      },
      "source": [
        "Z = np.random.randint(0,5,(10,3))\n",
        "print(Z , '\\n'  '________________________________'  '\\n')\n",
        "# solution for arrays of all dtypes (including string arrays and record arrays)\n",
        "E = np.all(Z[:,1:] == Z[:,:-1], axis=1) # all - Проверьте, все ли элементы массива вдоль заданной оси оцениваются в True\n",
        "print(E , '\\n'  '________________________________'  '\\n')\n",
        "U = Z[~E]\n",
        "print(U , '\\n'  '________________________________'  '\\n')\n",
        "# soluiton for numerical arrays only, will work for any number of columns in Z\n",
        "U = Z[Z.max(axis=1) != Z.min(axis=1),:]\n",
        "print(U)"
      ],
      "execution_count": 25,
      "outputs": [
        {
          "output_type": "stream",
          "text": [
            "[[1 1 1]\n",
            " [3 1 0]\n",
            " [2 3 0]\n",
            " [0 1 3]\n",
            " [4 4 1]\n",
            " [4 0 4]\n",
            " [0 1 1]\n",
            " [0 0 2]\n",
            " [3 0 2]\n",
            " [1 2 4]] \n",
            "________________________________\n",
            "\n",
            "[ True False False False False False False False False False] \n",
            "________________________________\n",
            "\n",
            "[[3 1 0]\n",
            " [2 3 0]\n",
            " [0 1 3]\n",
            " [4 4 1]\n",
            " [4 0 4]\n",
            " [0 1 1]\n",
            " [0 0 2]\n",
            " [3 0 2]\n",
            " [1 2 4]] \n",
            "________________________________\n",
            "\n",
            "[[3 1 0]\n",
            " [2 3 0]\n",
            " [0 1 3]\n",
            " [4 4 1]\n",
            " [4 0 4]\n",
            " [0 1 1]\n",
            " [0 0 2]\n",
            " [3 0 2]\n",
            " [1 2 4]]\n"
          ],
          "name": "stdout"
        }
      ]
    },
    {
      "cell_type": "markdown",
      "metadata": {
        "id": "iHzplcbbnhKj",
        "colab_type": "text"
      },
      "source": [
        "#### 95. Convert a vector of ints into a matrix binary representation (★★★)\n",
        "Преобразование вектора интов в матричное двоичное представление"
      ]
    },
    {
      "cell_type": "code",
      "metadata": {
        "id": "JGhMZhoFnhKj",
        "colab_type": "code",
        "colab": {
          "base_uri": "https://localhost:8080/",
          "height": 833
        },
        "outputId": "2802090b-c7b8-4bfb-8439-c72d6d5fc3a9"
      },
      "source": [
        "I = np.array([0, 1, 2, 3, 15, 16, 32, 64, 128])\n",
        "print(I , '\\n'  '________________________________'  '\\n')\n",
        "B = ((I.reshape(-1,1) & (2**np.arange(8))) != 0).astype(int)\n",
        "print(((I.reshape(-1,1) & (2**np.arange(8))) ) , '\\n'  '________________________________'  '\\n')\n",
        "print((2**np.arange(8)) , '\\n'  '2**np.arange(8)________________________________'  '\\n')\n",
        "print(I.reshape(-1,1) , '\\n'  'reshape________________________________'  '\\n')\n",
        "print(B , '\\n'  '________________________________'  '\\n')\n",
        "print(B[:,::-1])"
      ],
      "execution_count": 33,
      "outputs": [
        {
          "output_type": "stream",
          "text": [
            "[  0   1   2   3  15  16  32  64 128] \n",
            "________________________________\n",
            "\n",
            "[[  0   0   0   0   0   0   0   0]\n",
            " [  1   0   0   0   0   0   0   0]\n",
            " [  0   2   0   0   0   0   0   0]\n",
            " [  1   2   0   0   0   0   0   0]\n",
            " [  1   2   4   8   0   0   0   0]\n",
            " [  0   0   0   0  16   0   0   0]\n",
            " [  0   0   0   0   0  32   0   0]\n",
            " [  0   0   0   0   0   0  64   0]\n",
            " [  0   0   0   0   0   0   0 128]] \n",
            "________________________________\n",
            "\n",
            "[  1   2   4   8  16  32  64 128] \n",
            "2**np.arange(8)________________________________\n",
            "\n",
            "[[  0]\n",
            " [  1]\n",
            " [  2]\n",
            " [  3]\n",
            " [ 15]\n",
            " [ 16]\n",
            " [ 32]\n",
            " [ 64]\n",
            " [128]] \n",
            "reshape________________________________\n",
            "\n",
            "[[0 0 0 0 0 0 0 0]\n",
            " [1 0 0 0 0 0 0 0]\n",
            " [0 1 0 0 0 0 0 0]\n",
            " [1 1 0 0 0 0 0 0]\n",
            " [1 1 1 1 0 0 0 0]\n",
            " [0 0 0 0 1 0 0 0]\n",
            " [0 0 0 0 0 1 0 0]\n",
            " [0 0 0 0 0 0 1 0]\n",
            " [0 0 0 0 0 0 0 1]] \n",
            "________________________________\n",
            "\n",
            "[[0 0 0 0 0 0 0 0]\n",
            " [0 0 0 0 0 0 0 1]\n",
            " [0 0 0 0 0 0 1 0]\n",
            " [0 0 0 0 0 0 1 1]\n",
            " [0 0 0 0 1 1 1 1]\n",
            " [0 0 0 1 0 0 0 0]\n",
            " [0 0 1 0 0 0 0 0]\n",
            " [0 1 0 0 0 0 0 0]\n",
            " [1 0 0 0 0 0 0 0]]\n"
          ],
          "name": "stdout"
        }
      ]
    },
    {
      "cell_type": "markdown",
      "metadata": {
        "id": "vS__MbwOnhKk",
        "colab_type": "text"
      },
      "source": [
        "#### 96. Given a two dimensional array, how to extract unique rows? (★★★)"
      ]
    },
    {
      "cell_type": "code",
      "metadata": {
        "id": "8YJ3nWtznhKk",
        "colab_type": "code",
        "colab": {
          "base_uri": "https://localhost:8080/",
          "height": 170
        },
        "outputId": "5d92e539-511a-412c-dd6a-d4accb7e5ebf"
      },
      "source": [
        "Z = np.random.randint(0,2,(6,3))\n",
        "print(Z , '\\n'  '________________________________'  '\\n')\n",
        "A = np.unique(Z, axis=0)\n",
        "print(A)"
      ],
      "execution_count": 36,
      "outputs": [
        {
          "output_type": "stream",
          "text": [
            "[[0 1 0]\n",
            " [0 0 1]\n",
            " [1 1 0]\n",
            " [1 0 0]\n",
            " [1 1 1]\n",
            " [0 0 0]] \n",
            "________________________________\n",
            "\n",
            "[0 1]\n"
          ],
          "name": "stdout"
        }
      ]
    },
    {
      "cell_type": "markdown",
      "metadata": {
        "id": "lv__5ibynhKl",
        "colab_type": "text"
      },
      "source": [
        "#### 97. Considering 2 vectors A & B, write the einsum equivalent of inner, outer, sum, and mul function (★★★)"
      ]
    },
    {
      "cell_type": "code",
      "metadata": {
        "id": "faq2g74LnhKl",
        "colab_type": "code",
        "colab": {}
      },
      "source": [
        ""
      ],
      "execution_count": null,
      "outputs": []
    },
    {
      "cell_type": "markdown",
      "metadata": {
        "id": "CYU3zQmQnhKm",
        "colab_type": "text"
      },
      "source": [
        "#### 98. Considering a path described by two vectors (X,Y), how to sample it using equidistant samples (★★★)?"
      ]
    },
    {
      "cell_type": "code",
      "metadata": {
        "id": "HrJsbMVEnhKm",
        "colab_type": "code",
        "colab": {}
      },
      "source": [
        ""
      ],
      "execution_count": null,
      "outputs": []
    },
    {
      "cell_type": "markdown",
      "metadata": {
        "id": "qUREQgnGnhKn",
        "colab_type": "text"
      },
      "source": [
        "#### 99. Given an integer n and a 2D array X, select from X the rows which can be interpreted as draws from a multinomial distribution with n degrees, i.e., the rows which only contain integers and which sum to n. (★★★)"
      ]
    },
    {
      "cell_type": "code",
      "metadata": {
        "id": "LBTDc96LnhKn",
        "colab_type": "code",
        "colab": {}
      },
      "source": [
        ""
      ],
      "execution_count": null,
      "outputs": []
    },
    {
      "cell_type": "markdown",
      "metadata": {
        "id": "pXuRexGanhKo",
        "colab_type": "text"
      },
      "source": [
        "#### 100. Compute bootstrapped 95% confidence intervals for the mean of a 1D array X (i.e., resample the elements of an array with replacement N times, compute the mean of each sample, and then compute percentiles over the means). (★★★)"
      ]
    },
    {
      "cell_type": "code",
      "metadata": {
        "id": "v-qLL5p5nhKo",
        "colab_type": "code",
        "colab": {
          "base_uri": "https://localhost:8080/",
          "height": 323
        },
        "outputId": "c19acd03-33fb-4a24-e775-4af8a69df1b6"
      },
      "source": [
        "X = np.random.randn(10) \n",
        "print(X , '\\n' ,X.size, '\\n'  '________________________________'  '\\n')\n",
        "N = 10 # number of bootstrap samples\n",
        "a = np.random.randint(0, X.size, (N, X.size))\n",
        "print(a , '\\n'  '________________________________'  '\\n')\n",
        "means = X[a].mean(axis=1)\n",
        "confint = np.percentile(means, [2.5, 97.5])\n",
        "print(confint)"
      ],
      "execution_count": 44,
      "outputs": [
        {
          "output_type": "stream",
          "text": [
            "[ 0.73094182 -0.01957284  0.5105177  -1.76728327 -1.26599956 -0.21757776\n",
            " -0.85290045 -1.10005214  0.33544027 -0.32758729] \n",
            " 10 \n",
            "________________________________\n",
            "\n",
            "[[2 7 7 9 5 6 1 4 0 1]\n",
            " [8 8 8 3 4 6 6 1 7 2]\n",
            " [5 9 8 2 4 4 3 5 8 1]\n",
            " [9 7 4 6 7 4 3 5 9 7]\n",
            " [4 9 5 5 9 7 2 2 2 3]\n",
            " [4 6 8 2 4 4 3 5 5 9]\n",
            " [0 8 7 7 0 0 5 5 5 2]\n",
            " [6 3 7 6 1 3 4 8 2 9]\n",
            " [5 4 4 6 7 8 6 3 6 4]\n",
            " [3 4 0 0 7 4 3 0 7 4]] \n",
            "________________________________\n",
            "\n",
            "[-0.92758349 -0.06798095]\n"
          ],
          "name": "stdout"
        }
      ]
    }
  ]
}
